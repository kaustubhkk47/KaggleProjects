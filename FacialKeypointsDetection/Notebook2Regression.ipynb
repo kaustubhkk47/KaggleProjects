{
 "cells": [
  {
   "cell_type": "code",
   "execution_count": 1,
   "metadata": {},
   "outputs": [],
   "source": [
    "import pandas as pd\n",
    "import numpy as np"
   ]
  },
  {
   "cell_type": "code",
   "execution_count": 2,
   "metadata": {},
   "outputs": [],
   "source": [
    "import sklearn"
   ]
  },
  {
   "cell_type": "code",
   "execution_count": 3,
   "metadata": {},
   "outputs": [],
   "source": [
    "%matplotlib inline\n",
    "import matplotlib.pyplot as plt\n",
    "import seaborn as sns"
   ]
  },
  {
   "cell_type": "code",
   "execution_count": 12,
   "metadata": {},
   "outputs": [],
   "source": [
    "random_state = 42"
   ]
  },
  {
   "cell_type": "code",
   "execution_count": 4,
   "metadata": {},
   "outputs": [],
   "source": [
    "train = pd.read_feather('SaveFiles/train.feather')"
   ]
  },
  {
   "cell_type": "code",
   "execution_count": 47,
   "metadata": {},
   "outputs": [],
   "source": [
    "test = pd.read_feather('SaveFiles/test.feather')"
   ]
  },
  {
   "cell_type": "code",
   "execution_count": 17,
   "metadata": {},
   "outputs": [],
   "source": [
    "train.drop('Image', inplace=True, axis=1)"
   ]
  },
  {
   "cell_type": "code",
   "execution_count": 48,
   "metadata": {},
   "outputs": [],
   "source": [
    "test.drop('Image', inplace=True, axis=1)"
   ]
  },
  {
   "cell_type": "code",
   "execution_count": 5,
   "metadata": {},
   "outputs": [],
   "source": [
    "model_data = train.dropna()"
   ]
  },
  {
   "cell_type": "code",
   "execution_count": 13,
   "metadata": {},
   "outputs": [],
   "source": [
    "del(train)"
   ]
  },
  {
   "cell_type": "code",
   "execution_count": 6,
   "metadata": {},
   "outputs": [
    {
     "data": {
      "text/plain": [
       "0.3035891615832033"
      ]
     },
     "execution_count": 6,
     "metadata": {},
     "output_type": "execute_result"
    }
   ],
   "source": [
    "len(model_data)/len(train)"
   ]
  },
  {
   "cell_type": "code",
   "execution_count": 7,
   "metadata": {},
   "outputs": [],
   "source": [
    "from sklearn.linear_model import LinearRegression\n",
    "mae =  sklearn.metrics.mean_absolute_error\n",
    "mse = sklearn.metrics.mean_squared_error"
   ]
  },
  {
   "cell_type": "code",
   "execution_count": 8,
   "metadata": {},
   "outputs": [],
   "source": [
    "def rmse(x):\n",
    "    return np.sqrt(mse(x))"
   ]
  },
  {
   "cell_type": "code",
   "execution_count": 23,
   "metadata": {},
   "outputs": [],
   "source": [
    "model_Y = model_data.iloc[:,0:30]\n",
    "model_X = model_data.iloc[:,30:]"
   ]
  },
  {
   "cell_type": "code",
   "execution_count": 51,
   "metadata": {},
   "outputs": [],
   "source": [
    "test_X = test.iloc[:,1:]"
   ]
  },
  {
   "cell_type": "code",
   "execution_count": 53,
   "metadata": {},
   "outputs": [
    {
     "data": {
      "text/html": [
       "<div>\n",
       "<style scoped>\n",
       "    .dataframe tbody tr th:only-of-type {\n",
       "        vertical-align: middle;\n",
       "    }\n",
       "\n",
       "    .dataframe tbody tr th {\n",
       "        vertical-align: top;\n",
       "    }\n",
       "\n",
       "    .dataframe thead th {\n",
       "        text-align: right;\n",
       "    }\n",
       "</style>\n",
       "<table border=\"1\" class=\"dataframe\">\n",
       "  <thead>\n",
       "    <tr style=\"text-align: right;\">\n",
       "      <th></th>\n",
       "      <th>pixel_0</th>\n",
       "      <th>pixel_1</th>\n",
       "      <th>pixel_2</th>\n",
       "      <th>pixel_3</th>\n",
       "      <th>pixel_4</th>\n",
       "      <th>pixel_5</th>\n",
       "      <th>pixel_6</th>\n",
       "      <th>pixel_7</th>\n",
       "      <th>pixel_8</th>\n",
       "      <th>pixel_9</th>\n",
       "      <th>...</th>\n",
       "      <th>pixel_9206</th>\n",
       "      <th>pixel_9207</th>\n",
       "      <th>pixel_9208</th>\n",
       "      <th>pixel_9209</th>\n",
       "      <th>pixel_9210</th>\n",
       "      <th>pixel_9211</th>\n",
       "      <th>pixel_9212</th>\n",
       "      <th>pixel_9213</th>\n",
       "      <th>pixel_9214</th>\n",
       "      <th>pixel_9215</th>\n",
       "    </tr>\n",
       "  </thead>\n",
       "  <tbody>\n",
       "    <tr>\n",
       "      <td>0</td>\n",
       "      <td>182</td>\n",
       "      <td>183</td>\n",
       "      <td>182</td>\n",
       "      <td>182</td>\n",
       "      <td>180</td>\n",
       "      <td>180</td>\n",
       "      <td>176</td>\n",
       "      <td>169</td>\n",
       "      <td>156</td>\n",
       "      <td>137</td>\n",
       "      <td>...</td>\n",
       "      <td>6</td>\n",
       "      <td>14</td>\n",
       "      <td>28</td>\n",
       "      <td>28</td>\n",
       "      <td>24</td>\n",
       "      <td>18</td>\n",
       "      <td>12</td>\n",
       "      <td>8</td>\n",
       "      <td>5</td>\n",
       "      <td>5</td>\n",
       "    </tr>\n",
       "    <tr>\n",
       "      <td>1</td>\n",
       "      <td>76</td>\n",
       "      <td>87</td>\n",
       "      <td>81</td>\n",
       "      <td>72</td>\n",
       "      <td>65</td>\n",
       "      <td>59</td>\n",
       "      <td>64</td>\n",
       "      <td>76</td>\n",
       "      <td>69</td>\n",
       "      <td>42</td>\n",
       "      <td>...</td>\n",
       "      <td>156</td>\n",
       "      <td>152</td>\n",
       "      <td>162</td>\n",
       "      <td>169</td>\n",
       "      <td>168</td>\n",
       "      <td>159</td>\n",
       "      <td>191</td>\n",
       "      <td>228</td>\n",
       "      <td>211</td>\n",
       "      <td>168</td>\n",
       "    </tr>\n",
       "    <tr>\n",
       "      <td>2</td>\n",
       "      <td>177</td>\n",
       "      <td>176</td>\n",
       "      <td>174</td>\n",
       "      <td>170</td>\n",
       "      <td>169</td>\n",
       "      <td>169</td>\n",
       "      <td>168</td>\n",
       "      <td>166</td>\n",
       "      <td>166</td>\n",
       "      <td>166</td>\n",
       "      <td>...</td>\n",
       "      <td>1</td>\n",
       "      <td>1</td>\n",
       "      <td>1</td>\n",
       "      <td>1</td>\n",
       "      <td>1</td>\n",
       "      <td>1</td>\n",
       "      <td>1</td>\n",
       "      <td>1</td>\n",
       "      <td>1</td>\n",
       "      <td>1</td>\n",
       "    </tr>\n",
       "    <tr>\n",
       "      <td>3</td>\n",
       "      <td>176</td>\n",
       "      <td>174</td>\n",
       "      <td>174</td>\n",
       "      <td>175</td>\n",
       "      <td>174</td>\n",
       "      <td>174</td>\n",
       "      <td>176</td>\n",
       "      <td>176</td>\n",
       "      <td>175</td>\n",
       "      <td>171</td>\n",
       "      <td>...</td>\n",
       "      <td>144</td>\n",
       "      <td>143</td>\n",
       "      <td>141</td>\n",
       "      <td>142</td>\n",
       "      <td>143</td>\n",
       "      <td>142</td>\n",
       "      <td>142</td>\n",
       "      <td>142</td>\n",
       "      <td>142</td>\n",
       "      <td>140</td>\n",
       "    </tr>\n",
       "    <tr>\n",
       "      <td>4</td>\n",
       "      <td>50</td>\n",
       "      <td>47</td>\n",
       "      <td>44</td>\n",
       "      <td>101</td>\n",
       "      <td>144</td>\n",
       "      <td>149</td>\n",
       "      <td>120</td>\n",
       "      <td>58</td>\n",
       "      <td>48</td>\n",
       "      <td>42</td>\n",
       "      <td>...</td>\n",
       "      <td>254</td>\n",
       "      <td>254</td>\n",
       "      <td>254</td>\n",
       "      <td>253</td>\n",
       "      <td>255</td>\n",
       "      <td>236</td>\n",
       "      <td>174</td>\n",
       "      <td>175</td>\n",
       "      <td>175</td>\n",
       "      <td>165</td>\n",
       "    </tr>\n",
       "  </tbody>\n",
       "</table>\n",
       "<p>5 rows × 9216 columns</p>\n",
       "</div>"
      ],
      "text/plain": [
       "  pixel_0 pixel_1 pixel_2 pixel_3 pixel_4 pixel_5 pixel_6 pixel_7 pixel_8  \\\n",
       "0     182     183     182     182     180     180     176     169     156   \n",
       "1      76      87      81      72      65      59      64      76      69   \n",
       "2     177     176     174     170     169     169     168     166     166   \n",
       "3     176     174     174     175     174     174     176     176     175   \n",
       "4      50      47      44     101     144     149     120      58      48   \n",
       "\n",
       "  pixel_9  ... pixel_9206 pixel_9207 pixel_9208 pixel_9209 pixel_9210  \\\n",
       "0     137  ...          6         14         28         28         24   \n",
       "1      42  ...        156        152        162        169        168   \n",
       "2     166  ...          1          1          1          1          1   \n",
       "3     171  ...        144        143        141        142        143   \n",
       "4      42  ...        254        254        254        253        255   \n",
       "\n",
       "  pixel_9211 pixel_9212 pixel_9213 pixel_9214 pixel_9215  \n",
       "0         18         12          8          5          5  \n",
       "1        159        191        228        211        168  \n",
       "2          1          1          1          1          1  \n",
       "3        142        142        142        142        140  \n",
       "4        236        174        175        175        165  \n",
       "\n",
       "[5 rows x 9216 columns]"
      ]
     },
     "execution_count": 53,
     "metadata": {},
     "output_type": "execute_result"
    }
   ],
   "source": [
    "test_X.head()"
   ]
  },
  {
   "cell_type": "code",
   "execution_count": 24,
   "metadata": {},
   "outputs": [],
   "source": [
    "train_test_split= sklearn.model_selection.train_test_split"
   ]
  },
  {
   "cell_type": "code",
   "execution_count": 25,
   "metadata": {},
   "outputs": [],
   "source": [
    "model_Y_train, model_Y_val, model_X_train, model_X_val = train_test_split(\n",
    "    model_Y, model_X, test_size = 0.2, random_state= random_state)"
   ]
  },
  {
   "cell_type": "code",
   "execution_count": 27,
   "metadata": {},
   "outputs": [
    {
     "data": {
      "text/html": [
       "<div>\n",
       "<style scoped>\n",
       "    .dataframe tbody tr th:only-of-type {\n",
       "        vertical-align: middle;\n",
       "    }\n",
       "\n",
       "    .dataframe tbody tr th {\n",
       "        vertical-align: top;\n",
       "    }\n",
       "\n",
       "    .dataframe thead th {\n",
       "        text-align: right;\n",
       "    }\n",
       "</style>\n",
       "<table border=\"1\" class=\"dataframe\">\n",
       "  <thead>\n",
       "    <tr style=\"text-align: right;\">\n",
       "      <th></th>\n",
       "      <th>left_eye_center_x</th>\n",
       "      <th>left_eye_center_y</th>\n",
       "      <th>right_eye_center_x</th>\n",
       "      <th>right_eye_center_y</th>\n",
       "      <th>left_eye_inner_corner_x</th>\n",
       "      <th>left_eye_inner_corner_y</th>\n",
       "      <th>left_eye_outer_corner_x</th>\n",
       "      <th>left_eye_outer_corner_y</th>\n",
       "      <th>right_eye_inner_corner_x</th>\n",
       "      <th>right_eye_inner_corner_y</th>\n",
       "      <th>...</th>\n",
       "      <th>nose_tip_x</th>\n",
       "      <th>nose_tip_y</th>\n",
       "      <th>mouth_left_corner_x</th>\n",
       "      <th>mouth_left_corner_y</th>\n",
       "      <th>mouth_right_corner_x</th>\n",
       "      <th>mouth_right_corner_y</th>\n",
       "      <th>mouth_center_top_lip_x</th>\n",
       "      <th>mouth_center_top_lip_y</th>\n",
       "      <th>mouth_center_bottom_lip_x</th>\n",
       "      <th>mouth_center_bottom_lip_y</th>\n",
       "    </tr>\n",
       "  </thead>\n",
       "  <tbody>\n",
       "    <tr>\n",
       "      <td>973</td>\n",
       "      <td>65.859024</td>\n",
       "      <td>37.614009</td>\n",
       "      <td>31.401071</td>\n",
       "      <td>38.289638</td>\n",
       "      <td>60.116409</td>\n",
       "      <td>39.303080</td>\n",
       "      <td>72.615307</td>\n",
       "      <td>37.951824</td>\n",
       "      <td>36.806551</td>\n",
       "      <td>39.303080</td>\n",
       "      <td>...</td>\n",
       "      <td>44.238614</td>\n",
       "      <td>62.274520</td>\n",
       "      <td>63.494551</td>\n",
       "      <td>77.814425</td>\n",
       "      <td>33.766299</td>\n",
       "      <td>78.152315</td>\n",
       "      <td>45.927307</td>\n",
       "      <td>72.747591</td>\n",
       "      <td>45.927307</td>\n",
       "      <td>88.624630</td>\n",
       "    </tr>\n",
       "    <tr>\n",
       "      <td>558</td>\n",
       "      <td>66.454252</td>\n",
       "      <td>39.431841</td>\n",
       "      <td>30.444079</td>\n",
       "      <td>36.860185</td>\n",
       "      <td>60.738119</td>\n",
       "      <td>39.717934</td>\n",
       "      <td>73.027391</td>\n",
       "      <td>40.575576</td>\n",
       "      <td>36.160212</td>\n",
       "      <td>37.431735</td>\n",
       "      <td>...</td>\n",
       "      <td>47.020291</td>\n",
       "      <td>60.294993</td>\n",
       "      <td>59.881113</td>\n",
       "      <td>82.872795</td>\n",
       "      <td>35.017113</td>\n",
       "      <td>82.015788</td>\n",
       "      <td>47.305748</td>\n",
       "      <td>78.014305</td>\n",
       "      <td>47.591841</td>\n",
       "      <td>89.732026</td>\n",
       "    </tr>\n",
       "    <tr>\n",
       "      <td>2263</td>\n",
       "      <td>64.394739</td>\n",
       "      <td>36.276100</td>\n",
       "      <td>31.050884</td>\n",
       "      <td>38.969615</td>\n",
       "      <td>56.314195</td>\n",
       "      <td>37.158458</td>\n",
       "      <td>70.710567</td>\n",
       "      <td>36.485079</td>\n",
       "      <td>39.015329</td>\n",
       "      <td>39.039274</td>\n",
       "      <td>...</td>\n",
       "      <td>58.184127</td>\n",
       "      <td>57.993651</td>\n",
       "      <td>63.169321</td>\n",
       "      <td>79.992218</td>\n",
       "      <td>35.311362</td>\n",
       "      <td>83.989497</td>\n",
       "      <td>50.092684</td>\n",
       "      <td>80.191877</td>\n",
       "      <td>52.079435</td>\n",
       "      <td>82.411084</td>\n",
       "    </tr>\n",
       "    <tr>\n",
       "      <td>192</td>\n",
       "      <td>64.820293</td>\n",
       "      <td>38.478049</td>\n",
       "      <td>30.288390</td>\n",
       "      <td>38.478049</td>\n",
       "      <td>58.890927</td>\n",
       "      <td>39.175805</td>\n",
       "      <td>71.796293</td>\n",
       "      <td>40.571317</td>\n",
       "      <td>35.171902</td>\n",
       "      <td>39.524683</td>\n",
       "      <td>...</td>\n",
       "      <td>42.147902</td>\n",
       "      <td>53.128585</td>\n",
       "      <td>64.123317</td>\n",
       "      <td>76.846829</td>\n",
       "      <td>27.847024</td>\n",
       "      <td>74.405463</td>\n",
       "      <td>43.392000</td>\n",
       "      <td>68.902244</td>\n",
       "      <td>43.067317</td>\n",
       "      <td>86.867512</td>\n",
       "    </tr>\n",
       "    <tr>\n",
       "      <td>683</td>\n",
       "      <td>67.008738</td>\n",
       "      <td>39.899815</td>\n",
       "      <td>30.705969</td>\n",
       "      <td>38.249354</td>\n",
       "      <td>60.078277</td>\n",
       "      <td>40.560000</td>\n",
       "      <td>73.279015</td>\n",
       "      <td>41.549538</td>\n",
       "      <td>36.646154</td>\n",
       "      <td>39.239631</td>\n",
       "      <td>...</td>\n",
       "      <td>48.197169</td>\n",
       "      <td>60.031015</td>\n",
       "      <td>59.418092</td>\n",
       "      <td>83.793231</td>\n",
       "      <td>35.656615</td>\n",
       "      <td>83.463138</td>\n",
       "      <td>48.197169</td>\n",
       "      <td>75.872492</td>\n",
       "      <td>47.867077</td>\n",
       "      <td>92.373415</td>\n",
       "    </tr>\n",
       "  </tbody>\n",
       "</table>\n",
       "<p>5 rows × 30 columns</p>\n",
       "</div>"
      ],
      "text/plain": [
       "      left_eye_center_x  left_eye_center_y  right_eye_center_x  \\\n",
       "973           65.859024          37.614009           31.401071   \n",
       "558           66.454252          39.431841           30.444079   \n",
       "2263          64.394739          36.276100           31.050884   \n",
       "192           64.820293          38.478049           30.288390   \n",
       "683           67.008738          39.899815           30.705969   \n",
       "\n",
       "      right_eye_center_y  left_eye_inner_corner_x  left_eye_inner_corner_y  \\\n",
       "973            38.289638                60.116409                39.303080   \n",
       "558            36.860185                60.738119                39.717934   \n",
       "2263           38.969615                56.314195                37.158458   \n",
       "192            38.478049                58.890927                39.175805   \n",
       "683            38.249354                60.078277                40.560000   \n",
       "\n",
       "      left_eye_outer_corner_x  left_eye_outer_corner_y  \\\n",
       "973                 72.615307                37.951824   \n",
       "558                 73.027391                40.575576   \n",
       "2263                70.710567                36.485079   \n",
       "192                 71.796293                40.571317   \n",
       "683                 73.279015                41.549538   \n",
       "\n",
       "      right_eye_inner_corner_x  right_eye_inner_corner_y  ...  nose_tip_x  \\\n",
       "973                  36.806551                 39.303080  ...   44.238614   \n",
       "558                  36.160212                 37.431735  ...   47.020291   \n",
       "2263                 39.015329                 39.039274  ...   58.184127   \n",
       "192                  35.171902                 39.524683  ...   42.147902   \n",
       "683                  36.646154                 39.239631  ...   48.197169   \n",
       "\n",
       "      nose_tip_y  mouth_left_corner_x  mouth_left_corner_y  \\\n",
       "973    62.274520            63.494551            77.814425   \n",
       "558    60.294993            59.881113            82.872795   \n",
       "2263   57.993651            63.169321            79.992218   \n",
       "192    53.128585            64.123317            76.846829   \n",
       "683    60.031015            59.418092            83.793231   \n",
       "\n",
       "      mouth_right_corner_x  mouth_right_corner_y  mouth_center_top_lip_x  \\\n",
       "973              33.766299             78.152315               45.927307   \n",
       "558              35.017113             82.015788               47.305748   \n",
       "2263             35.311362             83.989497               50.092684   \n",
       "192              27.847024             74.405463               43.392000   \n",
       "683              35.656615             83.463138               48.197169   \n",
       "\n",
       "      mouth_center_top_lip_y  mouth_center_bottom_lip_x  \\\n",
       "973                72.747591                  45.927307   \n",
       "558                78.014305                  47.591841   \n",
       "2263               80.191877                  52.079435   \n",
       "192                68.902244                  43.067317   \n",
       "683                75.872492                  47.867077   \n",
       "\n",
       "      mouth_center_bottom_lip_y  \n",
       "973                   88.624630  \n",
       "558                   89.732026  \n",
       "2263                  82.411084  \n",
       "192                   86.867512  \n",
       "683                   92.373415  \n",
       "\n",
       "[5 rows x 30 columns]"
      ]
     },
     "execution_count": 27,
     "metadata": {},
     "output_type": "execute_result"
    }
   ],
   "source": [
    "model_Y_train.head()"
   ]
  },
  {
   "cell_type": "code",
   "execution_count": 28,
   "metadata": {},
   "outputs": [
    {
     "data": {
      "text/html": [
       "<div>\n",
       "<style scoped>\n",
       "    .dataframe tbody tr th:only-of-type {\n",
       "        vertical-align: middle;\n",
       "    }\n",
       "\n",
       "    .dataframe tbody tr th {\n",
       "        vertical-align: top;\n",
       "    }\n",
       "\n",
       "    .dataframe thead th {\n",
       "        text-align: right;\n",
       "    }\n",
       "</style>\n",
       "<table border=\"1\" class=\"dataframe\">\n",
       "  <thead>\n",
       "    <tr style=\"text-align: right;\">\n",
       "      <th></th>\n",
       "      <th>pixel_0</th>\n",
       "      <th>pixel_1</th>\n",
       "      <th>pixel_2</th>\n",
       "      <th>pixel_3</th>\n",
       "      <th>pixel_4</th>\n",
       "      <th>pixel_5</th>\n",
       "      <th>pixel_6</th>\n",
       "      <th>pixel_7</th>\n",
       "      <th>pixel_8</th>\n",
       "      <th>pixel_9</th>\n",
       "      <th>...</th>\n",
       "      <th>pixel_9206</th>\n",
       "      <th>pixel_9207</th>\n",
       "      <th>pixel_9208</th>\n",
       "      <th>pixel_9209</th>\n",
       "      <th>pixel_9210</th>\n",
       "      <th>pixel_9211</th>\n",
       "      <th>pixel_9212</th>\n",
       "      <th>pixel_9213</th>\n",
       "      <th>pixel_9214</th>\n",
       "      <th>pixel_9215</th>\n",
       "    </tr>\n",
       "  </thead>\n",
       "  <tbody>\n",
       "    <tr>\n",
       "      <td>973</td>\n",
       "      <td>125</td>\n",
       "      <td>125</td>\n",
       "      <td>123</td>\n",
       "      <td>123</td>\n",
       "      <td>125</td>\n",
       "      <td>126</td>\n",
       "      <td>128</td>\n",
       "      <td>129</td>\n",
       "      <td>126</td>\n",
       "      <td>128</td>\n",
       "      <td>...</td>\n",
       "      <td>18</td>\n",
       "      <td>8</td>\n",
       "      <td>1</td>\n",
       "      <td>4</td>\n",
       "      <td>11</td>\n",
       "      <td>22</td>\n",
       "      <td>18</td>\n",
       "      <td>19</td>\n",
       "      <td>33</td>\n",
       "      <td>53</td>\n",
       "    </tr>\n",
       "    <tr>\n",
       "      <td>558</td>\n",
       "      <td>67</td>\n",
       "      <td>73</td>\n",
       "      <td>80</td>\n",
       "      <td>83</td>\n",
       "      <td>95</td>\n",
       "      <td>98</td>\n",
       "      <td>95</td>\n",
       "      <td>96</td>\n",
       "      <td>90</td>\n",
       "      <td>96</td>\n",
       "      <td>...</td>\n",
       "      <td>150</td>\n",
       "      <td>146</td>\n",
       "      <td>144</td>\n",
       "      <td>146</td>\n",
       "      <td>148</td>\n",
       "      <td>148</td>\n",
       "      <td>148</td>\n",
       "      <td>151</td>\n",
       "      <td>152</td>\n",
       "      <td>149</td>\n",
       "    </tr>\n",
       "    <tr>\n",
       "      <td>2263</td>\n",
       "      <td>8</td>\n",
       "      <td>8</td>\n",
       "      <td>8</td>\n",
       "      <td>7</td>\n",
       "      <td>7</td>\n",
       "      <td>10</td>\n",
       "      <td>11</td>\n",
       "      <td>11</td>\n",
       "      <td>11</td>\n",
       "      <td>11</td>\n",
       "      <td>...</td>\n",
       "      <td>118</td>\n",
       "      <td>120</td>\n",
       "      <td>117</td>\n",
       "      <td>120</td>\n",
       "      <td>119</td>\n",
       "      <td>114</td>\n",
       "      <td>113</td>\n",
       "      <td>116</td>\n",
       "      <td>115</td>\n",
       "      <td>117</td>\n",
       "    </tr>\n",
       "    <tr>\n",
       "      <td>192</td>\n",
       "      <td>131</td>\n",
       "      <td>131</td>\n",
       "      <td>132</td>\n",
       "      <td>133</td>\n",
       "      <td>134</td>\n",
       "      <td>133</td>\n",
       "      <td>132</td>\n",
       "      <td>132</td>\n",
       "      <td>134</td>\n",
       "      <td>123</td>\n",
       "      <td>...</td>\n",
       "      <td>99</td>\n",
       "      <td>101</td>\n",
       "      <td>96</td>\n",
       "      <td>93</td>\n",
       "      <td>93</td>\n",
       "      <td>92</td>\n",
       "      <td>91</td>\n",
       "      <td>89</td>\n",
       "      <td>87</td>\n",
       "      <td>85</td>\n",
       "    </tr>\n",
       "    <tr>\n",
       "      <td>683</td>\n",
       "      <td>141</td>\n",
       "      <td>111</td>\n",
       "      <td>104</td>\n",
       "      <td>103</td>\n",
       "      <td>109</td>\n",
       "      <td>132</td>\n",
       "      <td>137</td>\n",
       "      <td>128</td>\n",
       "      <td>129</td>\n",
       "      <td>130</td>\n",
       "      <td>...</td>\n",
       "      <td>159</td>\n",
       "      <td>159</td>\n",
       "      <td>160</td>\n",
       "      <td>159</td>\n",
       "      <td>159</td>\n",
       "      <td>139</td>\n",
       "      <td>110</td>\n",
       "      <td>94</td>\n",
       "      <td>94</td>\n",
       "      <td>95</td>\n",
       "    </tr>\n",
       "  </tbody>\n",
       "</table>\n",
       "<p>5 rows × 9216 columns</p>\n",
       "</div>"
      ],
      "text/plain": [
       "     pixel_0 pixel_1 pixel_2 pixel_3 pixel_4 pixel_5 pixel_6 pixel_7 pixel_8  \\\n",
       "973      125     125     123     123     125     126     128     129     126   \n",
       "558       67      73      80      83      95      98      95      96      90   \n",
       "2263       8       8       8       7       7      10      11      11      11   \n",
       "192      131     131     132     133     134     133     132     132     134   \n",
       "683      141     111     104     103     109     132     137     128     129   \n",
       "\n",
       "     pixel_9  ... pixel_9206 pixel_9207 pixel_9208 pixel_9209 pixel_9210  \\\n",
       "973      128  ...         18          8          1          4         11   \n",
       "558       96  ...        150        146        144        146        148   \n",
       "2263      11  ...        118        120        117        120        119   \n",
       "192      123  ...         99        101         96         93         93   \n",
       "683      130  ...        159        159        160        159        159   \n",
       "\n",
       "     pixel_9211 pixel_9212 pixel_9213 pixel_9214 pixel_9215  \n",
       "973          22         18         19         33         53  \n",
       "558         148        148        151        152        149  \n",
       "2263        114        113        116        115        117  \n",
       "192          92         91         89         87         85  \n",
       "683         139        110         94         94         95  \n",
       "\n",
       "[5 rows x 9216 columns]"
      ]
     },
     "execution_count": 28,
     "metadata": {},
     "output_type": "execute_result"
    }
   ],
   "source": [
    "model_X_train.head()"
   ]
  },
  {
   "cell_type": "code",
   "execution_count": 30,
   "metadata": {},
   "outputs": [],
   "source": [
    "from sklearn.model_selection import KFold"
   ]
  },
  {
   "cell_type": "raw",
   "metadata": {},
   "source": [
    "KFold?"
   ]
  },
  {
   "cell_type": "raw",
   "metadata": {},
   "source": [
    "kf = KFold(5, random_state = random_state)"
   ]
  },
  {
   "cell_type": "code",
   "execution_count": 26,
   "metadata": {},
   "outputs": [],
   "source": [
    "lm = LinearRegression(normalize=False, n_jobs=-1)"
   ]
  },
  {
   "cell_type": "code",
   "execution_count": 29,
   "metadata": {},
   "outputs": [
    {
     "data": {
      "text/plain": [
       "LinearRegression(copy_X=True, fit_intercept=True, n_jobs=-1, normalize=False)"
      ]
     },
     "execution_count": 29,
     "metadata": {},
     "output_type": "execute_result"
    }
   ],
   "source": [
    "lm.fit(model_X_train, model_Y_train)"
   ]
  },
  {
   "cell_type": "code",
   "execution_count": 33,
   "metadata": {},
   "outputs": [],
   "source": [
    "model_Y_train_predict = lm.predict(model_X_train)"
   ]
  },
  {
   "cell_type": "code",
   "execution_count": 37,
   "metadata": {},
   "outputs": [
    {
     "data": {
      "text/plain": [
       "(1712, 30)"
      ]
     },
     "execution_count": 37,
     "metadata": {},
     "output_type": "execute_result"
    }
   ],
   "source": [
    "model_Y_train.shape"
   ]
  },
  {
   "cell_type": "code",
   "execution_count": 36,
   "metadata": {},
   "outputs": [
    {
     "data": {
      "text/plain": [
       "(1712, 30)"
      ]
     },
     "execution_count": 36,
     "metadata": {},
     "output_type": "execute_result"
    }
   ],
   "source": [
    "model_Y_train_predict.shape"
   ]
  },
  {
   "cell_type": "code",
   "execution_count": 38,
   "metadata": {},
   "outputs": [],
   "source": [
    "model_Y_val_predict = lm.predict(model_X_val)"
   ]
  },
  {
   "cell_type": "code",
   "execution_count": 40,
   "metadata": {},
   "outputs": [
    {
     "data": {
      "text/plain": [
       "(428, 30)"
      ]
     },
     "execution_count": 40,
     "metadata": {},
     "output_type": "execute_result"
    }
   ],
   "source": [
    "model_Y_val.shape"
   ]
  },
  {
   "cell_type": "code",
   "execution_count": 39,
   "metadata": {},
   "outputs": [
    {
     "data": {
      "text/plain": [
       "(428, 30)"
      ]
     },
     "execution_count": 39,
     "metadata": {},
     "output_type": "execute_result"
    }
   ],
   "source": [
    "model_Y_val_predict.shape"
   ]
  },
  {
   "cell_type": "raw",
   "metadata": {},
   "source": [
    "mae?"
   ]
  },
  {
   "cell_type": "code",
   "execution_count": 42,
   "metadata": {},
   "outputs": [
    {
     "data": {
      "text/plain": [
       "2.7260021861833614e-14"
      ]
     },
     "execution_count": 42,
     "metadata": {},
     "output_type": "execute_result"
    }
   ],
   "source": [
    "mae(model_Y_train, model_Y_train_predict)"
   ]
  },
  {
   "cell_type": "code",
   "execution_count": 44,
   "metadata": {},
   "outputs": [
    {
     "data": {
      "text/plain": [
       "3.6908057855510356e-14"
      ]
     },
     "execution_count": 44,
     "metadata": {},
     "output_type": "execute_result"
    }
   ],
   "source": [
    "np.sqrt(mse(model_Y_train, model_Y_train_predict))"
   ]
  },
  {
   "cell_type": "code",
   "execution_count": 45,
   "metadata": {},
   "outputs": [],
   "source": [
    "lm_final = LinearRegression(normalize=False, n_jobs=-1)"
   ]
  },
  {
   "cell_type": "code",
   "execution_count": 46,
   "metadata": {},
   "outputs": [
    {
     "data": {
      "text/plain": [
       "LinearRegression(copy_X=True, fit_intercept=True, n_jobs=-1, normalize=False)"
      ]
     },
     "execution_count": 46,
     "metadata": {},
     "output_type": "execute_result"
    }
   ],
   "source": [
    "lm_final.fit(model_X, model_Y)"
   ]
  },
  {
   "cell_type": "code",
   "execution_count": 54,
   "metadata": {},
   "outputs": [],
   "source": [
    "test_Y_predict = lm_final.predict(test_X)"
   ]
  },
  {
   "cell_type": "code",
   "execution_count": 55,
   "metadata": {},
   "outputs": [
    {
     "data": {
      "text/plain": [
       "array([[63.99175363, 39.19701102, 30.87513601, ..., 65.12351023,\n",
       "        49.19032629, 83.16851057],\n",
       "       [69.89911781, 35.18488592, 26.81647512, ..., 74.19972802,\n",
       "        49.45961568, 90.86082315],\n",
       "       [64.49586366, 36.07135232, 30.26597733, ..., 70.43528704,\n",
       "        47.89848754, 87.83016112],\n",
       "       ...,\n",
       "       [67.84928811, 37.78748402, 29.50431614, ..., 74.65957758,\n",
       "        45.57032276, 82.23448828],\n",
       "       [67.54289925, 39.43006075, 32.28696685, ..., 67.20036323,\n",
       "        45.17483945, 77.65316587],\n",
       "       [66.51994172, 38.07016092, 31.37549324, ..., 72.30388083,\n",
       "        45.16816278, 82.30445053]])"
      ]
     },
     "execution_count": 55,
     "metadata": {},
     "output_type": "execute_result"
    }
   ],
   "source": [
    "test_Y_predict"
   ]
  },
  {
   "cell_type": "code",
   "execution_count": 57,
   "metadata": {},
   "outputs": [],
   "source": [
    "test_Y_predict = pd.DataFrame(test_Y_predict)"
   ]
  },
  {
   "cell_type": "code",
   "execution_count": 59,
   "metadata": {},
   "outputs": [],
   "source": [
    "test_Y_predict.columns  = model_Y.columns"
   ]
  },
  {
   "cell_type": "code",
   "execution_count": 62,
   "metadata": {},
   "outputs": [],
   "source": [
    "test_Y_predict['ImageId'] = test['ImageId']"
   ]
  },
  {
   "cell_type": "code",
   "execution_count": 63,
   "metadata": {},
   "outputs": [
    {
     "data": {
      "text/html": [
       "<div>\n",
       "<style scoped>\n",
       "    .dataframe tbody tr th:only-of-type {\n",
       "        vertical-align: middle;\n",
       "    }\n",
       "\n",
       "    .dataframe tbody tr th {\n",
       "        vertical-align: top;\n",
       "    }\n",
       "\n",
       "    .dataframe thead th {\n",
       "        text-align: right;\n",
       "    }\n",
       "</style>\n",
       "<table border=\"1\" class=\"dataframe\">\n",
       "  <thead>\n",
       "    <tr style=\"text-align: right;\">\n",
       "      <th></th>\n",
       "      <th>left_eye_center_x</th>\n",
       "      <th>left_eye_center_y</th>\n",
       "      <th>right_eye_center_x</th>\n",
       "      <th>right_eye_center_y</th>\n",
       "      <th>left_eye_inner_corner_x</th>\n",
       "      <th>left_eye_inner_corner_y</th>\n",
       "      <th>left_eye_outer_corner_x</th>\n",
       "      <th>left_eye_outer_corner_y</th>\n",
       "      <th>right_eye_inner_corner_x</th>\n",
       "      <th>right_eye_inner_corner_y</th>\n",
       "      <th>...</th>\n",
       "      <th>nose_tip_y</th>\n",
       "      <th>mouth_left_corner_x</th>\n",
       "      <th>mouth_left_corner_y</th>\n",
       "      <th>mouth_right_corner_x</th>\n",
       "      <th>mouth_right_corner_y</th>\n",
       "      <th>mouth_center_top_lip_x</th>\n",
       "      <th>mouth_center_top_lip_y</th>\n",
       "      <th>mouth_center_bottom_lip_x</th>\n",
       "      <th>mouth_center_bottom_lip_y</th>\n",
       "      <th>ImageId</th>\n",
       "    </tr>\n",
       "  </thead>\n",
       "  <tbody>\n",
       "    <tr>\n",
       "      <td>0</td>\n",
       "      <td>63.991754</td>\n",
       "      <td>39.197011</td>\n",
       "      <td>30.875136</td>\n",
       "      <td>39.039367</td>\n",
       "      <td>58.121246</td>\n",
       "      <td>40.283803</td>\n",
       "      <td>69.501190</td>\n",
       "      <td>39.562262</td>\n",
       "      <td>36.950609</td>\n",
       "      <td>38.974348</td>\n",
       "      <td>...</td>\n",
       "      <td>49.137893</td>\n",
       "      <td>63.157389</td>\n",
       "      <td>74.622364</td>\n",
       "      <td>33.718146</td>\n",
       "      <td>75.280380</td>\n",
       "      <td>50.366953</td>\n",
       "      <td>65.123510</td>\n",
       "      <td>49.190326</td>\n",
       "      <td>83.168511</td>\n",
       "      <td>1</td>\n",
       "    </tr>\n",
       "    <tr>\n",
       "      <td>1</td>\n",
       "      <td>69.899118</td>\n",
       "      <td>35.184886</td>\n",
       "      <td>26.816475</td>\n",
       "      <td>35.448372</td>\n",
       "      <td>63.643535</td>\n",
       "      <td>36.660556</td>\n",
       "      <td>76.685998</td>\n",
       "      <td>36.141223</td>\n",
       "      <td>34.175274</td>\n",
       "      <td>36.283901</td>\n",
       "      <td>...</td>\n",
       "      <td>60.926299</td>\n",
       "      <td>64.458165</td>\n",
       "      <td>78.479479</td>\n",
       "      <td>32.430233</td>\n",
       "      <td>78.387789</td>\n",
       "      <td>49.949315</td>\n",
       "      <td>74.199728</td>\n",
       "      <td>49.459616</td>\n",
       "      <td>90.860823</td>\n",
       "      <td>2</td>\n",
       "    </tr>\n",
       "    <tr>\n",
       "      <td>2</td>\n",
       "      <td>64.495864</td>\n",
       "      <td>36.071352</td>\n",
       "      <td>30.265977</td>\n",
       "      <td>36.852919</td>\n",
       "      <td>59.652582</td>\n",
       "      <td>37.326287</td>\n",
       "      <td>69.885023</td>\n",
       "      <td>36.849918</td>\n",
       "      <td>36.296491</td>\n",
       "      <td>37.840305</td>\n",
       "      <td>...</td>\n",
       "      <td>57.459363</td>\n",
       "      <td>59.396803</td>\n",
       "      <td>76.417880</td>\n",
       "      <td>36.365455</td>\n",
       "      <td>75.636756</td>\n",
       "      <td>48.431169</td>\n",
       "      <td>70.435287</td>\n",
       "      <td>47.898488</td>\n",
       "      <td>87.830161</td>\n",
       "      <td>3</td>\n",
       "    </tr>\n",
       "    <tr>\n",
       "      <td>3</td>\n",
       "      <td>66.534467</td>\n",
       "      <td>38.691626</td>\n",
       "      <td>31.224919</td>\n",
       "      <td>39.782071</td>\n",
       "      <td>59.590984</td>\n",
       "      <td>40.257903</td>\n",
       "      <td>73.653232</td>\n",
       "      <td>40.138465</td>\n",
       "      <td>36.591574</td>\n",
       "      <td>40.498252</td>\n",
       "      <td>...</td>\n",
       "      <td>50.477596</td>\n",
       "      <td>64.802529</td>\n",
       "      <td>78.337236</td>\n",
       "      <td>34.251084</td>\n",
       "      <td>78.413050</td>\n",
       "      <td>47.963727</td>\n",
       "      <td>70.367773</td>\n",
       "      <td>48.562618</td>\n",
       "      <td>83.476981</td>\n",
       "      <td>4</td>\n",
       "    </tr>\n",
       "    <tr>\n",
       "      <td>4</td>\n",
       "      <td>66.265270</td>\n",
       "      <td>35.340657</td>\n",
       "      <td>27.205546</td>\n",
       "      <td>37.508351</td>\n",
       "      <td>60.693033</td>\n",
       "      <td>36.710555</td>\n",
       "      <td>72.495006</td>\n",
       "      <td>36.438975</td>\n",
       "      <td>33.625896</td>\n",
       "      <td>38.005709</td>\n",
       "      <td>...</td>\n",
       "      <td>52.679276</td>\n",
       "      <td>66.938157</td>\n",
       "      <td>75.216297</td>\n",
       "      <td>37.712722</td>\n",
       "      <td>76.952725</td>\n",
       "      <td>52.110959</td>\n",
       "      <td>68.725132</td>\n",
       "      <td>52.692635</td>\n",
       "      <td>83.600274</td>\n",
       "      <td>5</td>\n",
       "    </tr>\n",
       "  </tbody>\n",
       "</table>\n",
       "<p>5 rows × 31 columns</p>\n",
       "</div>"
      ],
      "text/plain": [
       "   left_eye_center_x  left_eye_center_y  right_eye_center_x  \\\n",
       "0          63.991754          39.197011           30.875136   \n",
       "1          69.899118          35.184886           26.816475   \n",
       "2          64.495864          36.071352           30.265977   \n",
       "3          66.534467          38.691626           31.224919   \n",
       "4          66.265270          35.340657           27.205546   \n",
       "\n",
       "   right_eye_center_y  left_eye_inner_corner_x  left_eye_inner_corner_y  \\\n",
       "0           39.039367                58.121246                40.283803   \n",
       "1           35.448372                63.643535                36.660556   \n",
       "2           36.852919                59.652582                37.326287   \n",
       "3           39.782071                59.590984                40.257903   \n",
       "4           37.508351                60.693033                36.710555   \n",
       "\n",
       "   left_eye_outer_corner_x  left_eye_outer_corner_y  right_eye_inner_corner_x  \\\n",
       "0                69.501190                39.562262                 36.950609   \n",
       "1                76.685998                36.141223                 34.175274   \n",
       "2                69.885023                36.849918                 36.296491   \n",
       "3                73.653232                40.138465                 36.591574   \n",
       "4                72.495006                36.438975                 33.625896   \n",
       "\n",
       "   right_eye_inner_corner_y  ...  nose_tip_y  mouth_left_corner_x  \\\n",
       "0                 38.974348  ...   49.137893            63.157389   \n",
       "1                 36.283901  ...   60.926299            64.458165   \n",
       "2                 37.840305  ...   57.459363            59.396803   \n",
       "3                 40.498252  ...   50.477596            64.802529   \n",
       "4                 38.005709  ...   52.679276            66.938157   \n",
       "\n",
       "   mouth_left_corner_y  mouth_right_corner_x  mouth_right_corner_y  \\\n",
       "0            74.622364             33.718146             75.280380   \n",
       "1            78.479479             32.430233             78.387789   \n",
       "2            76.417880             36.365455             75.636756   \n",
       "3            78.337236             34.251084             78.413050   \n",
       "4            75.216297             37.712722             76.952725   \n",
       "\n",
       "   mouth_center_top_lip_x  mouth_center_top_lip_y  mouth_center_bottom_lip_x  \\\n",
       "0               50.366953               65.123510                  49.190326   \n",
       "1               49.949315               74.199728                  49.459616   \n",
       "2               48.431169               70.435287                  47.898488   \n",
       "3               47.963727               70.367773                  48.562618   \n",
       "4               52.110959               68.725132                  52.692635   \n",
       "\n",
       "   mouth_center_bottom_lip_y  ImageId  \n",
       "0                  83.168511        1  \n",
       "1                  90.860823        2  \n",
       "2                  87.830161        3  \n",
       "3                  83.476981        4  \n",
       "4                  83.600274        5  \n",
       "\n",
       "[5 rows x 31 columns]"
      ]
     },
     "execution_count": 63,
     "metadata": {},
     "output_type": "execute_result"
    }
   ],
   "source": [
    "test_Y_predict.head()"
   ]
  },
  {
   "cell_type": "code",
   "execution_count": 65,
   "metadata": {},
   "outputs": [],
   "source": [
    "melted_predict = test_Y_predict.melt(id_vars='ImageId')"
   ]
  },
  {
   "cell_type": "code",
   "execution_count": 66,
   "metadata": {},
   "outputs": [],
   "source": [
    "id_lookup_table = pd.read_csv('Data/IdLookupTable.csv')"
   ]
  },
  {
   "cell_type": "code",
   "execution_count": 67,
   "metadata": {},
   "outputs": [
    {
     "data": {
      "text/html": [
       "<div>\n",
       "<style scoped>\n",
       "    .dataframe tbody tr th:only-of-type {\n",
       "        vertical-align: middle;\n",
       "    }\n",
       "\n",
       "    .dataframe tbody tr th {\n",
       "        vertical-align: top;\n",
       "    }\n",
       "\n",
       "    .dataframe thead th {\n",
       "        text-align: right;\n",
       "    }\n",
       "</style>\n",
       "<table border=\"1\" class=\"dataframe\">\n",
       "  <thead>\n",
       "    <tr style=\"text-align: right;\">\n",
       "      <th></th>\n",
       "      <th>RowId</th>\n",
       "      <th>ImageId</th>\n",
       "      <th>FeatureName</th>\n",
       "      <th>Location</th>\n",
       "    </tr>\n",
       "  </thead>\n",
       "  <tbody>\n",
       "    <tr>\n",
       "      <td>0</td>\n",
       "      <td>1</td>\n",
       "      <td>1</td>\n",
       "      <td>left_eye_center_x</td>\n",
       "      <td>NaN</td>\n",
       "    </tr>\n",
       "    <tr>\n",
       "      <td>1</td>\n",
       "      <td>2</td>\n",
       "      <td>1</td>\n",
       "      <td>left_eye_center_y</td>\n",
       "      <td>NaN</td>\n",
       "    </tr>\n",
       "    <tr>\n",
       "      <td>2</td>\n",
       "      <td>3</td>\n",
       "      <td>1</td>\n",
       "      <td>right_eye_center_x</td>\n",
       "      <td>NaN</td>\n",
       "    </tr>\n",
       "    <tr>\n",
       "      <td>3</td>\n",
       "      <td>4</td>\n",
       "      <td>1</td>\n",
       "      <td>right_eye_center_y</td>\n",
       "      <td>NaN</td>\n",
       "    </tr>\n",
       "    <tr>\n",
       "      <td>4</td>\n",
       "      <td>5</td>\n",
       "      <td>1</td>\n",
       "      <td>left_eye_inner_corner_x</td>\n",
       "      <td>NaN</td>\n",
       "    </tr>\n",
       "  </tbody>\n",
       "</table>\n",
       "</div>"
      ],
      "text/plain": [
       "   RowId  ImageId              FeatureName  Location\n",
       "0      1        1        left_eye_center_x       NaN\n",
       "1      2        1        left_eye_center_y       NaN\n",
       "2      3        1       right_eye_center_x       NaN\n",
       "3      4        1       right_eye_center_y       NaN\n",
       "4      5        1  left_eye_inner_corner_x       NaN"
      ]
     },
     "execution_count": 67,
     "metadata": {},
     "output_type": "execute_result"
    }
   ],
   "source": [
    "id_lookup_table.head()"
   ]
  },
  {
   "cell_type": "code",
   "execution_count": 69,
   "metadata": {},
   "outputs": [],
   "source": [
    "melted_predict.columns = ['ImageId', 'FeatureName', 'Location']"
   ]
  },
  {
   "cell_type": "code",
   "execution_count": 71,
   "metadata": {},
   "outputs": [],
   "source": [
    "lm_submission = id_lookup_table[['RowId', 'ImageId', 'FeatureName']].merge(\n",
    "    melted_predict, how = 'left', on = ['ImageId', 'FeatureName'])"
   ]
  },
  {
   "cell_type": "code",
   "execution_count": 72,
   "metadata": {},
   "outputs": [
    {
     "data": {
      "text/plain": [
       "(27124, 4)"
      ]
     },
     "execution_count": 72,
     "metadata": {},
     "output_type": "execute_result"
    }
   ],
   "source": [
    "lm_submission.shape"
   ]
  },
  {
   "cell_type": "code",
   "execution_count": 73,
   "metadata": {},
   "outputs": [
    {
     "data": {
      "text/plain": [
       "(27124, 4)"
      ]
     },
     "execution_count": 73,
     "metadata": {},
     "output_type": "execute_result"
    }
   ],
   "source": [
    "id_lookup_table.shape"
   ]
  },
  {
   "cell_type": "code",
   "execution_count": 74,
   "metadata": {},
   "outputs": [
    {
     "data": {
      "text/plain": [
       "Index(['RowId', 'ImageId', 'FeatureName', 'Location'], dtype='object')"
      ]
     },
     "execution_count": 74,
     "metadata": {},
     "output_type": "execute_result"
    }
   ],
   "source": [
    "lm_submission.columns"
   ]
  },
  {
   "cell_type": "code",
   "execution_count": 75,
   "metadata": {},
   "outputs": [],
   "source": [
    "lm_submission.drop(['ImageId', 'FeatureName'],axis=1,inplace=True)"
   ]
  },
  {
   "cell_type": "code",
   "execution_count": 79,
   "metadata": {},
   "outputs": [],
   "source": [
    "lm_submission['Location'] = lm_submission.Location.round(0)"
   ]
  },
  {
   "cell_type": "code",
   "execution_count": 80,
   "metadata": {},
   "outputs": [
    {
     "name": "stderr",
     "output_type": "stream",
     "text": [
      "C:\\Users\\Maddy\\Anaconda3\\lib\\site-packages\\ipykernel_launcher.py:1: SettingWithCopyWarning: \n",
      "A value is trying to be set on a copy of a slice from a DataFrame\n",
      "\n",
      "See the caveats in the documentation: http://pandas.pydata.org/pandas-docs/stable/user_guide/indexing.html#returning-a-view-versus-a-copy\n",
      "  \"\"\"Entry point for launching an IPython kernel.\n",
      "C:\\Users\\Maddy\\Anaconda3\\lib\\site-packages\\ipykernel_launcher.py:2: SettingWithCopyWarning: \n",
      "A value is trying to be set on a copy of a slice from a DataFrame\n",
      "\n",
      "See the caveats in the documentation: http://pandas.pydata.org/pandas-docs/stable/user_guide/indexing.html#returning-a-view-versus-a-copy\n",
      "  \n"
     ]
    }
   ],
   "source": [
    "lm_submission['Location'][lm_submission.Location > 96] = 96\n",
    "lm_submission['Location'][lm_submission.Location < 0] = 0"
   ]
  },
  {
   "cell_type": "code",
   "execution_count": 81,
   "metadata": {},
   "outputs": [],
   "source": [
    "lm_submission['Location'] = lm_submission.Location.astype(int)"
   ]
  },
  {
   "cell_type": "code",
   "execution_count": 82,
   "metadata": {},
   "outputs": [],
   "source": [
    "lm_submission.to_csv('Output/lm_submission.csv', index = False)"
   ]
  },
  {
   "cell_type": "code",
   "execution_count": null,
   "metadata": {},
   "outputs": [],
   "source": []
  }
 ],
 "metadata": {
  "kernelspec": {
   "display_name": "Python 3",
   "language": "python",
   "name": "python3"
  },
  "language_info": {
   "codemirror_mode": {
    "name": "ipython",
    "version": 3
   },
   "file_extension": ".py",
   "mimetype": "text/x-python",
   "name": "python",
   "nbconvert_exporter": "python",
   "pygments_lexer": "ipython3",
   "version": "3.7.3"
  }
 },
 "nbformat": 4,
 "nbformat_minor": 2
}
