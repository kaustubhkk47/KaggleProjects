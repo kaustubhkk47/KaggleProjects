{
 "cells": [
  {
   "cell_type": "code",
   "execution_count": 2,
   "metadata": {},
   "outputs": [],
   "source": [
    "from utils import *"
   ]
  },
  {
   "cell_type": "code",
   "execution_count": 3,
   "metadata": {},
   "outputs": [],
   "source": [
    "%matplotlib inline"
   ]
  },
  {
   "cell_type": "code",
   "execution_count": 4,
   "metadata": {},
   "outputs": [],
   "source": [
    "train = pd.read_feather('SaveFiles/train.feather')"
   ]
  },
  {
   "cell_type": "code",
   "execution_count": 5,
   "metadata": {},
   "outputs": [],
   "source": [
    "test = pd.read_feather('SaveFiles/test.feather')"
   ]
  },
  {
   "cell_type": "code",
   "execution_count": 6,
   "metadata": {},
   "outputs": [],
   "source": [
    "train.drop('Image', inplace=True, axis=1)"
   ]
  },
  {
   "cell_type": "code",
   "execution_count": 7,
   "metadata": {},
   "outputs": [],
   "source": [
    "test.drop('Image', inplace=True, axis=1)"
   ]
  },
  {
   "cell_type": "code",
   "execution_count": 8,
   "metadata": {},
   "outputs": [],
   "source": [
    "model_data = train.dropna()"
   ]
  },
  {
   "cell_type": "code",
   "execution_count": 9,
   "metadata": {},
   "outputs": [
    {
     "data": {
      "text/plain": [
       "0.3035891615832033"
      ]
     },
     "execution_count": 9,
     "metadata": {},
     "output_type": "execute_result"
    }
   ],
   "source": [
    "len(model_data)/len(train)"
   ]
  },
  {
   "cell_type": "code",
   "execution_count": 10,
   "metadata": {},
   "outputs": [],
   "source": [
    "del(train)"
   ]
  },
  {
   "cell_type": "code",
   "execution_count": 11,
   "metadata": {},
   "outputs": [],
   "source": [
    "from sklearn.linear_model import LinearRegression\n",
    "mae =  sklearn.metrics.mean_absolute_error\n",
    "mse = sklearn.metrics.mean_squared_error"
   ]
  },
  {
   "cell_type": "code",
   "execution_count": 12,
   "metadata": {},
   "outputs": [],
   "source": [
    "def rmse(x):\n",
    "    return np.sqrt(mse(x))"
   ]
  },
  {
   "cell_type": "markdown",
   "metadata": {},
   "source": [
    "## Data preparation"
   ]
  },
  {
   "cell_type": "code",
   "execution_count": 13,
   "metadata": {},
   "outputs": [],
   "source": [
    "model_Y = model_data.iloc[:,0:30]\n",
    "model_X = model_data.iloc[:,30:]"
   ]
  },
  {
   "cell_type": "code",
   "execution_count": 14,
   "metadata": {},
   "outputs": [],
   "source": [
    "test_X = test.iloc[:,1:]"
   ]
  },
  {
   "cell_type": "code",
   "execution_count": 15,
   "metadata": {},
   "outputs": [
    {
     "data": {
      "text/html": [
       "<div>\n",
       "<style scoped>\n",
       "    .dataframe tbody tr th:only-of-type {\n",
       "        vertical-align: middle;\n",
       "    }\n",
       "\n",
       "    .dataframe tbody tr th {\n",
       "        vertical-align: top;\n",
       "    }\n",
       "\n",
       "    .dataframe thead th {\n",
       "        text-align: right;\n",
       "    }\n",
       "</style>\n",
       "<table border=\"1\" class=\"dataframe\">\n",
       "  <thead>\n",
       "    <tr style=\"text-align: right;\">\n",
       "      <th></th>\n",
       "      <th>pixel_0</th>\n",
       "      <th>pixel_1</th>\n",
       "      <th>pixel_2</th>\n",
       "      <th>pixel_3</th>\n",
       "      <th>pixel_4</th>\n",
       "      <th>pixel_5</th>\n",
       "      <th>pixel_6</th>\n",
       "      <th>pixel_7</th>\n",
       "      <th>pixel_8</th>\n",
       "      <th>pixel_9</th>\n",
       "      <th>...</th>\n",
       "      <th>pixel_9206</th>\n",
       "      <th>pixel_9207</th>\n",
       "      <th>pixel_9208</th>\n",
       "      <th>pixel_9209</th>\n",
       "      <th>pixel_9210</th>\n",
       "      <th>pixel_9211</th>\n",
       "      <th>pixel_9212</th>\n",
       "      <th>pixel_9213</th>\n",
       "      <th>pixel_9214</th>\n",
       "      <th>pixel_9215</th>\n",
       "    </tr>\n",
       "  </thead>\n",
       "  <tbody>\n",
       "    <tr>\n",
       "      <td>0</td>\n",
       "      <td>182</td>\n",
       "      <td>183</td>\n",
       "      <td>182</td>\n",
       "      <td>182</td>\n",
       "      <td>180</td>\n",
       "      <td>180</td>\n",
       "      <td>176</td>\n",
       "      <td>169</td>\n",
       "      <td>156</td>\n",
       "      <td>137</td>\n",
       "      <td>...</td>\n",
       "      <td>6</td>\n",
       "      <td>14</td>\n",
       "      <td>28</td>\n",
       "      <td>28</td>\n",
       "      <td>24</td>\n",
       "      <td>18</td>\n",
       "      <td>12</td>\n",
       "      <td>8</td>\n",
       "      <td>5</td>\n",
       "      <td>5</td>\n",
       "    </tr>\n",
       "    <tr>\n",
       "      <td>1</td>\n",
       "      <td>76</td>\n",
       "      <td>87</td>\n",
       "      <td>81</td>\n",
       "      <td>72</td>\n",
       "      <td>65</td>\n",
       "      <td>59</td>\n",
       "      <td>64</td>\n",
       "      <td>76</td>\n",
       "      <td>69</td>\n",
       "      <td>42</td>\n",
       "      <td>...</td>\n",
       "      <td>156</td>\n",
       "      <td>152</td>\n",
       "      <td>162</td>\n",
       "      <td>169</td>\n",
       "      <td>168</td>\n",
       "      <td>159</td>\n",
       "      <td>191</td>\n",
       "      <td>228</td>\n",
       "      <td>211</td>\n",
       "      <td>168</td>\n",
       "    </tr>\n",
       "    <tr>\n",
       "      <td>2</td>\n",
       "      <td>177</td>\n",
       "      <td>176</td>\n",
       "      <td>174</td>\n",
       "      <td>170</td>\n",
       "      <td>169</td>\n",
       "      <td>169</td>\n",
       "      <td>168</td>\n",
       "      <td>166</td>\n",
       "      <td>166</td>\n",
       "      <td>166</td>\n",
       "      <td>...</td>\n",
       "      <td>1</td>\n",
       "      <td>1</td>\n",
       "      <td>1</td>\n",
       "      <td>1</td>\n",
       "      <td>1</td>\n",
       "      <td>1</td>\n",
       "      <td>1</td>\n",
       "      <td>1</td>\n",
       "      <td>1</td>\n",
       "      <td>1</td>\n",
       "    </tr>\n",
       "    <tr>\n",
       "      <td>3</td>\n",
       "      <td>176</td>\n",
       "      <td>174</td>\n",
       "      <td>174</td>\n",
       "      <td>175</td>\n",
       "      <td>174</td>\n",
       "      <td>174</td>\n",
       "      <td>176</td>\n",
       "      <td>176</td>\n",
       "      <td>175</td>\n",
       "      <td>171</td>\n",
       "      <td>...</td>\n",
       "      <td>144</td>\n",
       "      <td>143</td>\n",
       "      <td>141</td>\n",
       "      <td>142</td>\n",
       "      <td>143</td>\n",
       "      <td>142</td>\n",
       "      <td>142</td>\n",
       "      <td>142</td>\n",
       "      <td>142</td>\n",
       "      <td>140</td>\n",
       "    </tr>\n",
       "    <tr>\n",
       "      <td>4</td>\n",
       "      <td>50</td>\n",
       "      <td>47</td>\n",
       "      <td>44</td>\n",
       "      <td>101</td>\n",
       "      <td>144</td>\n",
       "      <td>149</td>\n",
       "      <td>120</td>\n",
       "      <td>58</td>\n",
       "      <td>48</td>\n",
       "      <td>42</td>\n",
       "      <td>...</td>\n",
       "      <td>254</td>\n",
       "      <td>254</td>\n",
       "      <td>254</td>\n",
       "      <td>253</td>\n",
       "      <td>255</td>\n",
       "      <td>236</td>\n",
       "      <td>174</td>\n",
       "      <td>175</td>\n",
       "      <td>175</td>\n",
       "      <td>165</td>\n",
       "    </tr>\n",
       "  </tbody>\n",
       "</table>\n",
       "<p>5 rows × 9216 columns</p>\n",
       "</div>"
      ],
      "text/plain": [
       "  pixel_0 pixel_1 pixel_2 pixel_3 pixel_4 pixel_5 pixel_6 pixel_7 pixel_8  \\\n",
       "0     182     183     182     182     180     180     176     169     156   \n",
       "1      76      87      81      72      65      59      64      76      69   \n",
       "2     177     176     174     170     169     169     168     166     166   \n",
       "3     176     174     174     175     174     174     176     176     175   \n",
       "4      50      47      44     101     144     149     120      58      48   \n",
       "\n",
       "  pixel_9  ... pixel_9206 pixel_9207 pixel_9208 pixel_9209 pixel_9210  \\\n",
       "0     137  ...          6         14         28         28         24   \n",
       "1      42  ...        156        152        162        169        168   \n",
       "2     166  ...          1          1          1          1          1   \n",
       "3     171  ...        144        143        141        142        143   \n",
       "4      42  ...        254        254        254        253        255   \n",
       "\n",
       "  pixel_9211 pixel_9212 pixel_9213 pixel_9214 pixel_9215  \n",
       "0         18         12          8          5          5  \n",
       "1        159        191        228        211        168  \n",
       "2          1          1          1          1          1  \n",
       "3        142        142        142        142        140  \n",
       "4        236        174        175        175        165  \n",
       "\n",
       "[5 rows x 9216 columns]"
      ]
     },
     "execution_count": 15,
     "metadata": {},
     "output_type": "execute_result"
    }
   ],
   "source": [
    "test_X.head()"
   ]
  },
  {
   "cell_type": "code",
   "execution_count": 16,
   "metadata": {},
   "outputs": [],
   "source": [
    "train_test_split= sklearn.model_selection.train_test_split"
   ]
  },
  {
   "cell_type": "code",
   "execution_count": 17,
   "metadata": {},
   "outputs": [],
   "source": [
    "model_Y_train, model_Y_val, model_X_train, model_X_val = train_test_split(\n",
    "    model_Y, model_X, test_size = 0.2, random_state= random_state)"
   ]
  },
  {
   "cell_type": "code",
   "execution_count": 18,
   "metadata": {},
   "outputs": [
    {
     "data": {
      "text/html": [
       "<div>\n",
       "<style scoped>\n",
       "    .dataframe tbody tr th:only-of-type {\n",
       "        vertical-align: middle;\n",
       "    }\n",
       "\n",
       "    .dataframe tbody tr th {\n",
       "        vertical-align: top;\n",
       "    }\n",
       "\n",
       "    .dataframe thead th {\n",
       "        text-align: right;\n",
       "    }\n",
       "</style>\n",
       "<table border=\"1\" class=\"dataframe\">\n",
       "  <thead>\n",
       "    <tr style=\"text-align: right;\">\n",
       "      <th></th>\n",
       "      <th>left_eye_center_x</th>\n",
       "      <th>left_eye_center_y</th>\n",
       "      <th>right_eye_center_x</th>\n",
       "      <th>right_eye_center_y</th>\n",
       "      <th>left_eye_inner_corner_x</th>\n",
       "      <th>left_eye_inner_corner_y</th>\n",
       "      <th>left_eye_outer_corner_x</th>\n",
       "      <th>left_eye_outer_corner_y</th>\n",
       "      <th>right_eye_inner_corner_x</th>\n",
       "      <th>right_eye_inner_corner_y</th>\n",
       "      <th>...</th>\n",
       "      <th>nose_tip_x</th>\n",
       "      <th>nose_tip_y</th>\n",
       "      <th>mouth_left_corner_x</th>\n",
       "      <th>mouth_left_corner_y</th>\n",
       "      <th>mouth_right_corner_x</th>\n",
       "      <th>mouth_right_corner_y</th>\n",
       "      <th>mouth_center_top_lip_x</th>\n",
       "      <th>mouth_center_top_lip_y</th>\n",
       "      <th>mouth_center_bottom_lip_x</th>\n",
       "      <th>mouth_center_bottom_lip_y</th>\n",
       "    </tr>\n",
       "  </thead>\n",
       "  <tbody>\n",
       "    <tr>\n",
       "      <td>973</td>\n",
       "      <td>65.859024</td>\n",
       "      <td>37.614009</td>\n",
       "      <td>31.401071</td>\n",
       "      <td>38.289638</td>\n",
       "      <td>60.116409</td>\n",
       "      <td>39.303080</td>\n",
       "      <td>72.615307</td>\n",
       "      <td>37.951824</td>\n",
       "      <td>36.806551</td>\n",
       "      <td>39.303080</td>\n",
       "      <td>...</td>\n",
       "      <td>44.238614</td>\n",
       "      <td>62.274520</td>\n",
       "      <td>63.494551</td>\n",
       "      <td>77.814425</td>\n",
       "      <td>33.766299</td>\n",
       "      <td>78.152315</td>\n",
       "      <td>45.927307</td>\n",
       "      <td>72.747591</td>\n",
       "      <td>45.927307</td>\n",
       "      <td>88.624630</td>\n",
       "    </tr>\n",
       "    <tr>\n",
       "      <td>558</td>\n",
       "      <td>66.454252</td>\n",
       "      <td>39.431841</td>\n",
       "      <td>30.444079</td>\n",
       "      <td>36.860185</td>\n",
       "      <td>60.738119</td>\n",
       "      <td>39.717934</td>\n",
       "      <td>73.027391</td>\n",
       "      <td>40.575576</td>\n",
       "      <td>36.160212</td>\n",
       "      <td>37.431735</td>\n",
       "      <td>...</td>\n",
       "      <td>47.020291</td>\n",
       "      <td>60.294993</td>\n",
       "      <td>59.881113</td>\n",
       "      <td>82.872795</td>\n",
       "      <td>35.017113</td>\n",
       "      <td>82.015788</td>\n",
       "      <td>47.305748</td>\n",
       "      <td>78.014305</td>\n",
       "      <td>47.591841</td>\n",
       "      <td>89.732026</td>\n",
       "    </tr>\n",
       "    <tr>\n",
       "      <td>2263</td>\n",
       "      <td>64.394739</td>\n",
       "      <td>36.276100</td>\n",
       "      <td>31.050884</td>\n",
       "      <td>38.969615</td>\n",
       "      <td>56.314195</td>\n",
       "      <td>37.158458</td>\n",
       "      <td>70.710567</td>\n",
       "      <td>36.485079</td>\n",
       "      <td>39.015329</td>\n",
       "      <td>39.039274</td>\n",
       "      <td>...</td>\n",
       "      <td>58.184127</td>\n",
       "      <td>57.993651</td>\n",
       "      <td>63.169321</td>\n",
       "      <td>79.992218</td>\n",
       "      <td>35.311362</td>\n",
       "      <td>83.989497</td>\n",
       "      <td>50.092684</td>\n",
       "      <td>80.191877</td>\n",
       "      <td>52.079435</td>\n",
       "      <td>82.411084</td>\n",
       "    </tr>\n",
       "    <tr>\n",
       "      <td>192</td>\n",
       "      <td>64.820293</td>\n",
       "      <td>38.478049</td>\n",
       "      <td>30.288390</td>\n",
       "      <td>38.478049</td>\n",
       "      <td>58.890927</td>\n",
       "      <td>39.175805</td>\n",
       "      <td>71.796293</td>\n",
       "      <td>40.571317</td>\n",
       "      <td>35.171902</td>\n",
       "      <td>39.524683</td>\n",
       "      <td>...</td>\n",
       "      <td>42.147902</td>\n",
       "      <td>53.128585</td>\n",
       "      <td>64.123317</td>\n",
       "      <td>76.846829</td>\n",
       "      <td>27.847024</td>\n",
       "      <td>74.405463</td>\n",
       "      <td>43.392000</td>\n",
       "      <td>68.902244</td>\n",
       "      <td>43.067317</td>\n",
       "      <td>86.867512</td>\n",
       "    </tr>\n",
       "    <tr>\n",
       "      <td>683</td>\n",
       "      <td>67.008738</td>\n",
       "      <td>39.899815</td>\n",
       "      <td>30.705969</td>\n",
       "      <td>38.249354</td>\n",
       "      <td>60.078277</td>\n",
       "      <td>40.560000</td>\n",
       "      <td>73.279015</td>\n",
       "      <td>41.549538</td>\n",
       "      <td>36.646154</td>\n",
       "      <td>39.239631</td>\n",
       "      <td>...</td>\n",
       "      <td>48.197169</td>\n",
       "      <td>60.031015</td>\n",
       "      <td>59.418092</td>\n",
       "      <td>83.793231</td>\n",
       "      <td>35.656615</td>\n",
       "      <td>83.463138</td>\n",
       "      <td>48.197169</td>\n",
       "      <td>75.872492</td>\n",
       "      <td>47.867077</td>\n",
       "      <td>92.373415</td>\n",
       "    </tr>\n",
       "  </tbody>\n",
       "</table>\n",
       "<p>5 rows × 30 columns</p>\n",
       "</div>"
      ],
      "text/plain": [
       "      left_eye_center_x  left_eye_center_y  right_eye_center_x  \\\n",
       "973           65.859024          37.614009           31.401071   \n",
       "558           66.454252          39.431841           30.444079   \n",
       "2263          64.394739          36.276100           31.050884   \n",
       "192           64.820293          38.478049           30.288390   \n",
       "683           67.008738          39.899815           30.705969   \n",
       "\n",
       "      right_eye_center_y  left_eye_inner_corner_x  left_eye_inner_corner_y  \\\n",
       "973            38.289638                60.116409                39.303080   \n",
       "558            36.860185                60.738119                39.717934   \n",
       "2263           38.969615                56.314195                37.158458   \n",
       "192            38.478049                58.890927                39.175805   \n",
       "683            38.249354                60.078277                40.560000   \n",
       "\n",
       "      left_eye_outer_corner_x  left_eye_outer_corner_y  \\\n",
       "973                 72.615307                37.951824   \n",
       "558                 73.027391                40.575576   \n",
       "2263                70.710567                36.485079   \n",
       "192                 71.796293                40.571317   \n",
       "683                 73.279015                41.549538   \n",
       "\n",
       "      right_eye_inner_corner_x  right_eye_inner_corner_y  ...  nose_tip_x  \\\n",
       "973                  36.806551                 39.303080  ...   44.238614   \n",
       "558                  36.160212                 37.431735  ...   47.020291   \n",
       "2263                 39.015329                 39.039274  ...   58.184127   \n",
       "192                  35.171902                 39.524683  ...   42.147902   \n",
       "683                  36.646154                 39.239631  ...   48.197169   \n",
       "\n",
       "      nose_tip_y  mouth_left_corner_x  mouth_left_corner_y  \\\n",
       "973    62.274520            63.494551            77.814425   \n",
       "558    60.294993            59.881113            82.872795   \n",
       "2263   57.993651            63.169321            79.992218   \n",
       "192    53.128585            64.123317            76.846829   \n",
       "683    60.031015            59.418092            83.793231   \n",
       "\n",
       "      mouth_right_corner_x  mouth_right_corner_y  mouth_center_top_lip_x  \\\n",
       "973              33.766299             78.152315               45.927307   \n",
       "558              35.017113             82.015788               47.305748   \n",
       "2263             35.311362             83.989497               50.092684   \n",
       "192              27.847024             74.405463               43.392000   \n",
       "683              35.656615             83.463138               48.197169   \n",
       "\n",
       "      mouth_center_top_lip_y  mouth_center_bottom_lip_x  \\\n",
       "973                72.747591                  45.927307   \n",
       "558                78.014305                  47.591841   \n",
       "2263               80.191877                  52.079435   \n",
       "192                68.902244                  43.067317   \n",
       "683                75.872492                  47.867077   \n",
       "\n",
       "      mouth_center_bottom_lip_y  \n",
       "973                   88.624630  \n",
       "558                   89.732026  \n",
       "2263                  82.411084  \n",
       "192                   86.867512  \n",
       "683                   92.373415  \n",
       "\n",
       "[5 rows x 30 columns]"
      ]
     },
     "execution_count": 18,
     "metadata": {},
     "output_type": "execute_result"
    }
   ],
   "source": [
    "model_Y_train.head()"
   ]
  },
  {
   "cell_type": "code",
   "execution_count": 19,
   "metadata": {},
   "outputs": [
    {
     "data": {
      "text/html": [
       "<div>\n",
       "<style scoped>\n",
       "    .dataframe tbody tr th:only-of-type {\n",
       "        vertical-align: middle;\n",
       "    }\n",
       "\n",
       "    .dataframe tbody tr th {\n",
       "        vertical-align: top;\n",
       "    }\n",
       "\n",
       "    .dataframe thead th {\n",
       "        text-align: right;\n",
       "    }\n",
       "</style>\n",
       "<table border=\"1\" class=\"dataframe\">\n",
       "  <thead>\n",
       "    <tr style=\"text-align: right;\">\n",
       "      <th></th>\n",
       "      <th>pixel_0</th>\n",
       "      <th>pixel_1</th>\n",
       "      <th>pixel_2</th>\n",
       "      <th>pixel_3</th>\n",
       "      <th>pixel_4</th>\n",
       "      <th>pixel_5</th>\n",
       "      <th>pixel_6</th>\n",
       "      <th>pixel_7</th>\n",
       "      <th>pixel_8</th>\n",
       "      <th>pixel_9</th>\n",
       "      <th>...</th>\n",
       "      <th>pixel_9206</th>\n",
       "      <th>pixel_9207</th>\n",
       "      <th>pixel_9208</th>\n",
       "      <th>pixel_9209</th>\n",
       "      <th>pixel_9210</th>\n",
       "      <th>pixel_9211</th>\n",
       "      <th>pixel_9212</th>\n",
       "      <th>pixel_9213</th>\n",
       "      <th>pixel_9214</th>\n",
       "      <th>pixel_9215</th>\n",
       "    </tr>\n",
       "  </thead>\n",
       "  <tbody>\n",
       "    <tr>\n",
       "      <td>973</td>\n",
       "      <td>125</td>\n",
       "      <td>125</td>\n",
       "      <td>123</td>\n",
       "      <td>123</td>\n",
       "      <td>125</td>\n",
       "      <td>126</td>\n",
       "      <td>128</td>\n",
       "      <td>129</td>\n",
       "      <td>126</td>\n",
       "      <td>128</td>\n",
       "      <td>...</td>\n",
       "      <td>18</td>\n",
       "      <td>8</td>\n",
       "      <td>1</td>\n",
       "      <td>4</td>\n",
       "      <td>11</td>\n",
       "      <td>22</td>\n",
       "      <td>18</td>\n",
       "      <td>19</td>\n",
       "      <td>33</td>\n",
       "      <td>53</td>\n",
       "    </tr>\n",
       "    <tr>\n",
       "      <td>558</td>\n",
       "      <td>67</td>\n",
       "      <td>73</td>\n",
       "      <td>80</td>\n",
       "      <td>83</td>\n",
       "      <td>95</td>\n",
       "      <td>98</td>\n",
       "      <td>95</td>\n",
       "      <td>96</td>\n",
       "      <td>90</td>\n",
       "      <td>96</td>\n",
       "      <td>...</td>\n",
       "      <td>150</td>\n",
       "      <td>146</td>\n",
       "      <td>144</td>\n",
       "      <td>146</td>\n",
       "      <td>148</td>\n",
       "      <td>148</td>\n",
       "      <td>148</td>\n",
       "      <td>151</td>\n",
       "      <td>152</td>\n",
       "      <td>149</td>\n",
       "    </tr>\n",
       "    <tr>\n",
       "      <td>2263</td>\n",
       "      <td>8</td>\n",
       "      <td>8</td>\n",
       "      <td>8</td>\n",
       "      <td>7</td>\n",
       "      <td>7</td>\n",
       "      <td>10</td>\n",
       "      <td>11</td>\n",
       "      <td>11</td>\n",
       "      <td>11</td>\n",
       "      <td>11</td>\n",
       "      <td>...</td>\n",
       "      <td>118</td>\n",
       "      <td>120</td>\n",
       "      <td>117</td>\n",
       "      <td>120</td>\n",
       "      <td>119</td>\n",
       "      <td>114</td>\n",
       "      <td>113</td>\n",
       "      <td>116</td>\n",
       "      <td>115</td>\n",
       "      <td>117</td>\n",
       "    </tr>\n",
       "    <tr>\n",
       "      <td>192</td>\n",
       "      <td>131</td>\n",
       "      <td>131</td>\n",
       "      <td>132</td>\n",
       "      <td>133</td>\n",
       "      <td>134</td>\n",
       "      <td>133</td>\n",
       "      <td>132</td>\n",
       "      <td>132</td>\n",
       "      <td>134</td>\n",
       "      <td>123</td>\n",
       "      <td>...</td>\n",
       "      <td>99</td>\n",
       "      <td>101</td>\n",
       "      <td>96</td>\n",
       "      <td>93</td>\n",
       "      <td>93</td>\n",
       "      <td>92</td>\n",
       "      <td>91</td>\n",
       "      <td>89</td>\n",
       "      <td>87</td>\n",
       "      <td>85</td>\n",
       "    </tr>\n",
       "    <tr>\n",
       "      <td>683</td>\n",
       "      <td>141</td>\n",
       "      <td>111</td>\n",
       "      <td>104</td>\n",
       "      <td>103</td>\n",
       "      <td>109</td>\n",
       "      <td>132</td>\n",
       "      <td>137</td>\n",
       "      <td>128</td>\n",
       "      <td>129</td>\n",
       "      <td>130</td>\n",
       "      <td>...</td>\n",
       "      <td>159</td>\n",
       "      <td>159</td>\n",
       "      <td>160</td>\n",
       "      <td>159</td>\n",
       "      <td>159</td>\n",
       "      <td>139</td>\n",
       "      <td>110</td>\n",
       "      <td>94</td>\n",
       "      <td>94</td>\n",
       "      <td>95</td>\n",
       "    </tr>\n",
       "  </tbody>\n",
       "</table>\n",
       "<p>5 rows × 9216 columns</p>\n",
       "</div>"
      ],
      "text/plain": [
       "     pixel_0 pixel_1 pixel_2 pixel_3 pixel_4 pixel_5 pixel_6 pixel_7 pixel_8  \\\n",
       "973      125     125     123     123     125     126     128     129     126   \n",
       "558       67      73      80      83      95      98      95      96      90   \n",
       "2263       8       8       8       7       7      10      11      11      11   \n",
       "192      131     131     132     133     134     133     132     132     134   \n",
       "683      141     111     104     103     109     132     137     128     129   \n",
       "\n",
       "     pixel_9  ... pixel_9206 pixel_9207 pixel_9208 pixel_9209 pixel_9210  \\\n",
       "973      128  ...         18          8          1          4         11   \n",
       "558       96  ...        150        146        144        146        148   \n",
       "2263      11  ...        118        120        117        120        119   \n",
       "192      123  ...         99        101         96         93         93   \n",
       "683      130  ...        159        159        160        159        159   \n",
       "\n",
       "     pixel_9211 pixel_9212 pixel_9213 pixel_9214 pixel_9215  \n",
       "973          22         18         19         33         53  \n",
       "558         148        148        151        152        149  \n",
       "2263        114        113        116        115        117  \n",
       "192          92         91         89         87         85  \n",
       "683         139        110         94         94         95  \n",
       "\n",
       "[5 rows x 9216 columns]"
      ]
     },
     "execution_count": 19,
     "metadata": {},
     "output_type": "execute_result"
    }
   ],
   "source": [
    "model_X_train.head()"
   ]
  },
  {
   "cell_type": "markdown",
   "metadata": {},
   "source": [
    "## Linear Regression Model"
   ]
  },
  {
   "cell_type": "code",
   "execution_count": 20,
   "metadata": {},
   "outputs": [],
   "source": [
    "lm = LinearRegression(normalize=True, n_jobs=-1)"
   ]
  },
  {
   "cell_type": "raw",
   "metadata": {},
   "source": [
    "lm.fit(model_X_train, model_Y_train)"
   ]
  },
  {
   "cell_type": "code",
   "execution_count": 21,
   "metadata": {},
   "outputs": [],
   "source": [
    "linear_model_pickle_filename = 'SaveFiles/linear_model.pkl'"
   ]
  },
  {
   "cell_type": "raw",
   "metadata": {},
   "source": [
    "with open(linear_model_pickle_filename, 'wb') as file:\n",
    "    pickle.dump(lm, file)"
   ]
  },
  {
   "cell_type": "code",
   "execution_count": 22,
   "metadata": {},
   "outputs": [],
   "source": [
    "with open(linear_model_pickle_filename, 'rb') as file:\n",
    "    lm = pickle.load(file)"
   ]
  },
  {
   "cell_type": "code",
   "execution_count": 23,
   "metadata": {},
   "outputs": [],
   "source": [
    "model_Y_train_predict = lm.predict(model_X_train)"
   ]
  },
  {
   "cell_type": "code",
   "execution_count": 24,
   "metadata": {},
   "outputs": [
    {
     "data": {
      "text/plain": [
       "(1712, 30)"
      ]
     },
     "execution_count": 24,
     "metadata": {},
     "output_type": "execute_result"
    }
   ],
   "source": [
    "model_Y_train.shape"
   ]
  },
  {
   "cell_type": "code",
   "execution_count": 25,
   "metadata": {},
   "outputs": [
    {
     "data": {
      "text/plain": [
       "(1712, 30)"
      ]
     },
     "execution_count": 25,
     "metadata": {},
     "output_type": "execute_result"
    }
   ],
   "source": [
    "model_Y_train_predict.shape"
   ]
  },
  {
   "cell_type": "code",
   "execution_count": 26,
   "metadata": {},
   "outputs": [],
   "source": [
    "model_Y_val_predict = lm.predict(model_X_val)"
   ]
  },
  {
   "cell_type": "code",
   "execution_count": 27,
   "metadata": {},
   "outputs": [
    {
     "data": {
      "text/plain": [
       "(428, 30)"
      ]
     },
     "execution_count": 27,
     "metadata": {},
     "output_type": "execute_result"
    }
   ],
   "source": [
    "model_Y_val.shape"
   ]
  },
  {
   "cell_type": "code",
   "execution_count": 28,
   "metadata": {},
   "outputs": [
    {
     "data": {
      "text/plain": [
       "(428, 30)"
      ]
     },
     "execution_count": 28,
     "metadata": {},
     "output_type": "execute_result"
    }
   ],
   "source": [
    "model_Y_val_predict.shape"
   ]
  },
  {
   "cell_type": "raw",
   "metadata": {},
   "source": [
    "mae?"
   ]
  },
  {
   "cell_type": "code",
   "execution_count": 29,
   "metadata": {},
   "outputs": [
    {
     "data": {
      "text/plain": [
       "2.138988190446663e-14"
      ]
     },
     "execution_count": 29,
     "metadata": {},
     "output_type": "execute_result"
    }
   ],
   "source": [
    "mae(model_Y_train, model_Y_train_predict)"
   ]
  },
  {
   "cell_type": "code",
   "execution_count": 30,
   "metadata": {},
   "outputs": [
    {
     "data": {
      "text/plain": [
       "2.857384927531368e-14"
      ]
     },
     "execution_count": 30,
     "metadata": {},
     "output_type": "execute_result"
    }
   ],
   "source": [
    "np.sqrt(mse(model_Y_train, model_Y_train_predict))"
   ]
  },
  {
   "cell_type": "code",
   "execution_count": 31,
   "metadata": {},
   "outputs": [
    {
     "data": {
      "text/plain": [
       "1.8189000608396906"
      ]
     },
     "execution_count": 31,
     "metadata": {},
     "output_type": "execute_result"
    }
   ],
   "source": [
    "mae(model_Y_val, model_Y_val_predict)"
   ]
  },
  {
   "cell_type": "code",
   "execution_count": 32,
   "metadata": {},
   "outputs": [
    {
     "data": {
      "text/plain": [
       "2.6900605681510763"
      ]
     },
     "execution_count": 32,
     "metadata": {},
     "output_type": "execute_result"
    }
   ],
   "source": [
    "np.sqrt(mse(model_Y_val, model_Y_val_predict))"
   ]
  },
  {
   "cell_type": "code",
   "execution_count": null,
   "metadata": {},
   "outputs": [],
   "source": []
  },
  {
   "cell_type": "code",
   "execution_count": null,
   "metadata": {},
   "outputs": [],
   "source": []
  },
  {
   "cell_type": "code",
   "execution_count": 37,
   "metadata": {},
   "outputs": [],
   "source": [
    "lm_final = LinearRegression(normalize=True, n_jobs=-1)"
   ]
  },
  {
   "cell_type": "raw",
   "metadata": {},
   "source": [
    "lm_final.fit(model_X, model_Y)"
   ]
  },
  {
   "cell_type": "code",
   "execution_count": 39,
   "metadata": {},
   "outputs": [],
   "source": [
    "lm_final_pickle_filename = 'SaveFiles/linear_model_final.pkl'"
   ]
  },
  {
   "cell_type": "raw",
   "metadata": {},
   "source": [
    "with open(lm_final_pickle_filename, 'wb') as file:\n",
    "    pickle.dump(lm, file)"
   ]
  },
  {
   "cell_type": "code",
   "execution_count": null,
   "metadata": {},
   "outputs": [],
   "source": [
    "with open(lm_final_pickle_filename, 'rb') as file:\n",
    "    lm_final = pickle.load(file)"
   ]
  },
  {
   "cell_type": "code",
   "execution_count": 41,
   "metadata": {},
   "outputs": [],
   "source": [
    "test_Y_predict = lm_final.predict(test_X)"
   ]
  },
  {
   "cell_type": "code",
   "execution_count": 42,
   "metadata": {},
   "outputs": [
    {
     "data": {
      "text/plain": [
       "array([[64.18892972, 39.26118461, 30.39136087, ..., 64.47382885,\n",
       "        49.50362263, 83.820405  ],\n",
       "       [69.50215528, 35.16894307, 26.74583498, ..., 74.65862369,\n",
       "        50.01506021, 91.06448609],\n",
       "       [64.60107734, 36.11410748, 30.15384532, ..., 70.19301237,\n",
       "        47.66406199, 87.73528732],\n",
       "       ...,\n",
       "       [67.8421813 , 37.9767502 , 29.57358863, ..., 74.79866535,\n",
       "        45.44224628, 81.9750641 ],\n",
       "       [67.5671518 , 39.13697232, 32.4436598 , ..., 67.14983004,\n",
       "        45.07487048, 78.00485212],\n",
       "       [67.02143566, 37.85766006, 31.13605302, ..., 72.68271023,\n",
       "        45.370004  , 83.21342213]])"
      ]
     },
     "execution_count": 42,
     "metadata": {},
     "output_type": "execute_result"
    }
   ],
   "source": [
    "test_Y_predict"
   ]
  },
  {
   "cell_type": "code",
   "execution_count": 81,
   "metadata": {},
   "outputs": [],
   "source": [
    "lm_submission['Location'] = lm_submission.Location.astype(int)"
   ]
  },
  {
   "cell_type": "code",
   "execution_count": 43,
   "metadata": {},
   "outputs": [
    {
     "name": "stderr",
     "output_type": "stream",
     "text": [
      "C:\\Users\\Kaustubh\\Anaconda3\\lib\\site-packages\\ipykernel_launcher.py:12: SettingWithCopyWarning: \n",
      "A value is trying to be set on a copy of a slice from a DataFrame\n",
      "\n",
      "See the caveats in the documentation: http://pandas.pydata.org/pandas-docs/stable/user_guide/indexing.html#returning-a-view-versus-a-copy\n",
      "  if sys.path[0] == '':\n",
      "C:\\Users\\Kaustubh\\Anaconda3\\lib\\site-packages\\ipykernel_launcher.py:13: SettingWithCopyWarning: \n",
      "A value is trying to be set on a copy of a slice from a DataFrame\n",
      "\n",
      "See the caveats in the documentation: http://pandas.pydata.org/pandas-docs/stable/user_guide/indexing.html#returning-a-view-versus-a-copy\n",
      "  del sys.path[0]\n"
     ]
    }
   ],
   "source": [
    "lm_submission = prediction_to_submission(test_Y_predict, model_Y.columns, test['ImageId'])"
   ]
  },
  {
   "cell_type": "code",
   "execution_count": 44,
   "metadata": {},
   "outputs": [],
   "source": [
    "lm_submission.to_csv('Output/lm_submission.csv', index = False)"
   ]
  },
  {
   "cell_type": "code",
   "execution_count": null,
   "metadata": {},
   "outputs": [],
   "source": []
  },
  {
   "cell_type": "code",
   "execution_count": null,
   "metadata": {},
   "outputs": [],
   "source": []
  },
  {
   "cell_type": "markdown",
   "metadata": {},
   "source": [
    "## Elastic Net"
   ]
  },
  {
   "cell_type": "code",
   "execution_count": 33,
   "metadata": {},
   "outputs": [],
   "source": [
    "from sklearn.linear_model import MultiTaskElasticNetCV"
   ]
  },
  {
   "cell_type": "code",
   "execution_count": 34,
   "metadata": {},
   "outputs": [],
   "source": [
    "elastic_net_cv = MultiTaskElasticNetCV(l1_ratio=[.1, .7, 1], random_state=random_state, normalize = True,\n",
    "                                       fit_intercept = True, eps = 1e-3, n_alphas = 10,\n",
    "                                       max_iter=100, cv = 3, n_jobs=-1, selection = 'random')"
   ]
  },
  {
   "cell_type": "raw",
   "metadata": {},
   "source": [
    "elastic_net_cv.fit(model_X_train, model_Y_train)"
   ]
  },
  {
   "cell_type": "code",
   "execution_count": 35,
   "metadata": {},
   "outputs": [],
   "source": [
    "elastic_net_pickle_filename = 'SaveFiles/elastic_net_model.pkl'"
   ]
  },
  {
   "cell_type": "raw",
   "metadata": {},
   "source": [
    "with open(elastic_net_pickle_filename, 'wb') as file:\n",
    "    pickle.dump(elastic_net_cv, file)"
   ]
  },
  {
   "cell_type": "code",
   "execution_count": 36,
   "metadata": {},
   "outputs": [],
   "source": [
    "with open(elastic_net_pickle_filename, 'rb') as file:\n",
    "    elastic_net_cv = pickle.load(file)"
   ]
  },
  {
   "cell_type": "code",
   "execution_count": 37,
   "metadata": {},
   "outputs": [],
   "source": [
    "model_Y_train_predict_en = elastic_net_cv.predict(model_X_train)"
   ]
  },
  {
   "cell_type": "code",
   "execution_count": 38,
   "metadata": {},
   "outputs": [
    {
     "data": {
      "text/plain": [
       "(1712, 30)"
      ]
     },
     "execution_count": 38,
     "metadata": {},
     "output_type": "execute_result"
    }
   ],
   "source": [
    "model_Y_train.shape"
   ]
  },
  {
   "cell_type": "code",
   "execution_count": 39,
   "metadata": {},
   "outputs": [
    {
     "data": {
      "text/plain": [
       "(1712, 30)"
      ]
     },
     "execution_count": 39,
     "metadata": {},
     "output_type": "execute_result"
    }
   ],
   "source": [
    "model_Y_train.shape"
   ]
  },
  {
   "cell_type": "code",
   "execution_count": 40,
   "metadata": {},
   "outputs": [],
   "source": [
    "model_Y_val_predict_en = elastic_net_cv.predict(model_X_val)"
   ]
  },
  {
   "cell_type": "code",
   "execution_count": 41,
   "metadata": {},
   "outputs": [
    {
     "data": {
      "text/plain": [
       "(428, 30)"
      ]
     },
     "execution_count": 41,
     "metadata": {},
     "output_type": "execute_result"
    }
   ],
   "source": [
    "model_Y_val.shape"
   ]
  },
  {
   "cell_type": "code",
   "execution_count": 42,
   "metadata": {},
   "outputs": [
    {
     "data": {
      "text/plain": [
       "(428, 30)"
      ]
     },
     "execution_count": 42,
     "metadata": {},
     "output_type": "execute_result"
    }
   ],
   "source": [
    "model_Y_val_predict_en.shape"
   ]
  },
  {
   "cell_type": "raw",
   "metadata": {},
   "source": [
    "mae?"
   ]
  },
  {
   "cell_type": "code",
   "execution_count": 43,
   "metadata": {},
   "outputs": [
    {
     "data": {
      "text/plain": [
       "1.2095706954491559"
      ]
     },
     "execution_count": 43,
     "metadata": {},
     "output_type": "execute_result"
    }
   ],
   "source": [
    "mae(model_Y_train, model_Y_train_predict_en)"
   ]
  },
  {
   "cell_type": "code",
   "execution_count": 44,
   "metadata": {},
   "outputs": [
    {
     "data": {
      "text/plain": [
       "1.7813351883969089"
      ]
     },
     "execution_count": 44,
     "metadata": {},
     "output_type": "execute_result"
    }
   ],
   "source": [
    "np.sqrt(mse(model_Y_train, model_Y_train_predict_en))"
   ]
  },
  {
   "cell_type": "code",
   "execution_count": 45,
   "metadata": {},
   "outputs": [
    {
     "data": {
      "text/plain": [
       "1.3803407183933094"
      ]
     },
     "execution_count": 45,
     "metadata": {},
     "output_type": "execute_result"
    }
   ],
   "source": [
    "mae(model_Y_val, model_Y_val_predict_en)"
   ]
  },
  {
   "cell_type": "code",
   "execution_count": 46,
   "metadata": {},
   "outputs": [
    {
     "data": {
      "text/plain": [
       "2.0504856770388926"
      ]
     },
     "execution_count": 46,
     "metadata": {},
     "output_type": "execute_result"
    }
   ],
   "source": [
    "np.sqrt(mse(model_Y_val, model_Y_val_predict_en))"
   ]
  },
  {
   "cell_type": "code",
   "execution_count": null,
   "metadata": {},
   "outputs": [],
   "source": []
  },
  {
   "cell_type": "code",
   "execution_count": 47,
   "metadata": {},
   "outputs": [],
   "source": [
    "en_final = MultiTaskElasticNetCV(l1_ratio=[.1, .5, .75,.95, 1], random_state=random_state, normalize = True,\n",
    "                                       fit_intercept = True, eps = 1e-4, n_alphas = 50,\n",
    "                                       max_iter=500, cv = 5, n_jobs=-1, selection = 'random')"
   ]
  },
  {
   "cell_type": "raw",
   "metadata": {},
   "source": [
    "en_final.fit(model_X, model_Y)"
   ]
  },
  {
   "cell_type": "code",
   "execution_count": 48,
   "metadata": {},
   "outputs": [],
   "source": [
    "en_final_pickle_filename = 'SaveFiles/elastic_net_model_final.pkl'"
   ]
  },
  {
   "cell_type": "raw",
   "metadata": {},
   "source": [
    "with open(en_final_pickle_filename, 'wb') as file:\n",
    "    pickle.dump(en_final, file)"
   ]
  },
  {
   "cell_type": "code",
   "execution_count": 49,
   "metadata": {},
   "outputs": [],
   "source": [
    "with open(en_final_pickle_filename, 'rb') as file:\n",
    "    en_final = pickle.load(file)"
   ]
  },
  {
   "cell_type": "code",
   "execution_count": 50,
   "metadata": {},
   "outputs": [],
   "source": [
    "test_Y_predict_en = en_final.predict(test_X)"
   ]
  },
  {
   "cell_type": "code",
   "execution_count": 51,
   "metadata": {},
   "outputs": [
    {
     "name": "stderr",
     "output_type": "stream",
     "text": [
      "C:\\Work\\Projects\\KaggleProjects\\FacialKeypointsDetection\\utils.py:20: SettingWithCopyWarning: \n",
      "A value is trying to be set on a copy of a slice from a DataFrame\n",
      "\n",
      "See the caveats in the documentation: http://pandas.pydata.org/pandas-docs/stable/user_guide/indexing.html#returning-a-view-versus-a-copy\n",
      "  submission['Location'] = submission.Location.round(0)\n",
      "C:\\Work\\Projects\\KaggleProjects\\FacialKeypointsDetection\\utils.py:21: SettingWithCopyWarning: \n",
      "A value is trying to be set on a copy of a slice from a DataFrame\n",
      "\n",
      "See the caveats in the documentation: http://pandas.pydata.org/pandas-docs/stable/user_guide/indexing.html#returning-a-view-versus-a-copy\n",
      "  submission['Location'][submission.Location > 96] = 96\n"
     ]
    }
   ],
   "source": [
    "en_submission = prediction_to_submission(test_Y_predict_en, model_Y.columns, test['ImageId'])"
   ]
  },
  {
   "cell_type": "code",
   "execution_count": 52,
   "metadata": {},
   "outputs": [],
   "source": [
    "en_submission.to_csv('Output/en_submission.csv', index = False)"
   ]
  },
  {
   "cell_type": "code",
   "execution_count": null,
   "metadata": {},
   "outputs": [],
   "source": []
  }
 ],
 "metadata": {
  "kernelspec": {
   "display_name": "Python 3",
   "language": "python",
   "name": "python3"
  },
  "language_info": {
   "codemirror_mode": {
    "name": "ipython",
    "version": 3
   },
   "file_extension": ".py",
   "mimetype": "text/x-python",
   "name": "python",
   "nbconvert_exporter": "python",
   "pygments_lexer": "ipython3",
   "version": "3.7.4"
  },
  "widgets": {
   "application/vnd.jupyter.widget-state+json": {
    "state": {},
    "version_major": 2,
    "version_minor": 0
   }
  }
 },
 "nbformat": 4,
 "nbformat_minor": 4
}
