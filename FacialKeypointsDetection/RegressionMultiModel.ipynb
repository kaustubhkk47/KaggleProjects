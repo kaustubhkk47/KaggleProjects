{
 "cells": [
  {
   "cell_type": "code",
   "execution_count": 1,
   "metadata": {},
   "outputs": [],
   "source": [
    "from utils import *"
   ]
  },
  {
   "cell_type": "code",
   "execution_count": 2,
   "metadata": {},
   "outputs": [],
   "source": [
    "%matplotlib inline"
   ]
  },
  {
   "cell_type": "code",
   "execution_count": 3,
   "metadata": {},
   "outputs": [],
   "source": [
    "from sklearn.linear_model import LinearRegression\n",
    "mae =  sklearn.metrics.mean_absolute_error\n",
    "mse = sklearn.metrics.mean_squared_error"
   ]
  },
  {
   "cell_type": "code",
   "execution_count": 70,
   "metadata": {},
   "outputs": [],
   "source": [
    "from sklearn.multioutput import MultiOutputRegressor"
   ]
  },
  {
   "cell_type": "code",
   "execution_count": 4,
   "metadata": {},
   "outputs": [],
   "source": [
    "def rmse(x):\n",
    "    return np.sqrt(mse(x))"
   ]
  },
  {
   "cell_type": "code",
   "execution_count": 5,
   "metadata": {},
   "outputs": [],
   "source": [
    "train = pd.read_feather('SaveFiles/train.feather')"
   ]
  },
  {
   "cell_type": "code",
   "execution_count": 6,
   "metadata": {},
   "outputs": [],
   "source": [
    "test = pd.read_feather('SaveFiles/test.feather')"
   ]
  },
  {
   "cell_type": "code",
   "execution_count": 7,
   "metadata": {},
   "outputs": [],
   "source": [
    "train.drop('Image', inplace=True, axis=1)"
   ]
  },
  {
   "cell_type": "code",
   "execution_count": 8,
   "metadata": {},
   "outputs": [],
   "source": [
    "test.drop('Image', inplace=True, axis=1)"
   ]
  },
  {
   "cell_type": "code",
   "execution_count": 9,
   "metadata": {},
   "outputs": [],
   "source": [
    "model_Y = train.iloc[:,0:30]\n",
    "model_X = train.iloc[:,30:]"
   ]
  },
  {
   "cell_type": "code",
   "execution_count": 10,
   "metadata": {},
   "outputs": [
    {
     "data": {
      "text/plain": [
       "left_eye_center_x              10\n",
       "left_eye_center_y              10\n",
       "right_eye_center_x             13\n",
       "right_eye_center_y             13\n",
       "left_eye_inner_corner_x      4778\n",
       "left_eye_inner_corner_y      4778\n",
       "left_eye_outer_corner_x      4782\n",
       "left_eye_outer_corner_y      4782\n",
       "right_eye_inner_corner_x     4781\n",
       "right_eye_inner_corner_y     4781\n",
       "right_eye_outer_corner_x     4781\n",
       "right_eye_outer_corner_y     4781\n",
       "left_eyebrow_inner_end_x     4779\n",
       "left_eyebrow_inner_end_y     4779\n",
       "left_eyebrow_outer_end_x     4824\n",
       "left_eyebrow_outer_end_y     4824\n",
       "right_eyebrow_inner_end_x    4779\n",
       "right_eyebrow_inner_end_y    4779\n",
       "right_eyebrow_outer_end_x    4813\n",
       "right_eyebrow_outer_end_y    4813\n",
       "nose_tip_x                      0\n",
       "nose_tip_y                      0\n",
       "mouth_left_corner_x          4780\n",
       "mouth_left_corner_y          4780\n",
       "mouth_right_corner_x         4779\n",
       "mouth_right_corner_y         4779\n",
       "mouth_center_top_lip_x       4774\n",
       "mouth_center_top_lip_y       4774\n",
       "mouth_center_bottom_lip_x      33\n",
       "mouth_center_bottom_lip_y      33\n",
       "dtype: int64"
      ]
     },
     "execution_count": 10,
     "metadata": {},
     "output_type": "execute_result"
    }
   ],
   "source": [
    "model_Y.isnull().sum()"
   ]
  },
  {
   "cell_type": "code",
   "execution_count": 11,
   "metadata": {},
   "outputs": [
    {
     "data": {
      "text/plain": [
       "(7049, 30)"
      ]
     },
     "execution_count": 11,
     "metadata": {},
     "output_type": "execute_result"
    }
   ],
   "source": [
    "model_Y.shape"
   ]
  },
  {
   "cell_type": "code",
   "execution_count": 12,
   "metadata": {},
   "outputs": [],
   "source": [
    "common_points = ['left_eye_center', 'right_eye_center', 'nose_tip', 'mouth_center_bottom_lip']"
   ]
  },
  {
   "cell_type": "code",
   "execution_count": 15,
   "metadata": {},
   "outputs": [],
   "source": [
    "model_partial_Y = model_Y.dropna()"
   ]
  },
  {
   "cell_type": "code",
   "execution_count": 16,
   "metadata": {},
   "outputs": [],
   "source": [
    "model_overall_columns = model_Y.columns[model_Y.columns.str.contains('|'.join(common_points))]"
   ]
  },
  {
   "cell_type": "code",
   "execution_count": 17,
   "metadata": {},
   "outputs": [],
   "source": [
    "model_overall_Y = model_Y[model_overall_columns].dropna()"
   ]
  },
  {
   "cell_type": "code",
   "execution_count": 18,
   "metadata": {},
   "outputs": [],
   "source": [
    "model_overall_Y  = model_overall_Y.loc[model_overall_Y.index[~model_overall_Y.index.isin(model_partial_Y.index)]]"
   ]
  },
  {
   "cell_type": "code",
   "execution_count": 19,
   "metadata": {},
   "outputs": [
    {
     "data": {
      "text/plain": [
       "Int64Index([1585, 1588, 1598, 1601, 1605, 1624, 1626, 1627, 1629, 1636,\n",
       "            ...\n",
       "            7039, 7040, 7041, 7042, 7043, 7044, 7045, 7046, 7047, 7048],\n",
       "           dtype='int64', length=4860)"
      ]
     },
     "execution_count": 19,
     "metadata": {},
     "output_type": "execute_result"
    }
   ],
   "source": [
    "model_overall_Y.index"
   ]
  },
  {
   "cell_type": "code",
   "execution_count": 20,
   "metadata": {},
   "outputs": [],
   "source": [
    "model_overall_X = model_X.loc[model_overall_Y.index]"
   ]
  },
  {
   "cell_type": "code",
   "execution_count": null,
   "metadata": {},
   "outputs": [],
   "source": []
  },
  {
   "cell_type": "code",
   "execution_count": 94,
   "metadata": {},
   "outputs": [],
   "source": [
    "model_overall_unfiltered_Y = model_Y[model_overall_columns].dropna()"
   ]
  },
  {
   "cell_type": "code",
   "execution_count": 95,
   "metadata": {},
   "outputs": [],
   "source": [
    "model_overall_unfiltered_X = model_X.loc[model_overall_unfiltered_Y.index]"
   ]
  },
  {
   "cell_type": "code",
   "execution_count": null,
   "metadata": {},
   "outputs": [],
   "source": []
  },
  {
   "cell_type": "code",
   "execution_count": null,
   "metadata": {},
   "outputs": [],
   "source": []
  },
  {
   "cell_type": "code",
   "execution_count": null,
   "metadata": {},
   "outputs": [],
   "source": []
  },
  {
   "cell_type": "code",
   "execution_count": 40,
   "metadata": {},
   "outputs": [],
   "source": [
    "train_test_split= sklearn.model_selection.train_test_split"
   ]
  },
  {
   "cell_type": "code",
   "execution_count": 41,
   "metadata": {},
   "outputs": [],
   "source": [
    "model_Y_train, model_Y_val, model_X_train, model_X_val = train_test_split(\n",
    "    model_overall_Y, model_overall_X, test_size = 0.2, random_state= random_state)"
   ]
  },
  {
   "cell_type": "code",
   "execution_count": null,
   "metadata": {},
   "outputs": [],
   "source": []
  },
  {
   "cell_type": "code",
   "execution_count": 71,
   "metadata": {},
   "outputs": [],
   "source": [
    "lm_overall_trial = LinearRegression(normalize=True, n_jobs=-1)"
   ]
  },
  {
   "cell_type": "code",
   "execution_count": 72,
   "metadata": {},
   "outputs": [
    {
     "data": {
      "text/plain": [
       "MultiOutputRegressor(estimator=LinearRegression(copy_X=True, fit_intercept=True,\n",
       "                                                n_jobs=-1, normalize=True),\n",
       "                     n_jobs=-1)"
      ]
     },
     "execution_count": 72,
     "metadata": {},
     "output_type": "execute_result"
    }
   ],
   "source": [
    "lm_overall_trial.fit(model_X_train, model_Y_train)"
   ]
  },
  {
   "cell_type": "code",
   "execution_count": 73,
   "metadata": {},
   "outputs": [],
   "source": [
    "model_Y_train_predict = lm_overall_trial.predict(model_X_train)"
   ]
  },
  {
   "cell_type": "code",
   "execution_count": 74,
   "metadata": {},
   "outputs": [
    {
     "data": {
      "text/plain": [
       "(3888, 8)"
      ]
     },
     "execution_count": 74,
     "metadata": {},
     "output_type": "execute_result"
    }
   ],
   "source": [
    "model_Y_train.shape"
   ]
  },
  {
   "cell_type": "code",
   "execution_count": 75,
   "metadata": {},
   "outputs": [
    {
     "data": {
      "text/plain": [
       "(3888, 8)"
      ]
     },
     "execution_count": 75,
     "metadata": {},
     "output_type": "execute_result"
    }
   ],
   "source": [
    "model_Y_train_predict.shape"
   ]
  },
  {
   "cell_type": "code",
   "execution_count": 76,
   "metadata": {},
   "outputs": [],
   "source": [
    "model_Y_val_predict = lm_overall_trial.predict(model_X_val)"
   ]
  },
  {
   "cell_type": "code",
   "execution_count": 77,
   "metadata": {},
   "outputs": [
    {
     "data": {
      "text/plain": [
       "(972, 8)"
      ]
     },
     "execution_count": 77,
     "metadata": {},
     "output_type": "execute_result"
    }
   ],
   "source": [
    "model_Y_val.shape"
   ]
  },
  {
   "cell_type": "code",
   "execution_count": 78,
   "metadata": {},
   "outputs": [
    {
     "data": {
      "text/plain": [
       "(972, 8)"
      ]
     },
     "execution_count": 78,
     "metadata": {},
     "output_type": "execute_result"
    }
   ],
   "source": [
    "model_Y_val_predict.shape"
   ]
  },
  {
   "cell_type": "code",
   "execution_count": 79,
   "metadata": {},
   "outputs": [
    {
     "data": {
      "text/plain": [
       "0.0994022779413611"
      ]
     },
     "execution_count": 79,
     "metadata": {},
     "output_type": "execute_result"
    }
   ],
   "source": [
    "mae(model_Y_train, model_Y_train_predict)"
   ]
  },
  {
   "cell_type": "code",
   "execution_count": 80,
   "metadata": {},
   "outputs": [
    {
     "data": {
      "text/plain": [
       "0.33132741566764706"
      ]
     },
     "execution_count": 80,
     "metadata": {},
     "output_type": "execute_result"
    }
   ],
   "source": [
    "np.sqrt(mse(model_Y_train, model_Y_train_predict))"
   ]
  },
  {
   "cell_type": "code",
   "execution_count": 81,
   "metadata": {},
   "outputs": [
    {
     "data": {
      "text/plain": [
       "248402750.20995122"
      ]
     },
     "execution_count": 81,
     "metadata": {},
     "output_type": "execute_result"
    }
   ],
   "source": [
    "mae(model_Y_val, model_Y_val_predict)"
   ]
  },
  {
   "cell_type": "code",
   "execution_count": 82,
   "metadata": {},
   "outputs": [
    {
     "data": {
      "text/plain": [
       "452341418.17989033"
      ]
     },
     "execution_count": 82,
     "metadata": {},
     "output_type": "execute_result"
    }
   ],
   "source": [
    "np.sqrt(mse(model_Y_val, model_Y_val_predict))"
   ]
  },
  {
   "cell_type": "code",
   "execution_count": null,
   "metadata": {},
   "outputs": [],
   "source": []
  },
  {
   "cell_type": "code",
   "execution_count": null,
   "metadata": {},
   "outputs": [],
   "source": []
  },
  {
   "cell_type": "code",
   "execution_count": null,
   "metadata": {},
   "outputs": [],
   "source": []
  },
  {
   "cell_type": "code",
   "execution_count": 96,
   "metadata": {},
   "outputs": [],
   "source": [
    "model_Y_train, model_Y_val, model_X_train, model_X_val = train_test_split(\n",
    "    model_overall_unfiltered_Y, model_overall_unfiltered_X, test_size = 0.2, random_state= random_state)"
   ]
  },
  {
   "cell_type": "code",
   "execution_count": null,
   "metadata": {},
   "outputs": [],
   "source": []
  },
  {
   "cell_type": "code",
   "execution_count": 97,
   "metadata": {},
   "outputs": [],
   "source": [
    "lm_overall_unfiltered_trial = LinearRegression(normalize=True, n_jobs=-1)"
   ]
  },
  {
   "cell_type": "code",
   "execution_count": 98,
   "metadata": {},
   "outputs": [
    {
     "data": {
      "text/plain": [
       "LinearRegression(copy_X=True, fit_intercept=True, n_jobs=-1, normalize=True)"
      ]
     },
     "execution_count": 98,
     "metadata": {},
     "output_type": "execute_result"
    }
   ],
   "source": [
    "lm_overall_unfiltered_trial.fit(model_X_train, model_Y_train)"
   ]
  },
  {
   "cell_type": "code",
   "execution_count": 99,
   "metadata": {},
   "outputs": [],
   "source": [
    "model_Y_train_predict = lm_overall_unfiltered_trial.predict(model_X_train)"
   ]
  },
  {
   "cell_type": "code",
   "execution_count": 100,
   "metadata": {},
   "outputs": [
    {
     "data": {
      "text/plain": [
       "(5600, 8)"
      ]
     },
     "execution_count": 100,
     "metadata": {},
     "output_type": "execute_result"
    }
   ],
   "source": [
    "model_Y_train.shape"
   ]
  },
  {
   "cell_type": "code",
   "execution_count": 101,
   "metadata": {},
   "outputs": [
    {
     "data": {
      "text/plain": [
       "(5600, 8)"
      ]
     },
     "execution_count": 101,
     "metadata": {},
     "output_type": "execute_result"
    }
   ],
   "source": [
    "model_Y_train_predict.shape"
   ]
  },
  {
   "cell_type": "code",
   "execution_count": 102,
   "metadata": {},
   "outputs": [],
   "source": [
    "model_Y_val_predict = lm_overall_unfiltered_trial.predict(model_X_val)"
   ]
  },
  {
   "cell_type": "code",
   "execution_count": 103,
   "metadata": {},
   "outputs": [
    {
     "data": {
      "text/plain": [
       "(1400, 8)"
      ]
     },
     "execution_count": 103,
     "metadata": {},
     "output_type": "execute_result"
    }
   ],
   "source": [
    "model_Y_val.shape"
   ]
  },
  {
   "cell_type": "code",
   "execution_count": 104,
   "metadata": {},
   "outputs": [
    {
     "data": {
      "text/plain": [
       "(1400, 8)"
      ]
     },
     "execution_count": 104,
     "metadata": {},
     "output_type": "execute_result"
    }
   ],
   "source": [
    "model_Y_val_predict.shape"
   ]
  },
  {
   "cell_type": "code",
   "execution_count": 105,
   "metadata": {},
   "outputs": [
    {
     "data": {
      "text/plain": [
       "0.07751612513292394"
      ]
     },
     "execution_count": 105,
     "metadata": {},
     "output_type": "execute_result"
    }
   ],
   "source": [
    "mae(model_Y_train, model_Y_train_predict)"
   ]
  },
  {
   "cell_type": "code",
   "execution_count": 106,
   "metadata": {},
   "outputs": [
    {
     "data": {
      "text/plain": [
       "0.5028643428773905"
      ]
     },
     "execution_count": 106,
     "metadata": {},
     "output_type": "execute_result"
    }
   ],
   "source": [
    "np.sqrt(mse(model_Y_train, model_Y_train_predict))"
   ]
  },
  {
   "cell_type": "code",
   "execution_count": 107,
   "metadata": {},
   "outputs": [
    {
     "data": {
      "text/plain": [
       "3728455986.9057803"
      ]
     },
     "execution_count": 107,
     "metadata": {},
     "output_type": "execute_result"
    }
   ],
   "source": [
    "mae(model_Y_val, model_Y_val_predict)"
   ]
  },
  {
   "cell_type": "code",
   "execution_count": 108,
   "metadata": {},
   "outputs": [
    {
     "data": {
      "text/plain": [
       "6355241763.758155"
      ]
     },
     "execution_count": 108,
     "metadata": {},
     "output_type": "execute_result"
    }
   ],
   "source": [
    "np.sqrt(mse(model_Y_val, model_Y_val_predict))"
   ]
  },
  {
   "cell_type": "markdown",
   "metadata": {},
   "source": [
    "Regression seems to be overfitting to an extreme level"
   ]
  },
  {
   "cell_type": "code",
   "execution_count": null,
   "metadata": {},
   "outputs": [],
   "source": []
  },
  {
   "cell_type": "code",
   "execution_count": 21,
   "metadata": {},
   "outputs": [],
   "source": [
    "lm_overall = LinearRegression(normalize=True, n_jobs=-1)"
   ]
  },
  {
   "cell_type": "code",
   "execution_count": 38,
   "metadata": {},
   "outputs": [
    {
     "data": {
      "text/html": [
       "<div>\n",
       "<style scoped>\n",
       "    .dataframe tbody tr th:only-of-type {\n",
       "        vertical-align: middle;\n",
       "    }\n",
       "\n",
       "    .dataframe tbody tr th {\n",
       "        vertical-align: top;\n",
       "    }\n",
       "\n",
       "    .dataframe thead th {\n",
       "        text-align: right;\n",
       "    }\n",
       "</style>\n",
       "<table border=\"1\" class=\"dataframe\">\n",
       "  <thead>\n",
       "    <tr style=\"text-align: right;\">\n",
       "      <th></th>\n",
       "      <th>left_eye_center_x</th>\n",
       "      <th>left_eye_center_y</th>\n",
       "      <th>right_eye_center_x</th>\n",
       "      <th>right_eye_center_y</th>\n",
       "      <th>nose_tip_x</th>\n",
       "      <th>nose_tip_y</th>\n",
       "      <th>mouth_center_bottom_lip_x</th>\n",
       "      <th>mouth_center_bottom_lip_y</th>\n",
       "    </tr>\n",
       "  </thead>\n",
       "  <tbody>\n",
       "    <tr>\n",
       "      <td>1585</td>\n",
       "      <td>65.147631</td>\n",
       "      <td>31.377315</td>\n",
       "      <td>28.062260</td>\n",
       "      <td>40.957087</td>\n",
       "      <td>64.992884</td>\n",
       "      <td>55.346505</td>\n",
       "      <td>55.935907</td>\n",
       "      <td>80.464540</td>\n",
       "    </tr>\n",
       "    <tr>\n",
       "      <td>1588</td>\n",
       "      <td>63.675141</td>\n",
       "      <td>35.535260</td>\n",
       "      <td>29.679716</td>\n",
       "      <td>34.744881</td>\n",
       "      <td>49.119181</td>\n",
       "      <td>59.013772</td>\n",
       "      <td>46.915130</td>\n",
       "      <td>76.164391</td>\n",
       "    </tr>\n",
       "    <tr>\n",
       "      <td>1598</td>\n",
       "      <td>69.666181</td>\n",
       "      <td>35.356657</td>\n",
       "      <td>30.676871</td>\n",
       "      <td>34.611273</td>\n",
       "      <td>50.755452</td>\n",
       "      <td>60.970379</td>\n",
       "      <td>50.125170</td>\n",
       "      <td>81.345773</td>\n",
       "    </tr>\n",
       "    <tr>\n",
       "      <td>1601</td>\n",
       "      <td>68.244608</td>\n",
       "      <td>34.757950</td>\n",
       "      <td>26.492807</td>\n",
       "      <td>33.812898</td>\n",
       "      <td>48.337490</td>\n",
       "      <td>62.804304</td>\n",
       "      <td>46.350761</td>\n",
       "      <td>85.743829</td>\n",
       "    </tr>\n",
       "    <tr>\n",
       "      <td>1605</td>\n",
       "      <td>65.097143</td>\n",
       "      <td>37.155918</td>\n",
       "      <td>30.949878</td>\n",
       "      <td>34.177959</td>\n",
       "      <td>39.560968</td>\n",
       "      <td>61.998062</td>\n",
       "      <td>45.072196</td>\n",
       "      <td>79.826025</td>\n",
       "    </tr>\n",
       "    <tr>\n",
       "      <td>...</td>\n",
       "      <td>...</td>\n",
       "      <td>...</td>\n",
       "      <td>...</td>\n",
       "      <td>...</td>\n",
       "      <td>...</td>\n",
       "      <td>...</td>\n",
       "      <td>...</td>\n",
       "      <td>...</td>\n",
       "    </tr>\n",
       "    <tr>\n",
       "      <td>7044</td>\n",
       "      <td>67.402546</td>\n",
       "      <td>31.842551</td>\n",
       "      <td>29.746749</td>\n",
       "      <td>38.632942</td>\n",
       "      <td>48.265961</td>\n",
       "      <td>67.029093</td>\n",
       "      <td>50.426637</td>\n",
       "      <td>79.683921</td>\n",
       "    </tr>\n",
       "    <tr>\n",
       "      <td>7045</td>\n",
       "      <td>66.134400</td>\n",
       "      <td>38.365501</td>\n",
       "      <td>30.478626</td>\n",
       "      <td>39.950198</td>\n",
       "      <td>47.910346</td>\n",
       "      <td>66.626011</td>\n",
       "      <td>50.287397</td>\n",
       "      <td>77.983023</td>\n",
       "    </tr>\n",
       "    <tr>\n",
       "      <td>7046</td>\n",
       "      <td>66.690732</td>\n",
       "      <td>36.845221</td>\n",
       "      <td>31.666420</td>\n",
       "      <td>39.685042</td>\n",
       "      <td>49.462572</td>\n",
       "      <td>67.515161</td>\n",
       "      <td>49.462572</td>\n",
       "      <td>78.117120</td>\n",
       "    </tr>\n",
       "    <tr>\n",
       "      <td>7047</td>\n",
       "      <td>70.965082</td>\n",
       "      <td>39.853666</td>\n",
       "      <td>30.543285</td>\n",
       "      <td>40.772339</td>\n",
       "      <td>50.754202</td>\n",
       "      <td>66.724988</td>\n",
       "      <td>50.065186</td>\n",
       "      <td>79.586447</td>\n",
       "    </tr>\n",
       "    <tr>\n",
       "      <td>7048</td>\n",
       "      <td>66.938311</td>\n",
       "      <td>43.424510</td>\n",
       "      <td>31.096059</td>\n",
       "      <td>39.528604</td>\n",
       "      <td>47.069250</td>\n",
       "      <td>73.033339</td>\n",
       "      <td>45.900480</td>\n",
       "      <td>82.773096</td>\n",
       "    </tr>\n",
       "  </tbody>\n",
       "</table>\n",
       "<p>4860 rows × 8 columns</p>\n",
       "</div>"
      ],
      "text/plain": [
       "      left_eye_center_x  left_eye_center_y  right_eye_center_x  \\\n",
       "1585          65.147631          31.377315           28.062260   \n",
       "1588          63.675141          35.535260           29.679716   \n",
       "1598          69.666181          35.356657           30.676871   \n",
       "1601          68.244608          34.757950           26.492807   \n",
       "1605          65.097143          37.155918           30.949878   \n",
       "...                 ...                ...                 ...   \n",
       "7044          67.402546          31.842551           29.746749   \n",
       "7045          66.134400          38.365501           30.478626   \n",
       "7046          66.690732          36.845221           31.666420   \n",
       "7047          70.965082          39.853666           30.543285   \n",
       "7048          66.938311          43.424510           31.096059   \n",
       "\n",
       "      right_eye_center_y  nose_tip_x  nose_tip_y  mouth_center_bottom_lip_x  \\\n",
       "1585           40.957087   64.992884   55.346505                  55.935907   \n",
       "1588           34.744881   49.119181   59.013772                  46.915130   \n",
       "1598           34.611273   50.755452   60.970379                  50.125170   \n",
       "1601           33.812898   48.337490   62.804304                  46.350761   \n",
       "1605           34.177959   39.560968   61.998062                  45.072196   \n",
       "...                  ...         ...         ...                        ...   \n",
       "7044           38.632942   48.265961   67.029093                  50.426637   \n",
       "7045           39.950198   47.910346   66.626011                  50.287397   \n",
       "7046           39.685042   49.462572   67.515161                  49.462572   \n",
       "7047           40.772339   50.754202   66.724988                  50.065186   \n",
       "7048           39.528604   47.069250   73.033339                  45.900480   \n",
       "\n",
       "      mouth_center_bottom_lip_y  \n",
       "1585                  80.464540  \n",
       "1588                  76.164391  \n",
       "1598                  81.345773  \n",
       "1601                  85.743829  \n",
       "1605                  79.826025  \n",
       "...                         ...  \n",
       "7044                  79.683921  \n",
       "7045                  77.983023  \n",
       "7046                  78.117120  \n",
       "7047                  79.586447  \n",
       "7048                  82.773096  \n",
       "\n",
       "[4860 rows x 8 columns]"
      ]
     },
     "execution_count": 38,
     "metadata": {},
     "output_type": "execute_result"
    }
   ],
   "source": [
    "model_overall_Y"
   ]
  },
  {
   "cell_type": "code",
   "execution_count": 22,
   "metadata": {},
   "outputs": [
    {
     "data": {
      "text/plain": [
       "LinearRegression(copy_X=True, fit_intercept=True, n_jobs=-1, normalize=True)"
      ]
     },
     "execution_count": 22,
     "metadata": {},
     "output_type": "execute_result"
    }
   ],
   "source": [
    "lm_overall.fit(model_overall_X, model_overall_Y)"
   ]
  },
  {
   "cell_type": "code",
   "execution_count": 23,
   "metadata": {},
   "outputs": [],
   "source": [
    "lm_overall_pickle_filename = 'SaveFiles/linear_model_overall.pkl'"
   ]
  },
  {
   "cell_type": "code",
   "execution_count": 24,
   "metadata": {},
   "outputs": [],
   "source": [
    "with open(lm_overall_pickle_filename, 'wb') as file:\n",
    "    pickle.dump(lm_overall, file)"
   ]
  },
  {
   "cell_type": "code",
   "execution_count": null,
   "metadata": {},
   "outputs": [],
   "source": [
    "with open(lm_overall_pickle_filename, 'rb') as file:\n",
    "    lm_overall = pickle.load(file)"
   ]
  },
  {
   "cell_type": "code",
   "execution_count": null,
   "metadata": {},
   "outputs": [],
   "source": []
  },
  {
   "cell_type": "markdown",
   "metadata": {},
   "source": [
    "## Elastic net"
   ]
  },
  {
   "cell_type": "code",
   "execution_count": null,
   "metadata": {},
   "outputs": [],
   "source": []
  },
  {
   "cell_type": "code",
   "execution_count": 41,
   "metadata": {},
   "outputs": [],
   "source": [
    "model_Y_train, model_Y_val, model_X_train, model_X_val = train_test_split(\n",
    "    model_overall_Y, model_overall_X, test_size = 0.2, random_state= random_state)"
   ]
  },
  {
   "cell_type": "code",
   "execution_count": 55,
   "metadata": {},
   "outputs": [],
   "source": [
    "from sklearn.linear_model import MultiTaskElasticNetCV"
   ]
  },
  {
   "cell_type": "code",
   "execution_count": 56,
   "metadata": {},
   "outputs": [],
   "source": [
    "elastic_net_cv = MultiTaskElasticNetCV(l1_ratio=[.1, .7, 1], random_state=random_state, normalize = True,\n",
    "                                       fit_intercept = True, eps = 1e-3, n_alphas = 10,\n",
    "                                       max_iter=100, cv = 3, n_jobs=-1, selection = 'random')"
   ]
  },
  {
   "cell_type": "raw",
   "metadata": {
    "jupyter": {
     "outputs_hidden": true
    }
   },
   "source": [
    "elastic_net_cv.fit(model_X_train, model_Y_train)"
   ]
  },
  {
   "cell_type": "code",
   "execution_count": 58,
   "metadata": {},
   "outputs": [],
   "source": [
    "elastic_net_pickle_filename = 'SaveFiles/elastic_net_overall_trial_model.pkl'"
   ]
  },
  {
   "cell_type": "code",
   "execution_count": 59,
   "metadata": {},
   "outputs": [],
   "source": [
    "with open(elastic_net_pickle_filename, 'wb') as file:\n",
    "    pickle.dump(elastic_net_cv, file)"
   ]
  },
  {
   "cell_type": "code",
   "execution_count": 36,
   "metadata": {},
   "outputs": [],
   "source": [
    "with open(elastic_net_pickle_filename, 'rb') as file:\n",
    "    elastic_net_cv = pickle.load(file)"
   ]
  },
  {
   "cell_type": "code",
   "execution_count": 60,
   "metadata": {},
   "outputs": [],
   "source": [
    "model_Y_train_predict_en = elastic_net_cv.predict(model_X_train)"
   ]
  },
  {
   "cell_type": "code",
   "execution_count": 61,
   "metadata": {},
   "outputs": [
    {
     "data": {
      "text/plain": [
       "(3888, 8)"
      ]
     },
     "execution_count": 61,
     "metadata": {},
     "output_type": "execute_result"
    }
   ],
   "source": [
    "model_Y_train.shape"
   ]
  },
  {
   "cell_type": "code",
   "execution_count": 62,
   "metadata": {},
   "outputs": [
    {
     "data": {
      "text/plain": [
       "(3888, 8)"
      ]
     },
     "execution_count": 62,
     "metadata": {},
     "output_type": "execute_result"
    }
   ],
   "source": [
    "model_Y_train.shape"
   ]
  },
  {
   "cell_type": "code",
   "execution_count": 63,
   "metadata": {},
   "outputs": [],
   "source": [
    "model_Y_val_predict_en = elastic_net_cv.predict(model_X_val)"
   ]
  },
  {
   "cell_type": "code",
   "execution_count": 64,
   "metadata": {},
   "outputs": [
    {
     "data": {
      "text/plain": [
       "(972, 8)"
      ]
     },
     "execution_count": 64,
     "metadata": {},
     "output_type": "execute_result"
    }
   ],
   "source": [
    "model_Y_val.shape"
   ]
  },
  {
   "cell_type": "code",
   "execution_count": 65,
   "metadata": {},
   "outputs": [
    {
     "data": {
      "text/plain": [
       "(972, 8)"
      ]
     },
     "execution_count": 65,
     "metadata": {},
     "output_type": "execute_result"
    }
   ],
   "source": [
    "model_Y_val_predict_en.shape"
   ]
  },
  {
   "cell_type": "code",
   "execution_count": 66,
   "metadata": {},
   "outputs": [
    {
     "data": {
      "text/plain": [
       "1.9279368701101505"
      ]
     },
     "execution_count": 66,
     "metadata": {},
     "output_type": "execute_result"
    }
   ],
   "source": [
    "mae(model_Y_train, model_Y_train_predict_en)"
   ]
  },
  {
   "cell_type": "code",
   "execution_count": 67,
   "metadata": {},
   "outputs": [
    {
     "data": {
      "text/plain": [
       "3.089459464221654"
      ]
     },
     "execution_count": 67,
     "metadata": {},
     "output_type": "execute_result"
    }
   ],
   "source": [
    "np.sqrt(mse(model_Y_train, model_Y_train_predict_en))"
   ]
  },
  {
   "cell_type": "code",
   "execution_count": 68,
   "metadata": {},
   "outputs": [
    {
     "data": {
      "text/plain": [
       "1.981548329465335"
      ]
     },
     "execution_count": 68,
     "metadata": {},
     "output_type": "execute_result"
    }
   ],
   "source": [
    "mae(model_Y_val, model_Y_val_predict_en)"
   ]
  },
  {
   "cell_type": "code",
   "execution_count": 69,
   "metadata": {},
   "outputs": [
    {
     "data": {
      "text/plain": [
       "3.2083155849416487"
      ]
     },
     "execution_count": 69,
     "metadata": {},
     "output_type": "execute_result"
    }
   ],
   "source": [
    "np.sqrt(mse(model_Y_val, model_Y_val_predict_en))"
   ]
  },
  {
   "cell_type": "code",
   "execution_count": null,
   "metadata": {},
   "outputs": [],
   "source": []
  },
  {
   "cell_type": "code",
   "execution_count": null,
   "metadata": {},
   "outputs": [],
   "source": []
  },
  {
   "cell_type": "code",
   "execution_count": 109,
   "metadata": {},
   "outputs": [],
   "source": [
    "model_Y_train, model_Y_val, model_X_train, model_X_val = train_test_split(\n",
    "    model_overall_unfiltered_Y, model_overall_unfiltered_X, test_size = 0.2, random_state= random_state)"
   ]
  },
  {
   "cell_type": "code",
   "execution_count": 110,
   "metadata": {},
   "outputs": [],
   "source": [
    "from sklearn.linear_model import MultiTaskElasticNetCV"
   ]
  },
  {
   "cell_type": "code",
   "execution_count": 111,
   "metadata": {},
   "outputs": [],
   "source": [
    "elastic_net_unfiltered_cv = MultiTaskElasticNetCV(l1_ratio=[.1, .7, 1], random_state=random_state, normalize = True,\n",
    "                                       fit_intercept = True, eps = 1e-3, n_alphas = 10,\n",
    "                                       max_iter=100, cv = 3, n_jobs=-1, selection = 'random')"
   ]
  },
  {
   "cell_type": "raw",
   "metadata": {
    "jupyter": {
     "outputs_hidden": true
    }
   },
   "source": [
    "elastic_net_unfiltered_cv.fit(model_X_train, model_Y_train)"
   ]
  },
  {
   "cell_type": "code",
   "execution_count": 113,
   "metadata": {},
   "outputs": [],
   "source": [
    "elastic_net_pickle_filename = 'SaveFiles/elastic_net_overall_trial_v2_model.pkl'"
   ]
  },
  {
   "cell_type": "code",
   "execution_count": 114,
   "metadata": {},
   "outputs": [],
   "source": [
    "with open(elastic_net_pickle_filename, 'wb') as file:\n",
    "    pickle.dump(elastic_net_cv, file)"
   ]
  },
  {
   "cell_type": "code",
   "execution_count": 36,
   "metadata": {},
   "outputs": [],
   "source": [
    "with open(elastic_net_pickle_filename, 'rb') as file:\n",
    "    elastic_net_cv = pickle.load(file)"
   ]
  },
  {
   "cell_type": "code",
   "execution_count": 115,
   "metadata": {},
   "outputs": [],
   "source": [
    "model_Y_train_predict_en = elastic_net_unfiltered_cv.predict(model_X_train)"
   ]
  },
  {
   "cell_type": "code",
   "execution_count": 116,
   "metadata": {},
   "outputs": [
    {
     "data": {
      "text/plain": [
       "(5600, 8)"
      ]
     },
     "execution_count": 116,
     "metadata": {},
     "output_type": "execute_result"
    }
   ],
   "source": [
    "model_Y_train.shape"
   ]
  },
  {
   "cell_type": "code",
   "execution_count": 117,
   "metadata": {},
   "outputs": [
    {
     "data": {
      "text/plain": [
       "(5600, 8)"
      ]
     },
     "execution_count": 117,
     "metadata": {},
     "output_type": "execute_result"
    }
   ],
   "source": [
    "model_Y_train.shape"
   ]
  },
  {
   "cell_type": "code",
   "execution_count": 118,
   "metadata": {},
   "outputs": [],
   "source": [
    "model_Y_val_predict_en = elastic_net_unfiltered_cv.predict(model_X_val)"
   ]
  },
  {
   "cell_type": "code",
   "execution_count": 119,
   "metadata": {},
   "outputs": [
    {
     "data": {
      "text/plain": [
       "(1400, 8)"
      ]
     },
     "execution_count": 119,
     "metadata": {},
     "output_type": "execute_result"
    }
   ],
   "source": [
    "model_Y_val.shape"
   ]
  },
  {
   "cell_type": "code",
   "execution_count": 120,
   "metadata": {},
   "outputs": [
    {
     "data": {
      "text/plain": [
       "(1400, 8)"
      ]
     },
     "execution_count": 120,
     "metadata": {},
     "output_type": "execute_result"
    }
   ],
   "source": [
    "model_Y_val_predict_en.shape"
   ]
  },
  {
   "cell_type": "code",
   "execution_count": 121,
   "metadata": {},
   "outputs": [
    {
     "data": {
      "text/plain": [
       "1.908365492844487"
      ]
     },
     "execution_count": 121,
     "metadata": {},
     "output_type": "execute_result"
    }
   ],
   "source": [
    "mae(model_Y_train, model_Y_train_predict_en)"
   ]
  },
  {
   "cell_type": "code",
   "execution_count": 122,
   "metadata": {},
   "outputs": [
    {
     "data": {
      "text/plain": [
       "3.030018719392432"
      ]
     },
     "execution_count": 122,
     "metadata": {},
     "output_type": "execute_result"
    }
   ],
   "source": [
    "np.sqrt(mse(model_Y_train, model_Y_train_predict_en))"
   ]
  },
  {
   "cell_type": "code",
   "execution_count": 123,
   "metadata": {},
   "outputs": [
    {
     "data": {
      "text/plain": [
       "2.0270738053730657"
      ]
     },
     "execution_count": 123,
     "metadata": {},
     "output_type": "execute_result"
    }
   ],
   "source": [
    "mae(model_Y_val, model_Y_val_predict_en)"
   ]
  },
  {
   "cell_type": "code",
   "execution_count": 124,
   "metadata": {},
   "outputs": [
    {
     "data": {
      "text/plain": [
       "3.1860294596786987"
      ]
     },
     "execution_count": 124,
     "metadata": {},
     "output_type": "execute_result"
    }
   ],
   "source": [
    "np.sqrt(mse(model_Y_val, model_Y_val_predict_en))"
   ]
  },
  {
   "cell_type": "code",
   "execution_count": null,
   "metadata": {},
   "outputs": [],
   "source": []
  },
  {
   "cell_type": "code",
   "execution_count": null,
   "metadata": {},
   "outputs": [],
   "source": []
  },
  {
   "cell_type": "code",
   "execution_count": 125,
   "metadata": {},
   "outputs": [],
   "source": [
    "en_final = MultiTaskElasticNetCV(l1_ratio=[.1, .5, .75,.95, 1], random_state=random_state, normalize = True,\n",
    "                                       fit_intercept = True, eps = 1e-4, n_alphas = 50,\n",
    "                                       max_iter=500, cv = 5, n_jobs=-1, selection = 'random')"
   ]
  },
  {
   "cell_type": "code",
   "execution_count": 126,
   "metadata": {
    "collapsed": true,
    "jupyter": {
     "outputs_hidden": true
    }
   },
   "outputs": [
    {
     "name": "stderr",
     "output_type": "stream",
     "text": [
      "C:\\Users\\Kaustubh\\Anaconda3\\lib\\site-packages\\sklearn\\linear_model\\coordinate_descent.py:462: ConvergenceWarning: Objective did not converge. You might want to increase the number of iterations. Duality gap: 90.20839447061735, tolerance: 50.43552332371034\n",
      "  coef_, l1_reg, l2_reg, X, y, max_iter, tol, rng, random)\n",
      "C:\\Users\\Kaustubh\\Anaconda3\\lib\\site-packages\\sklearn\\linear_model\\coordinate_descent.py:462: ConvergenceWarning: Objective did not converge. You might want to increase the number of iterations. Duality gap: 96.96564391083666, tolerance: 50.69826936834604\n",
      "  coef_, l1_reg, l2_reg, X, y, max_iter, tol, rng, random)\n",
      "C:\\Users\\Kaustubh\\Anaconda3\\lib\\site-packages\\sklearn\\linear_model\\coordinate_descent.py:462: ConvergenceWarning: Objective did not converge. You might want to increase the number of iterations. Duality gap: 92.82947710076405, tolerance: 46.06957841820953\n",
      "  coef_, l1_reg, l2_reg, X, y, max_iter, tol, rng, random)\n",
      "C:\\Users\\Kaustubh\\Anaconda3\\lib\\site-packages\\sklearn\\linear_model\\coordinate_descent.py:462: ConvergenceWarning: Objective did not converge. You might want to increase the number of iterations. Duality gap: 78.44822289864533, tolerance: 50.69826936834604\n",
      "  coef_, l1_reg, l2_reg, X, y, max_iter, tol, rng, random)\n",
      "C:\\Users\\Kaustubh\\Anaconda3\\lib\\site-packages\\sklearn\\linear_model\\coordinate_descent.py:462: ConvergenceWarning: Objective did not converge. You might want to increase the number of iterations. Duality gap: 105.3197215682012, tolerance: 52.66788154290611\n",
      "  coef_, l1_reg, l2_reg, X, y, max_iter, tol, rng, random)\n",
      "C:\\Users\\Kaustubh\\Anaconda3\\lib\\site-packages\\sklearn\\linear_model\\coordinate_descent.py:462: ConvergenceWarning: Objective did not converge. You might want to increase the number of iterations. Duality gap: 100.11776085878955, tolerance: 48.57614199064702\n",
      "  coef_, l1_reg, l2_reg, X, y, max_iter, tol, rng, random)\n",
      "C:\\Users\\Kaustubh\\Anaconda3\\lib\\site-packages\\sklearn\\linear_model\\coordinate_descent.py:462: ConvergenceWarning: Objective did not converge. You might want to increase the number of iterations. Duality gap: 120.78362952696625, tolerance: 46.06957841820953\n",
      "  coef_, l1_reg, l2_reg, X, y, max_iter, tol, rng, random)\n",
      "C:\\Users\\Kaustubh\\Anaconda3\\lib\\site-packages\\sklearn\\linear_model\\coordinate_descent.py:462: ConvergenceWarning: Objective did not converge. You might want to increase the number of iterations. Duality gap: 233.6709669984266, tolerance: 50.69826936834604\n",
      "  coef_, l1_reg, l2_reg, X, y, max_iter, tol, rng, random)\n",
      "C:\\Users\\Kaustubh\\Anaconda3\\lib\\site-packages\\sklearn\\linear_model\\coordinate_descent.py:462: ConvergenceWarning: Objective did not converge. You might want to increase the number of iterations. Duality gap: 256.8297638196309, tolerance: 46.06957841820953\n",
      "  coef_, l1_reg, l2_reg, X, y, max_iter, tol, rng, random)\n",
      "C:\\Users\\Kaustubh\\Anaconda3\\lib\\site-packages\\sklearn\\linear_model\\coordinate_descent.py:462: ConvergenceWarning: Objective did not converge. You might want to increase the number of iterations. Duality gap: 89.43936686583038, tolerance: 46.06957841820953\n",
      "  coef_, l1_reg, l2_reg, X, y, max_iter, tol, rng, random)\n",
      "C:\\Users\\Kaustubh\\Anaconda3\\lib\\site-packages\\sklearn\\linear_model\\coordinate_descent.py:462: ConvergenceWarning: Objective did not converge. You might want to increase the number of iterations. Duality gap: 550.1569420123633, tolerance: 50.69826936834604\n",
      "  coef_, l1_reg, l2_reg, X, y, max_iter, tol, rng, random)\n",
      "C:\\Users\\Kaustubh\\Anaconda3\\lib\\site-packages\\sklearn\\linear_model\\coordinate_descent.py:462: ConvergenceWarning: Objective did not converge. You might want to increase the number of iterations. Duality gap: 96.44389274294372, tolerance: 50.69826936834604\n",
      "  coef_, l1_reg, l2_reg, X, y, max_iter, tol, rng, random)\n",
      "C:\\Users\\Kaustubh\\Anaconda3\\lib\\site-packages\\sklearn\\linear_model\\coordinate_descent.py:462: ConvergenceWarning: Objective did not converge. You might want to increase the number of iterations. Duality gap: 518.5263293501703, tolerance: 46.06957841820953\n",
      "  coef_, l1_reg, l2_reg, X, y, max_iter, tol, rng, random)\n",
      "C:\\Users\\Kaustubh\\Anaconda3\\lib\\site-packages\\sklearn\\linear_model\\coordinate_descent.py:462: ConvergenceWarning: Objective did not converge. You might want to increase the number of iterations. Duality gap: 98.24909155723435, tolerance: 50.43552332371034\n",
      "  coef_, l1_reg, l2_reg, X, y, max_iter, tol, rng, random)\n",
      "C:\\Users\\Kaustubh\\Anaconda3\\lib\\site-packages\\sklearn\\linear_model\\coordinate_descent.py:462: ConvergenceWarning: Objective did not converge. You might want to increase the number of iterations. Duality gap: 117.18946412476362, tolerance: 52.66788154290611\n",
      "  coef_, l1_reg, l2_reg, X, y, max_iter, tol, rng, random)\n",
      "C:\\Users\\Kaustubh\\Anaconda3\\lib\\site-packages\\sklearn\\linear_model\\coordinate_descent.py:462: ConvergenceWarning: Objective did not converge. You might want to increase the number of iterations. Duality gap: 1275.5854273383447, tolerance: 50.69826936834604\n",
      "  coef_, l1_reg, l2_reg, X, y, max_iter, tol, rng, random)\n",
      "C:\\Users\\Kaustubh\\Anaconda3\\lib\\site-packages\\sklearn\\linear_model\\coordinate_descent.py:462: ConvergenceWarning: Objective did not converge. You might want to increase the number of iterations. Duality gap: 170.16093787042337, tolerance: 46.06957841820953\n",
      "  coef_, l1_reg, l2_reg, X, y, max_iter, tol, rng, random)\n",
      "C:\\Users\\Kaustubh\\Anaconda3\\lib\\site-packages\\sklearn\\linear_model\\coordinate_descent.py:462: ConvergenceWarning: Objective did not converge. You might want to increase the number of iterations. Duality gap: 97.22300256418384, tolerance: 48.57614199064702\n",
      "  coef_, l1_reg, l2_reg, X, y, max_iter, tol, rng, random)\n",
      "C:\\Users\\Kaustubh\\Anaconda3\\lib\\site-packages\\sklearn\\linear_model\\coordinate_descent.py:462: ConvergenceWarning: Objective did not converge. You might want to increase the number of iterations. Duality gap: 204.26807095389813, tolerance: 50.69826936834604\n",
      "  coef_, l1_reg, l2_reg, X, y, max_iter, tol, rng, random)\n",
      "C:\\Users\\Kaustubh\\Anaconda3\\lib\\site-packages\\sklearn\\linear_model\\coordinate_descent.py:462: ConvergenceWarning: Objective did not converge. You might want to increase the number of iterations. Duality gap: 1833.5490687570273, tolerance: 46.06957841820953\n",
      "  coef_, l1_reg, l2_reg, X, y, max_iter, tol, rng, random)\n",
      "C:\\Users\\Kaustubh\\Anaconda3\\lib\\site-packages\\sklearn\\linear_model\\coordinate_descent.py:462: ConvergenceWarning: Objective did not converge. You might want to increase the number of iterations. Duality gap: 191.3654709100665, tolerance: 50.43552332371034\n",
      "  coef_, l1_reg, l2_reg, X, y, max_iter, tol, rng, random)\n",
      "C:\\Users\\Kaustubh\\Anaconda3\\lib\\site-packages\\sklearn\\linear_model\\coordinate_descent.py:462: ConvergenceWarning: Objective did not converge. You might want to increase the number of iterations. Duality gap: 225.6313528180326, tolerance: 52.66788154290611\n",
      "  coef_, l1_reg, l2_reg, X, y, max_iter, tol, rng, random)\n",
      "C:\\Users\\Kaustubh\\Anaconda3\\lib\\site-packages\\sklearn\\linear_model\\coordinate_descent.py:462: ConvergenceWarning: Objective did not converge. You might want to increase the number of iterations. Duality gap: 2506.116633868667, tolerance: 50.69826936834604\n",
      "  coef_, l1_reg, l2_reg, X, y, max_iter, tol, rng, random)\n",
      "C:\\Users\\Kaustubh\\Anaconda3\\lib\\site-packages\\sklearn\\linear_model\\coordinate_descent.py:462: ConvergenceWarning: Objective did not converge. You might want to increase the number of iterations. Duality gap: 393.61054294222413, tolerance: 46.06957841820953\n",
      "  coef_, l1_reg, l2_reg, X, y, max_iter, tol, rng, random)\n",
      "C:\\Users\\Kaustubh\\Anaconda3\\lib\\site-packages\\sklearn\\linear_model\\coordinate_descent.py:462: ConvergenceWarning: Objective did not converge. You might want to increase the number of iterations. Duality gap: 209.37325992358092, tolerance: 48.57614199064702\n",
      "  coef_, l1_reg, l2_reg, X, y, max_iter, tol, rng, random)\n",
      "C:\\Users\\Kaustubh\\Anaconda3\\lib\\site-packages\\sklearn\\linear_model\\coordinate_descent.py:462: ConvergenceWarning: Objective did not converge. You might want to increase the number of iterations. Duality gap: 304.11535288063897, tolerance: 50.69826936834604\n",
      "  coef_, l1_reg, l2_reg, X, y, max_iter, tol, rng, random)\n",
      "C:\\Users\\Kaustubh\\Anaconda3\\lib\\site-packages\\sklearn\\linear_model\\coordinate_descent.py:462: ConvergenceWarning: Objective did not converge. You might want to increase the number of iterations. Duality gap: 2106.82073926464, tolerance: 46.06957841820953\n",
      "  coef_, l1_reg, l2_reg, X, y, max_iter, tol, rng, random)\n",
      "C:\\Users\\Kaustubh\\Anaconda3\\lib\\site-packages\\sklearn\\linear_model\\coordinate_descent.py:462: ConvergenceWarning: Objective did not converge. You might want to increase the number of iterations. Duality gap: 431.13156355950196, tolerance: 50.43552332371034\n",
      "  coef_, l1_reg, l2_reg, X, y, max_iter, tol, rng, random)\n",
      "C:\\Users\\Kaustubh\\Anaconda3\\lib\\site-packages\\sklearn\\linear_model\\coordinate_descent.py:462: ConvergenceWarning: Objective did not converge. You might want to increase the number of iterations. Duality gap: 736.2418049370099, tolerance: 52.66788154290611\n",
      "  coef_, l1_reg, l2_reg, X, y, max_iter, tol, rng, random)\n",
      "C:\\Users\\Kaustubh\\Anaconda3\\lib\\site-packages\\sklearn\\linear_model\\coordinate_descent.py:462: ConvergenceWarning: Objective did not converge. You might want to increase the number of iterations. Duality gap: 3327.312676377136, tolerance: 50.69826936834604\n",
      "  coef_, l1_reg, l2_reg, X, y, max_iter, tol, rng, random)\n",
      "C:\\Users\\Kaustubh\\Anaconda3\\lib\\site-packages\\sklearn\\linear_model\\coordinate_descent.py:462: ConvergenceWarning: Objective did not converge. You might want to increase the number of iterations. Duality gap: 622.5786113874565, tolerance: 46.06957841820953\n",
      "  coef_, l1_reg, l2_reg, X, y, max_iter, tol, rng, random)\n",
      "C:\\Users\\Kaustubh\\Anaconda3\\lib\\site-packages\\sklearn\\linear_model\\coordinate_descent.py:462: ConvergenceWarning: Objective did not converge. You might want to increase the number of iterations. Duality gap: 642.4334531103377, tolerance: 48.57614199064702\n",
      "  coef_, l1_reg, l2_reg, X, y, max_iter, tol, rng, random)\n",
      "C:\\Users\\Kaustubh\\Anaconda3\\lib\\site-packages\\sklearn\\linear_model\\coordinate_descent.py:462: ConvergenceWarning: Objective did not converge. You might want to increase the number of iterations. Duality gap: 481.2578231134539, tolerance: 50.69826936834604\n",
      "  coef_, l1_reg, l2_reg, X, y, max_iter, tol, rng, random)\n",
      "C:\\Users\\Kaustubh\\Anaconda3\\lib\\site-packages\\sklearn\\linear_model\\coordinate_descent.py:462: ConvergenceWarning: Objective did not converge. You might want to increase the number of iterations. Duality gap: 4013.524190114127, tolerance: 46.06957841820953\n",
      "  coef_, l1_reg, l2_reg, X, y, max_iter, tol, rng, random)\n",
      "C:\\Users\\Kaustubh\\Anaconda3\\lib\\site-packages\\sklearn\\linear_model\\coordinate_descent.py:462: ConvergenceWarning: Objective did not converge. You might want to increase the number of iterations. Duality gap: 1235.2595934918718, tolerance: 50.43552332371034\n",
      "  coef_, l1_reg, l2_reg, X, y, max_iter, tol, rng, random)\n",
      "C:\\Users\\Kaustubh\\Anaconda3\\lib\\site-packages\\sklearn\\linear_model\\coordinate_descent.py:462: ConvergenceWarning: Objective did not converge. You might want to increase the number of iterations. Duality gap: 1782.2946722995694, tolerance: 52.66788154290611\n",
      "  coef_, l1_reg, l2_reg, X, y, max_iter, tol, rng, random)\n",
      "C:\\Users\\Kaustubh\\Anaconda3\\lib\\site-packages\\sklearn\\linear_model\\coordinate_descent.py:462: ConvergenceWarning: Objective did not converge. You might want to increase the number of iterations. Duality gap: 698.9962627014029, tolerance: 46.06957841820953\n",
      "  coef_, l1_reg, l2_reg, X, y, max_iter, tol, rng, random)\n",
      "C:\\Users\\Kaustubh\\Anaconda3\\lib\\site-packages\\sklearn\\linear_model\\coordinate_descent.py:462: ConvergenceWarning: Objective did not converge. You might want to increase the number of iterations. Duality gap: 1246.3158196149234, tolerance: 48.57614199064702\n",
      "  coef_, l1_reg, l2_reg, X, y, max_iter, tol, rng, random)\n",
      "C:\\Users\\Kaustubh\\Anaconda3\\lib\\site-packages\\sklearn\\linear_model\\coordinate_descent.py:462: ConvergenceWarning: Objective did not converge. You might want to increase the number of iterations. Duality gap: 83.52115054204478, tolerance: 46.06957841820953\n",
      "  coef_, l1_reg, l2_reg, X, y, max_iter, tol, rng, random)\n",
      "C:\\Users\\Kaustubh\\Anaconda3\\lib\\site-packages\\sklearn\\linear_model\\coordinate_descent.py:462: ConvergenceWarning: Objective did not converge. You might want to increase the number of iterations. Duality gap: 691.0710095166723, tolerance: 50.69826936834604\n",
      "  coef_, l1_reg, l2_reg, X, y, max_iter, tol, rng, random)\n",
      "C:\\Users\\Kaustubh\\Anaconda3\\lib\\site-packages\\sklearn\\linear_model\\coordinate_descent.py:462: ConvergenceWarning: Objective did not converge. You might want to increase the number of iterations. Duality gap: 1729.8489447838874, tolerance: 50.43552332371034\n",
      "  coef_, l1_reg, l2_reg, X, y, max_iter, tol, rng, random)\n",
      "C:\\Users\\Kaustubh\\Anaconda3\\lib\\site-packages\\sklearn\\linear_model\\coordinate_descent.py:462: ConvergenceWarning: Objective did not converge. You might want to increase the number of iterations. Duality gap: 1945.7725672134839, tolerance: 52.66788154290611\n",
      "  coef_, l1_reg, l2_reg, X, y, max_iter, tol, rng, random)\n",
      "C:\\Users\\Kaustubh\\Anaconda3\\lib\\site-packages\\sklearn\\linear_model\\coordinate_descent.py:462: ConvergenceWarning: Objective did not converge. You might want to increase the number of iterations. Duality gap: 1346.4984964593314, tolerance: 46.06957841820953\n",
      "  coef_, l1_reg, l2_reg, X, y, max_iter, tol, rng, random)\n",
      "C:\\Users\\Kaustubh\\Anaconda3\\lib\\site-packages\\sklearn\\linear_model\\coordinate_descent.py:462: ConvergenceWarning: Objective did not converge. You might want to increase the number of iterations. Duality gap: 98.58474042676971, tolerance: 50.43552332371034\n",
      "  coef_, l1_reg, l2_reg, X, y, max_iter, tol, rng, random)\n",
      "C:\\Users\\Kaustubh\\Anaconda3\\lib\\site-packages\\sklearn\\linear_model\\coordinate_descent.py:462: ConvergenceWarning: Objective did not converge. You might want to increase the number of iterations. Duality gap: 126.47678997251205, tolerance: 50.69826936834604\n",
      "  coef_, l1_reg, l2_reg, X, y, max_iter, tol, rng, random)\n",
      "C:\\Users\\Kaustubh\\Anaconda3\\lib\\site-packages\\sklearn\\linear_model\\coordinate_descent.py:462: ConvergenceWarning: Objective did not converge. You might want to increase the number of iterations. Duality gap: 1989.575620175976, tolerance: 48.57614199064702\n",
      "  coef_, l1_reg, l2_reg, X, y, max_iter, tol, rng, random)\n",
      "C:\\Users\\Kaustubh\\Anaconda3\\lib\\site-packages\\sklearn\\linear_model\\coordinate_descent.py:462: ConvergenceWarning: Objective did not converge. You might want to increase the number of iterations. Duality gap: 94.74333802837646, tolerance: 46.06957841820953\n",
      "  coef_, l1_reg, l2_reg, X, y, max_iter, tol, rng, random)\n",
      "C:\\Users\\Kaustubh\\Anaconda3\\lib\\site-packages\\sklearn\\linear_model\\coordinate_descent.py:462: ConvergenceWarning: Objective did not converge. You might want to increase the number of iterations. Duality gap: 1143.4187655151109, tolerance: 50.69826936834604\n",
      "  coef_, l1_reg, l2_reg, X, y, max_iter, tol, rng, random)\n",
      "C:\\Users\\Kaustubh\\Anaconda3\\lib\\site-packages\\sklearn\\linear_model\\coordinate_descent.py:462: ConvergenceWarning: Objective did not converge. You might want to increase the number of iterations. Duality gap: 3226.1642595945013, tolerance: 50.43552332371034\n",
      "  coef_, l1_reg, l2_reg, X, y, max_iter, tol, rng, random)\n",
      "C:\\Users\\Kaustubh\\Anaconda3\\lib\\site-packages\\sklearn\\linear_model\\coordinate_descent.py:462: ConvergenceWarning: Objective did not converge. You might want to increase the number of iterations. Duality gap: 121.45280453212035, tolerance: 48.57614199064702\n",
      "  coef_, l1_reg, l2_reg, X, y, max_iter, tol, rng, random)\n",
      "C:\\Users\\Kaustubh\\Anaconda3\\lib\\site-packages\\sklearn\\linear_model\\coordinate_descent.py:462: ConvergenceWarning: Objective did not converge. You might want to increase the number of iterations. Duality gap: 104.36457520844124, tolerance: 52.66788154290611\n",
      "  coef_, l1_reg, l2_reg, X, y, max_iter, tol, rng, random)\n",
      "C:\\Users\\Kaustubh\\Anaconda3\\lib\\site-packages\\sklearn\\linear_model\\coordinate_descent.py:462: ConvergenceWarning: Objective did not converge. You might want to increase the number of iterations. Duality gap: 4660.9860483390985, tolerance: 52.66788154290611\n",
      "  coef_, l1_reg, l2_reg, X, y, max_iter, tol, rng, random)\n",
      "C:\\Users\\Kaustubh\\Anaconda3\\lib\\site-packages\\sklearn\\linear_model\\coordinate_descent.py:462: ConvergenceWarning: Objective did not converge. You might want to increase the number of iterations. Duality gap: 296.48386020600446, tolerance: 50.69826936834604\n",
      "  coef_, l1_reg, l2_reg, X, y, max_iter, tol, rng, random)\n",
      "C:\\Users\\Kaustubh\\Anaconda3\\lib\\site-packages\\sklearn\\linear_model\\coordinate_descent.py:462: ConvergenceWarning: Objective did not converge. You might want to increase the number of iterations. Duality gap: 162.82715519840713, tolerance: 46.06957841820953\n",
      "  coef_, l1_reg, l2_reg, X, y, max_iter, tol, rng, random)\n",
      "C:\\Users\\Kaustubh\\Anaconda3\\lib\\site-packages\\sklearn\\linear_model\\coordinate_descent.py:462: ConvergenceWarning: Objective did not converge. You might want to increase the number of iterations. Duality gap: 1513.8758238537848, tolerance: 46.06957841820953\n",
      "  coef_, l1_reg, l2_reg, X, y, max_iter, tol, rng, random)\n",
      "C:\\Users\\Kaustubh\\Anaconda3\\lib\\site-packages\\sklearn\\linear_model\\coordinate_descent.py:462: ConvergenceWarning: Objective did not converge. You might want to increase the number of iterations. Duality gap: 181.51258690780378, tolerance: 50.43552332371034\n",
      "  coef_, l1_reg, l2_reg, X, y, max_iter, tol, rng, random)\n",
      "C:\\Users\\Kaustubh\\Anaconda3\\lib\\site-packages\\sklearn\\linear_model\\coordinate_descent.py:462: ConvergenceWarning: Objective did not converge. You might want to increase the number of iterations. Duality gap: 4086.8371987965656, tolerance: 48.57614199064702\n",
      "  coef_, l1_reg, l2_reg, X, y, max_iter, tol, rng, random)\n",
      "C:\\Users\\Kaustubh\\Anaconda3\\lib\\site-packages\\sklearn\\linear_model\\coordinate_descent.py:462: ConvergenceWarning: Objective did not converge. You might want to increase the number of iterations. Duality gap: 1438.3901954056928, tolerance: 50.69826936834604\n",
      "  coef_, l1_reg, l2_reg, X, y, max_iter, tol, rng, random)\n",
      "C:\\Users\\Kaustubh\\Anaconda3\\lib\\site-packages\\sklearn\\linear_model\\coordinate_descent.py:462: ConvergenceWarning: Objective did not converge. You might want to increase the number of iterations. Duality gap: 284.3910288719344, tolerance: 50.69826936834604\n",
      "  coef_, l1_reg, l2_reg, X, y, max_iter, tol, rng, random)\n",
      "C:\\Users\\Kaustubh\\Anaconda3\\lib\\site-packages\\sklearn\\linear_model\\coordinate_descent.py:462: ConvergenceWarning: Objective did not converge. You might want to increase the number of iterations. Duality gap: 292.3742990057217, tolerance: 46.06957841820953\n",
      "  coef_, l1_reg, l2_reg, X, y, max_iter, tol, rng, random)\n",
      "C:\\Users\\Kaustubh\\Anaconda3\\lib\\site-packages\\sklearn\\linear_model\\coordinate_descent.py:462: ConvergenceWarning: Objective did not converge. You might want to increase the number of iterations. Duality gap: 192.4294271692561, tolerance: 48.57614199064702\n",
      "  coef_, l1_reg, l2_reg, X, y, max_iter, tol, rng, random)\n",
      "C:\\Users\\Kaustubh\\Anaconda3\\lib\\site-packages\\sklearn\\linear_model\\coordinate_descent.py:462: ConvergenceWarning: Objective did not converge. You might want to increase the number of iterations. Duality gap: 179.13727493814076, tolerance: 52.66788154290611\n",
      "  coef_, l1_reg, l2_reg, X, y, max_iter, tol, rng, random)\n",
      "C:\\Users\\Kaustubh\\Anaconda3\\lib\\site-packages\\sklearn\\linear_model\\coordinate_descent.py:462: ConvergenceWarning: Objective did not converge. You might want to increase the number of iterations. Duality gap: 1976.2413431283203, tolerance: 46.06957841820953\n",
      "  coef_, l1_reg, l2_reg, X, y, max_iter, tol, rng, random)\n",
      "C:\\Users\\Kaustubh\\Anaconda3\\lib\\site-packages\\sklearn\\linear_model\\coordinate_descent.py:462: ConvergenceWarning: Objective did not converge. You might want to increase the number of iterations. Duality gap: 356.12326354085235, tolerance: 50.69826936834604\n",
      "  coef_, l1_reg, l2_reg, X, y, max_iter, tol, rng, random)\n",
      "C:\\Users\\Kaustubh\\Anaconda3\\lib\\site-packages\\sklearn\\linear_model\\coordinate_descent.py:462: ConvergenceWarning: Objective did not converge. You might want to increase the number of iterations. Duality gap: 388.9375106048974, tolerance: 50.43552332371034\n",
      "  coef_, l1_reg, l2_reg, X, y, max_iter, tol, rng, random)\n",
      "C:\\Users\\Kaustubh\\Anaconda3\\lib\\site-packages\\sklearn\\linear_model\\coordinate_descent.py:462: ConvergenceWarning: Objective did not converge. You might want to increase the number of iterations. Duality gap: 339.4805759904266, tolerance: 46.06957841820953\n",
      "  coef_, l1_reg, l2_reg, X, y, max_iter, tol, rng, random)\n",
      "C:\\Users\\Kaustubh\\Anaconda3\\lib\\site-packages\\sklearn\\linear_model\\coordinate_descent.py:462: ConvergenceWarning: Objective did not converge. You might want to increase the number of iterations. Duality gap: 2316.530017453544, tolerance: 50.69826936834604\n",
      "  coef_, l1_reg, l2_reg, X, y, max_iter, tol, rng, random)\n",
      "C:\\Users\\Kaustubh\\Anaconda3\\lib\\site-packages\\sklearn\\linear_model\\coordinate_descent.py:462: ConvergenceWarning: Objective did not converge. You might want to increase the number of iterations. Duality gap: 309.45045509571355, tolerance: 48.57614199064702\n",
      "  coef_, l1_reg, l2_reg, X, y, max_iter, tol, rng, random)\n",
      "C:\\Users\\Kaustubh\\Anaconda3\\lib\\site-packages\\sklearn\\linear_model\\coordinate_descent.py:462: ConvergenceWarning: Objective did not converge. You might want to increase the number of iterations. Duality gap: 337.12200774911616, tolerance: 52.66788154290611\n",
      "  coef_, l1_reg, l2_reg, X, y, max_iter, tol, rng, random)\n",
      "C:\\Users\\Kaustubh\\Anaconda3\\lib\\site-packages\\sklearn\\linear_model\\coordinate_descent.py:462: ConvergenceWarning: Objective did not converge. You might want to increase the number of iterations. Duality gap: 539.6525814637134, tolerance: 50.69826936834604\n",
      "  coef_, l1_reg, l2_reg, X, y, max_iter, tol, rng, random)\n",
      "C:\\Users\\Kaustubh\\Anaconda3\\lib\\site-packages\\sklearn\\linear_model\\coordinate_descent.py:462: ConvergenceWarning: Objective did not converge. You might want to increase the number of iterations. Duality gap: 396.92073907956365, tolerance: 46.06957841820953\n",
      "  coef_, l1_reg, l2_reg, X, y, max_iter, tol, rng, random)\n",
      "C:\\Users\\Kaustubh\\Anaconda3\\lib\\site-packages\\sklearn\\linear_model\\coordinate_descent.py:462: ConvergenceWarning: Objective did not converge. You might want to increase the number of iterations. Duality gap: 2769.1695221665796, tolerance: 46.06957841820953\n",
      "  coef_, l1_reg, l2_reg, X, y, max_iter, tol, rng, random)\n",
      "C:\\Users\\Kaustubh\\Anaconda3\\lib\\site-packages\\sklearn\\linear_model\\coordinate_descent.py:462: ConvergenceWarning: Objective did not converge. You might want to increase the number of iterations. Duality gap: 453.5156375330771, tolerance: 50.43552332371034\n",
      "  coef_, l1_reg, l2_reg, X, y, max_iter, tol, rng, random)\n",
      "C:\\Users\\Kaustubh\\Anaconda3\\lib\\site-packages\\sklearn\\linear_model\\coordinate_descent.py:462: ConvergenceWarning: Objective did not converge. You might want to increase the number of iterations. Duality gap: 3128.5873796894994, tolerance: 50.69826936834604\n",
      "  coef_, l1_reg, l2_reg, X, y, max_iter, tol, rng, random)\n",
      "C:\\Users\\Kaustubh\\Anaconda3\\lib\\site-packages\\sklearn\\linear_model\\coordinate_descent.py:462: ConvergenceWarning: Objective did not converge. You might want to increase the number of iterations. Duality gap: 441.221562523584, tolerance: 46.06957841820953\n",
      "  coef_, l1_reg, l2_reg, X, y, max_iter, tol, rng, random)\n",
      "C:\\Users\\Kaustubh\\Anaconda3\\lib\\site-packages\\sklearn\\linear_model\\coordinate_descent.py:462: ConvergenceWarning: Objective did not converge. You might want to increase the number of iterations. Duality gap: 813.3699443374644, tolerance: 50.69826936834604\n",
      "  coef_, l1_reg, l2_reg, X, y, max_iter, tol, rng, random)\n",
      "C:\\Users\\Kaustubh\\Anaconda3\\lib\\site-packages\\sklearn\\linear_model\\coordinate_descent.py:462: ConvergenceWarning: Objective did not converge. You might want to increase the number of iterations. Duality gap: 580.764238108175, tolerance: 48.57614199064702\n",
      "  coef_, l1_reg, l2_reg, X, y, max_iter, tol, rng, random)\n",
      "C:\\Users\\Kaustubh\\Anaconda3\\lib\\site-packages\\sklearn\\linear_model\\coordinate_descent.py:462: ConvergenceWarning: Objective did not converge. You might want to increase the number of iterations. Duality gap: 537.5088728492847, tolerance: 52.66788154290611\n",
      "  coef_, l1_reg, l2_reg, X, y, max_iter, tol, rng, random)\n",
      "C:\\Users\\Kaustubh\\Anaconda3\\lib\\site-packages\\sklearn\\linear_model\\coordinate_descent.py:462: ConvergenceWarning: Objective did not converge. You might want to increase the number of iterations. Duality gap: 3633.9408877670503, tolerance: 46.06957841820953\n",
      "  coef_, l1_reg, l2_reg, X, y, max_iter, tol, rng, random)\n",
      "C:\\Users\\Kaustubh\\Anaconda3\\lib\\site-packages\\sklearn\\linear_model\\coordinate_descent.py:462: ConvergenceWarning: Objective did not converge. You might want to increase the number of iterations. Duality gap: 86.00742889355752, tolerance: 50.43552332371034\n",
      "  coef_, l1_reg, l2_reg, X, y, max_iter, tol, rng, random)\n",
      "C:\\Users\\Kaustubh\\Anaconda3\\lib\\site-packages\\sklearn\\linear_model\\coordinate_descent.py:462: ConvergenceWarning: Objective did not converge. You might want to increase the number of iterations. Duality gap: 805.0031320336129, tolerance: 50.43552332371034\n",
      "  coef_, l1_reg, l2_reg, X, y, max_iter, tol, rng, random)\n",
      "C:\\Users\\Kaustubh\\Anaconda3\\lib\\site-packages\\sklearn\\linear_model\\coordinate_descent.py:462: ConvergenceWarning: Objective did not converge. You might want to increase the number of iterations. Duality gap: 824.3420574458287, tolerance: 46.06957841820953\n",
      "  coef_, l1_reg, l2_reg, X, y, max_iter, tol, rng, random)\n",
      "C:\\Users\\Kaustubh\\Anaconda3\\lib\\site-packages\\sklearn\\linear_model\\coordinate_descent.py:462: ConvergenceWarning: Objective did not converge. You might want to increase the number of iterations. Duality gap: 818.6146814299282, tolerance: 50.69826936834604\n",
      "  coef_, l1_reg, l2_reg, X, y, max_iter, tol, rng, random)\n",
      "C:\\Users\\Kaustubh\\Anaconda3\\lib\\site-packages\\sklearn\\linear_model\\coordinate_descent.py:462: ConvergenceWarning: Objective did not converge. You might want to increase the number of iterations. Duality gap: 55.89024370338302, tolerance: 52.66788154290611\n",
      "  coef_, l1_reg, l2_reg, X, y, max_iter, tol, rng, random)\n",
      "C:\\Users\\Kaustubh\\Anaconda3\\lib\\site-packages\\sklearn\\linear_model\\coordinate_descent.py:462: ConvergenceWarning: Objective did not converge. You might want to increase the number of iterations. Duality gap: 3056.4447318304847, tolerance: 50.69826936834604\n",
      "  coef_, l1_reg, l2_reg, X, y, max_iter, tol, rng, random)\n",
      "C:\\Users\\Kaustubh\\Anaconda3\\lib\\site-packages\\sklearn\\linear_model\\coordinate_descent.py:462: ConvergenceWarning: Objective did not converge. You might want to increase the number of iterations. Duality gap: 820.7069216722739, tolerance: 48.57614199064702\n",
      "  coef_, l1_reg, l2_reg, X, y, max_iter, tol, rng, random)\n",
      "C:\\Users\\Kaustubh\\Anaconda3\\lib\\site-packages\\sklearn\\linear_model\\coordinate_descent.py:462: ConvergenceWarning: Objective did not converge. You might want to increase the number of iterations. Duality gap: 768.9431074189051, tolerance: 52.66788154290611\n",
      "  coef_, l1_reg, l2_reg, X, y, max_iter, tol, rng, random)\n",
      "C:\\Users\\Kaustubh\\Anaconda3\\lib\\site-packages\\sklearn\\linear_model\\coordinate_descent.py:462: ConvergenceWarning: Objective did not converge. You might want to increase the number of iterations. Duality gap: 84.3523317243671, tolerance: 52.66788154290611\n",
      "  coef_, l1_reg, l2_reg, X, y, max_iter, tol, rng, random)\n",
      "C:\\Users\\Kaustubh\\Anaconda3\\lib\\site-packages\\sklearn\\linear_model\\coordinate_descent.py:462: ConvergenceWarning: Objective did not converge. You might want to increase the number of iterations. Duality gap: 976.344072907712, tolerance: 46.06957841820953\n",
      "  coef_, l1_reg, l2_reg, X, y, max_iter, tol, rng, random)\n",
      "C:\\Users\\Kaustubh\\Anaconda3\\lib\\site-packages\\sklearn\\linear_model\\coordinate_descent.py:462: ConvergenceWarning: Objective did not converge. You might want to increase the number of iterations. Duality gap: 4274.96676654329, tolerance: 46.06957841820953\n",
      "  coef_, l1_reg, l2_reg, X, y, max_iter, tol, rng, random)\n",
      "C:\\Users\\Kaustubh\\Anaconda3\\lib\\site-packages\\sklearn\\linear_model\\coordinate_descent.py:462: ConvergenceWarning: Objective did not converge. You might want to increase the number of iterations. Duality gap: 1073.8790454588016, tolerance: 50.43552332371034\n",
      "  coef_, l1_reg, l2_reg, X, y, max_iter, tol, rng, random)\n",
      "C:\\Users\\Kaustubh\\Anaconda3\\lib\\site-packages\\sklearn\\linear_model\\coordinate_descent.py:462: ConvergenceWarning: Objective did not converge. You might want to increase the number of iterations. Duality gap: 1380.0124108177115, tolerance: 50.69826936834604\n",
      "  coef_, l1_reg, l2_reg, X, y, max_iter, tol, rng, random)\n",
      "C:\\Users\\Kaustubh\\Anaconda3\\lib\\site-packages\\sklearn\\linear_model\\coordinate_descent.py:462: ConvergenceWarning: Objective did not converge. You might want to increase the number of iterations. Duality gap: 114.909503879142, tolerance: 50.43552332371034\n",
      "  coef_, l1_reg, l2_reg, X, y, max_iter, tol, rng, random)\n",
      "C:\\Users\\Kaustubh\\Anaconda3\\lib\\site-packages\\sklearn\\linear_model\\coordinate_descent.py:462: ConvergenceWarning: Objective did not converge. You might want to increase the number of iterations. Duality gap: 4869.692074155304, tolerance: 50.69826936834604\n",
      "  coef_, l1_reg, l2_reg, X, y, max_iter, tol, rng, random)\n",
      "C:\\Users\\Kaustubh\\Anaconda3\\lib\\site-packages\\sklearn\\linear_model\\coordinate_descent.py:462: ConvergenceWarning: Objective did not converge. You might want to increase the number of iterations. Duality gap: 151.25563425559085, tolerance: 52.66788154290611\n",
      "  coef_, l1_reg, l2_reg, X, y, max_iter, tol, rng, random)\n",
      "C:\\Users\\Kaustubh\\Anaconda3\\lib\\site-packages\\sklearn\\linear_model\\coordinate_descent.py:462: ConvergenceWarning: Objective did not converge. You might want to increase the number of iterations. Duality gap: 1670.373209530182, tolerance: 46.06957841820953\n",
      "  coef_, l1_reg, l2_reg, X, y, max_iter, tol, rng, random)\n",
      "C:\\Users\\Kaustubh\\Anaconda3\\lib\\site-packages\\sklearn\\linear_model\\coordinate_descent.py:462: ConvergenceWarning: Objective did not converge. You might want to increase the number of iterations. Duality gap: 1369.9057665154833, tolerance: 48.57614199064702\n",
      "  coef_, l1_reg, l2_reg, X, y, max_iter, tol, rng, random)\n",
      "C:\\Users\\Kaustubh\\Anaconda3\\lib\\site-packages\\sklearn\\linear_model\\coordinate_descent.py:462: ConvergenceWarning: Objective did not converge. You might want to increase the number of iterations. Duality gap: 1499.3880707687567, tolerance: 52.66788154290611\n",
      "  coef_, l1_reg, l2_reg, X, y, max_iter, tol, rng, random)\n",
      "C:\\Users\\Kaustubh\\Anaconda3\\lib\\site-packages\\sklearn\\linear_model\\coordinate_descent.py:462: ConvergenceWarning: Objective did not converge. You might want to increase the number of iterations. Duality gap: 1853.0916094772983, tolerance: 50.69826936834604\n",
      "  coef_, l1_reg, l2_reg, X, y, max_iter, tol, rng, random)\n",
      "C:\\Users\\Kaustubh\\Anaconda3\\lib\\site-packages\\sklearn\\linear_model\\coordinate_descent.py:462: ConvergenceWarning: Objective did not converge. You might want to increase the number of iterations. Duality gap: 167.01591454388108, tolerance: 50.43552332371034\n",
      "  coef_, l1_reg, l2_reg, X, y, max_iter, tol, rng, random)\n",
      "C:\\Users\\Kaustubh\\Anaconda3\\lib\\site-packages\\sklearn\\linear_model\\coordinate_descent.py:462: ConvergenceWarning: Objective did not converge. You might want to increase the number of iterations. Duality gap: 4514.296832584119, tolerance: 46.06957841820953\n",
      "  coef_, l1_reg, l2_reg, X, y, max_iter, tol, rng, random)\n",
      "C:\\Users\\Kaustubh\\Anaconda3\\lib\\site-packages\\sklearn\\linear_model\\coordinate_descent.py:462: ConvergenceWarning: Objective did not converge. You might want to increase the number of iterations. Duality gap: 1462.6052875694731, tolerance: 50.43552332371034\n",
      "  coef_, l1_reg, l2_reg, X, y, max_iter, tol, rng, random)\n",
      "C:\\Users\\Kaustubh\\Anaconda3\\lib\\site-packages\\sklearn\\linear_model\\coordinate_descent.py:462: ConvergenceWarning: Objective did not converge. You might want to increase the number of iterations. Duality gap: 150.8575861385907, tolerance: 52.66788154290611\n",
      "  coef_, l1_reg, l2_reg, X, y, max_iter, tol, rng, random)\n",
      "C:\\Users\\Kaustubh\\Anaconda3\\lib\\site-packages\\sklearn\\linear_model\\coordinate_descent.py:462: ConvergenceWarning: Objective did not converge. You might want to increase the number of iterations. Duality gap: 5955.566561652746, tolerance: 50.69826936834604\n",
      "  coef_, l1_reg, l2_reg, X, y, max_iter, tol, rng, random)\n",
      "C:\\Users\\Kaustubh\\Anaconda3\\lib\\site-packages\\sklearn\\linear_model\\coordinate_descent.py:462: ConvergenceWarning: Objective did not converge. You might want to increase the number of iterations. Duality gap: 2020.4158116448816, tolerance: 46.06957841820953\n",
      "  coef_, l1_reg, l2_reg, X, y, max_iter, tol, rng, random)\n",
      "C:\\Users\\Kaustubh\\Anaconda3\\lib\\site-packages\\sklearn\\linear_model\\coordinate_descent.py:462: ConvergenceWarning: Objective did not converge. You might want to increase the number of iterations. Duality gap: 310.4243733251351, tolerance: 50.43552332371034\n",
      "  coef_, l1_reg, l2_reg, X, y, max_iter, tol, rng, random)\n",
      "C:\\Users\\Kaustubh\\Anaconda3\\lib\\site-packages\\sklearn\\linear_model\\coordinate_descent.py:462: ConvergenceWarning: Objective did not converge. You might want to increase the number of iterations. Duality gap: 1996.9685576176853, tolerance: 50.69826936834604\n",
      "  coef_, l1_reg, l2_reg, X, y, max_iter, tol, rng, random)\n",
      "C:\\Users\\Kaustubh\\Anaconda3\\lib\\site-packages\\sklearn\\linear_model\\coordinate_descent.py:462: ConvergenceWarning: Objective did not converge. You might want to increase the number of iterations. Duality gap: 1623.2230594346292, tolerance: 48.57614199064702\n",
      "  coef_, l1_reg, l2_reg, X, y, max_iter, tol, rng, random)\n",
      "C:\\Users\\Kaustubh\\Anaconda3\\lib\\site-packages\\sklearn\\linear_model\\coordinate_descent.py:462: ConvergenceWarning: Objective did not converge. You might want to increase the number of iterations. Duality gap: 269.47633341816254, tolerance: 52.66788154290611\n",
      "  coef_, l1_reg, l2_reg, X, y, max_iter, tol, rng, random)\n",
      "C:\\Users\\Kaustubh\\Anaconda3\\lib\\site-packages\\sklearn\\linear_model\\coordinate_descent.py:462: ConvergenceWarning: Objective did not converge. You might want to increase the number of iterations. Duality gap: 1702.7812986664576, tolerance: 52.66788154290611\n",
      "  coef_, l1_reg, l2_reg, X, y, max_iter, tol, rng, random)\n",
      "C:\\Users\\Kaustubh\\Anaconda3\\lib\\site-packages\\sklearn\\linear_model\\coordinate_descent.py:462: ConvergenceWarning: Objective did not converge. You might want to increase the number of iterations. Duality gap: 2000.3307057707825, tolerance: 50.43552332371034\n",
      "  coef_, l1_reg, l2_reg, X, y, max_iter, tol, rng, random)\n",
      "C:\\Users\\Kaustubh\\Anaconda3\\lib\\site-packages\\sklearn\\linear_model\\coordinate_descent.py:462: ConvergenceWarning: Objective did not converge. You might want to increase the number of iterations. Duality gap: 7027.121364327663, tolerance: 46.06957841820953\n",
      "  coef_, l1_reg, l2_reg, X, y, max_iter, tol, rng, random)\n",
      "C:\\Users\\Kaustubh\\Anaconda3\\lib\\site-packages\\sklearn\\linear_model\\coordinate_descent.py:462: ConvergenceWarning: Objective did not converge. You might want to increase the number of iterations. Duality gap: 2981.354453969725, tolerance: 46.06957841820953\n",
      "  coef_, l1_reg, l2_reg, X, y, max_iter, tol, rng, random)\n",
      "C:\\Users\\Kaustubh\\Anaconda3\\lib\\site-packages\\sklearn\\linear_model\\coordinate_descent.py:462: ConvergenceWarning: Objective did not converge. You might want to increase the number of iterations. Duality gap: 272.1833963612735, tolerance: 50.43552332371034\n",
      "  coef_, l1_reg, l2_reg, X, y, max_iter, tol, rng, random)\n",
      "C:\\Users\\Kaustubh\\Anaconda3\\lib\\site-packages\\sklearn\\linear_model\\coordinate_descent.py:462: ConvergenceWarning: Objective did not converge. You might want to increase the number of iterations. Duality gap: 7007.557072194667, tolerance: 50.69826936834604\n",
      "  coef_, l1_reg, l2_reg, X, y, max_iter, tol, rng, random)\n",
      "C:\\Users\\Kaustubh\\Anaconda3\\lib\\site-packages\\sklearn\\linear_model\\coordinate_descent.py:462: ConvergenceWarning: Objective did not converge. You might want to increase the number of iterations. Duality gap: 200.74701853634906, tolerance: 48.57614199064702\n",
      "  coef_, l1_reg, l2_reg, X, y, max_iter, tol, rng, random)\n",
      "C:\\Users\\Kaustubh\\Anaconda3\\lib\\site-packages\\sklearn\\linear_model\\coordinate_descent.py:462: ConvergenceWarning: Objective did not converge. You might want to increase the number of iterations. Duality gap: 2666.3102987812745, tolerance: 50.69826936834604\n",
      "  coef_, l1_reg, l2_reg, X, y, max_iter, tol, rng, random)\n",
      "C:\\Users\\Kaustubh\\Anaconda3\\lib\\site-packages\\sklearn\\linear_model\\coordinate_descent.py:462: ConvergenceWarning: Objective did not converge. You might want to increase the number of iterations. Duality gap: 385.99465284575126, tolerance: 52.66788154290611\n",
      "  coef_, l1_reg, l2_reg, X, y, max_iter, tol, rng, random)\n",
      "C:\\Users\\Kaustubh\\Anaconda3\\lib\\site-packages\\sklearn\\linear_model\\coordinate_descent.py:462: ConvergenceWarning: Objective did not converge. You might want to increase the number of iterations. Duality gap: 2325.676099548764, tolerance: 48.57614199064702\n",
      "  coef_, l1_reg, l2_reg, X, y, max_iter, tol, rng, random)\n",
      "C:\\Users\\Kaustubh\\Anaconda3\\lib\\site-packages\\sklearn\\linear_model\\coordinate_descent.py:462: ConvergenceWarning: Objective did not converge. You might want to increase the number of iterations. Duality gap: 2126.269239633635, tolerance: 52.66788154290611\n",
      "  coef_, l1_reg, l2_reg, X, y, max_iter, tol, rng, random)\n",
      "C:\\Users\\Kaustubh\\Anaconda3\\lib\\site-packages\\sklearn\\linear_model\\coordinate_descent.py:462: ConvergenceWarning: Objective did not converge. You might want to increase the number of iterations. Duality gap: 3157.4876242752434, tolerance: 50.43552332371034\n",
      "  coef_, l1_reg, l2_reg, X, y, max_iter, tol, rng, random)\n",
      "C:\\Users\\Kaustubh\\Anaconda3\\lib\\site-packages\\sklearn\\linear_model\\coordinate_descent.py:462: ConvergenceWarning: Objective did not converge. You might want to increase the number of iterations. Duality gap: 230.9707531524473, tolerance: 48.57614199064702\n",
      "  coef_, l1_reg, l2_reg, X, y, max_iter, tol, rng, random)\n",
      "C:\\Users\\Kaustubh\\Anaconda3\\lib\\site-packages\\sklearn\\linear_model\\coordinate_descent.py:462: ConvergenceWarning: Objective did not converge. You might want to increase the number of iterations. Duality gap: 520.1351680735534, tolerance: 50.43552332371034\n",
      "  coef_, l1_reg, l2_reg, X, y, max_iter, tol, rng, random)\n",
      "C:\\Users\\Kaustubh\\Anaconda3\\lib\\site-packages\\sklearn\\linear_model\\coordinate_descent.py:462: ConvergenceWarning: Objective did not converge. You might want to increase the number of iterations. Duality gap: 6396.949827476398, tolerance: 46.06957841820953\n",
      "  coef_, l1_reg, l2_reg, X, y, max_iter, tol, rng, random)\n",
      "C:\\Users\\Kaustubh\\Anaconda3\\lib\\site-packages\\sklearn\\linear_model\\coordinate_descent.py:462: ConvergenceWarning: Objective did not converge. You might want to increase the number of iterations. Duality gap: 3812.671154783573, tolerance: 46.06957841820953\n",
      "  coef_, l1_reg, l2_reg, X, y, max_iter, tol, rng, random)\n",
      "C:\\Users\\Kaustubh\\Anaconda3\\lib\\site-packages\\sklearn\\linear_model\\coordinate_descent.py:462: ConvergenceWarning: Objective did not converge. You might want to increase the number of iterations. Duality gap: 514.384582598781, tolerance: 52.66788154290611\n",
      "  coef_, l1_reg, l2_reg, X, y, max_iter, tol, rng, random)\n",
      "C:\\Users\\Kaustubh\\Anaconda3\\lib\\site-packages\\sklearn\\linear_model\\coordinate_descent.py:462: ConvergenceWarning: Objective did not converge. You might want to increase the number of iterations. Duality gap: 3121.1903143046657, tolerance: 50.69826936834604\n",
      "  coef_, l1_reg, l2_reg, X, y, max_iter, tol, rng, random)\n",
      "C:\\Users\\Kaustubh\\Anaconda3\\lib\\site-packages\\sklearn\\linear_model\\coordinate_descent.py:462: ConvergenceWarning: Objective did not converge. You might want to increase the number of iterations. Duality gap: 7158.899475416424, tolerance: 50.69826936834604\n",
      "  coef_, l1_reg, l2_reg, X, y, max_iter, tol, rng, random)\n",
      "C:\\Users\\Kaustubh\\Anaconda3\\lib\\site-packages\\sklearn\\linear_model\\coordinate_descent.py:462: ConvergenceWarning: Objective did not converge. You might want to increase the number of iterations. Duality gap: 343.21760814249865, tolerance: 48.57614199064702\n",
      "  coef_, l1_reg, l2_reg, X, y, max_iter, tol, rng, random)\n",
      "C:\\Users\\Kaustubh\\Anaconda3\\lib\\site-packages\\sklearn\\linear_model\\coordinate_descent.py:462: ConvergenceWarning: Objective did not converge. You might want to increase the number of iterations. Duality gap: 794.6689280865539, tolerance: 50.43552332371034\n",
      "  coef_, l1_reg, l2_reg, X, y, max_iter, tol, rng, random)\n",
      "C:\\Users\\Kaustubh\\Anaconda3\\lib\\site-packages\\sklearn\\linear_model\\coordinate_descent.py:462: ConvergenceWarning: Objective did not converge. You might want to increase the number of iterations. Duality gap: 2664.469700342037, tolerance: 48.57614199064702\n",
      "  coef_, l1_reg, l2_reg, X, y, max_iter, tol, rng, random)\n",
      "C:\\Users\\Kaustubh\\Anaconda3\\lib\\site-packages\\sklearn\\linear_model\\coordinate_descent.py:462: ConvergenceWarning: Objective did not converge. You might want to increase the number of iterations. Duality gap: 3413.5493020247013, tolerance: 50.43552332371034\n",
      "  coef_, l1_reg, l2_reg, X, y, max_iter, tol, rng, random)\n",
      "C:\\Users\\Kaustubh\\Anaconda3\\lib\\site-packages\\sklearn\\linear_model\\coordinate_descent.py:462: ConvergenceWarning: Objective did not converge. You might want to increase the number of iterations. Duality gap: 714.0064097267459, tolerance: 52.66788154290611\n",
      "  coef_, l1_reg, l2_reg, X, y, max_iter, tol, rng, random)\n",
      "C:\\Users\\Kaustubh\\Anaconda3\\lib\\site-packages\\sklearn\\linear_model\\coordinate_descent.py:462: ConvergenceWarning: Objective did not converge. You might want to increase the number of iterations. Duality gap: 2717.448019121948, tolerance: 52.66788154290611\n",
      "  coef_, l1_reg, l2_reg, X, y, max_iter, tol, rng, random)\n",
      "C:\\Users\\Kaustubh\\Anaconda3\\lib\\site-packages\\sklearn\\linear_model\\coordinate_descent.py:462: ConvergenceWarning: Objective did not converge. You might want to increase the number of iterations. Duality gap: 4563.213056773282, tolerance: 46.06957841820953\n",
      "  coef_, l1_reg, l2_reg, X, y, max_iter, tol, rng, random)\n",
      "C:\\Users\\Kaustubh\\Anaconda3\\lib\\site-packages\\sklearn\\linear_model\\coordinate_descent.py:462: ConvergenceWarning: Objective did not converge. You might want to increase the number of iterations. Duality gap: 6819.840829707819, tolerance: 46.06957841820953\n",
      "  coef_, l1_reg, l2_reg, X, y, max_iter, tol, rng, random)\n",
      "C:\\Users\\Kaustubh\\Anaconda3\\lib\\site-packages\\sklearn\\linear_model\\coordinate_descent.py:462: ConvergenceWarning: Objective did not converge. You might want to increase the number of iterations. Duality gap: 3234.4599880511523, tolerance: 50.69826936834604\n",
      "  coef_, l1_reg, l2_reg, X, y, max_iter, tol, rng, random)\n",
      "C:\\Users\\Kaustubh\\Anaconda3\\lib\\site-packages\\sklearn\\linear_model\\coordinate_descent.py:462: ConvergenceWarning: Objective did not converge. You might want to increase the number of iterations. Duality gap: 419.3726066729869, tolerance: 48.57614199064702\n",
      "  coef_, l1_reg, l2_reg, X, y, max_iter, tol, rng, random)\n",
      "C:\\Users\\Kaustubh\\Anaconda3\\lib\\site-packages\\sklearn\\linear_model\\coordinate_descent.py:462: ConvergenceWarning: Objective did not converge. You might want to increase the number of iterations. Duality gap: 6188.752213558956, tolerance: 50.69826936834604\n",
      "  coef_, l1_reg, l2_reg, X, y, max_iter, tol, rng, random)\n",
      "C:\\Users\\Kaustubh\\Anaconda3\\lib\\site-packages\\sklearn\\linear_model\\coordinate_descent.py:462: ConvergenceWarning: Objective did not converge. You might want to increase the number of iterations. Duality gap: 1208.7875867491966, tolerance: 50.43552332371034\n",
      "  coef_, l1_reg, l2_reg, X, y, max_iter, tol, rng, random)\n",
      "C:\\Users\\Kaustubh\\Anaconda3\\lib\\site-packages\\sklearn\\linear_model\\coordinate_descent.py:462: ConvergenceWarning: Objective did not converge. You might want to increase the number of iterations. Duality gap: 1075.365771384022, tolerance: 52.66788154290611\n",
      "  coef_, l1_reg, l2_reg, X, y, max_iter, tol, rng, random)\n",
      "C:\\Users\\Kaustubh\\Anaconda3\\lib\\site-packages\\sklearn\\linear_model\\coordinate_descent.py:462: ConvergenceWarning: Objective did not converge. You might want to increase the number of iterations. Duality gap: 5972.720572200509, tolerance: 46.06957841820953\n",
      "  coef_, l1_reg, l2_reg, X, y, max_iter, tol, rng, random)\n",
      "C:\\Users\\Kaustubh\\Anaconda3\\lib\\site-packages\\sklearn\\linear_model\\coordinate_descent.py:462: ConvergenceWarning: Objective did not converge. You might want to increase the number of iterations. Duality gap: 3252.0712411523727, tolerance: 48.57614199064702\n",
      "  coef_, l1_reg, l2_reg, X, y, max_iter, tol, rng, random)\n",
      "C:\\Users\\Kaustubh\\Anaconda3\\lib\\site-packages\\sklearn\\linear_model\\coordinate_descent.py:462: ConvergenceWarning: Objective did not converge. You might want to increase the number of iterations. Duality gap: 4112.705944463092, tolerance: 50.43552332371034\n",
      "  coef_, l1_reg, l2_reg, X, y, max_iter, tol, rng, random)\n",
      "C:\\Users\\Kaustubh\\Anaconda3\\lib\\site-packages\\sklearn\\linear_model\\coordinate_descent.py:462: ConvergenceWarning: Objective did not converge. You might want to increase the number of iterations. Duality gap: 3584.304415222843, tolerance: 52.66788154290611\n",
      "  coef_, l1_reg, l2_reg, X, y, max_iter, tol, rng, random)\n",
      "C:\\Users\\Kaustubh\\Anaconda3\\lib\\site-packages\\sklearn\\linear_model\\coordinate_descent.py:462: ConvergenceWarning: Objective did not converge. You might want to increase the number of iterations. Duality gap: 423.3671504823433, tolerance: 48.57614199064702\n",
      "  coef_, l1_reg, l2_reg, X, y, max_iter, tol, rng, random)\n",
      "C:\\Users\\Kaustubh\\Anaconda3\\lib\\site-packages\\sklearn\\linear_model\\coordinate_descent.py:462: ConvergenceWarning: Objective did not converge. You might want to increase the number of iterations. Duality gap: 4216.65264102925, tolerance: 50.69826936834604\n",
      "  coef_, l1_reg, l2_reg, X, y, max_iter, tol, rng, random)\n",
      "C:\\Users\\Kaustubh\\Anaconda3\\lib\\site-packages\\sklearn\\linear_model\\coordinate_descent.py:462: ConvergenceWarning: Objective did not converge. You might want to increase the number of iterations. Duality gap: 1915.6861125169817, tolerance: 50.43552332371034\n",
      "  coef_, l1_reg, l2_reg, X, y, max_iter, tol, rng, random)\n",
      "C:\\Users\\Kaustubh\\Anaconda3\\lib\\site-packages\\sklearn\\linear_model\\coordinate_descent.py:462: ConvergenceWarning: Objective did not converge. You might want to increase the number of iterations. Duality gap: 1621.836581296433, tolerance: 52.66788154290611\n",
      "  coef_, l1_reg, l2_reg, X, y, max_iter, tol, rng, random)\n",
      "C:\\Users\\Kaustubh\\Anaconda3\\lib\\site-packages\\sklearn\\linear_model\\coordinate_descent.py:462: ConvergenceWarning: Objective did not converge. You might want to increase the number of iterations. Duality gap: 741.0931201750209, tolerance: 48.57614199064702\n",
      "  coef_, l1_reg, l2_reg, X, y, max_iter, tol, rng, random)\n",
      "C:\\Users\\Kaustubh\\Anaconda3\\lib\\site-packages\\sklearn\\linear_model\\coordinate_descent.py:462: ConvergenceWarning: Objective did not converge. You might want to increase the number of iterations. Duality gap: 5596.8533539527925, tolerance: 46.06957841820953\n",
      "  coef_, l1_reg, l2_reg, X, y, max_iter, tol, rng, random)\n",
      "C:\\Users\\Kaustubh\\Anaconda3\\lib\\site-packages\\sklearn\\linear_model\\coordinate_descent.py:462: ConvergenceWarning: Objective did not converge. You might want to increase the number of iterations. Duality gap: 5109.1503513267635, tolerance: 50.43552332371034\n",
      "  coef_, l1_reg, l2_reg, X, y, max_iter, tol, rng, random)\n",
      "C:\\Users\\Kaustubh\\Anaconda3\\lib\\site-packages\\sklearn\\linear_model\\coordinate_descent.py:462: ConvergenceWarning: Objective did not converge. You might want to increase the number of iterations. Duality gap: 3889.348055913475, tolerance: 48.57614199064702\n",
      "  coef_, l1_reg, l2_reg, X, y, max_iter, tol, rng, random)\n",
      "C:\\Users\\Kaustubh\\Anaconda3\\lib\\site-packages\\sklearn\\linear_model\\coordinate_descent.py:462: ConvergenceWarning: Objective did not converge. You might want to increase the number of iterations. Duality gap: 4548.857556216961, tolerance: 52.66788154290611\n",
      "  coef_, l1_reg, l2_reg, X, y, max_iter, tol, rng, random)\n",
      "C:\\Users\\Kaustubh\\Anaconda3\\lib\\site-packages\\sklearn\\linear_model\\coordinate_descent.py:462: ConvergenceWarning: Objective did not converge. You might want to increase the number of iterations. Duality gap: 6446.56834150229, tolerance: 50.69826936834604\n",
      "  coef_, l1_reg, l2_reg, X, y, max_iter, tol, rng, random)\n",
      "C:\\Users\\Kaustubh\\Anaconda3\\lib\\site-packages\\sklearn\\linear_model\\coordinate_descent.py:462: ConvergenceWarning: Objective did not converge. You might want to increase the number of iterations. Duality gap: 1919.2020007380197, tolerance: 50.43552332371034\n",
      "  coef_, l1_reg, l2_reg, X, y, max_iter, tol, rng, random)\n",
      "C:\\Users\\Kaustubh\\Anaconda3\\lib\\site-packages\\sklearn\\linear_model\\coordinate_descent.py:462: ConvergenceWarning: Objective did not converge. You might want to increase the number of iterations. Duality gap: 2624.882855005155, tolerance: 52.66788154290611\n",
      "  coef_, l1_reg, l2_reg, X, y, max_iter, tol, rng, random)\n",
      "C:\\Users\\Kaustubh\\Anaconda3\\lib\\site-packages\\sklearn\\linear_model\\coordinate_descent.py:462: ConvergenceWarning: Objective did not converge. You might want to increase the number of iterations. Duality gap: 766.5277660318825, tolerance: 48.57614199064702\n",
      "  coef_, l1_reg, l2_reg, X, y, max_iter, tol, rng, random)\n",
      "C:\\Users\\Kaustubh\\Anaconda3\\lib\\site-packages\\sklearn\\linear_model\\coordinate_descent.py:462: ConvergenceWarning: Objective did not converge. You might want to increase the number of iterations. Duality gap: 5966.38523083906, tolerance: 46.06957841820953\n",
      "  coef_, l1_reg, l2_reg, X, y, max_iter, tol, rng, random)\n",
      "C:\\Users\\Kaustubh\\Anaconda3\\lib\\site-packages\\sklearn\\linear_model\\coordinate_descent.py:462: ConvergenceWarning: Objective did not converge. You might want to increase the number of iterations. Duality gap: 6032.398356281807, tolerance: 50.43552332371034\n",
      "  coef_, l1_reg, l2_reg, X, y, max_iter, tol, rng, random)\n",
      "C:\\Users\\Kaustubh\\Anaconda3\\lib\\site-packages\\sklearn\\linear_model\\coordinate_descent.py:462: ConvergenceWarning: Objective did not converge. You might want to increase the number of iterations. Duality gap: 2581.610887028073, tolerance: 52.66788154290611\n",
      "  coef_, l1_reg, l2_reg, X, y, max_iter, tol, rng, random)\n",
      "C:\\Users\\Kaustubh\\Anaconda3\\lib\\site-packages\\sklearn\\linear_model\\coordinate_descent.py:462: ConvergenceWarning: Objective did not converge. You might want to increase the number of iterations. Duality gap: 2424.699552188278, tolerance: 50.43552332371034\n",
      "  coef_, l1_reg, l2_reg, X, y, max_iter, tol, rng, random)\n",
      "C:\\Users\\Kaustubh\\Anaconda3\\lib\\site-packages\\sklearn\\linear_model\\coordinate_descent.py:462: ConvergenceWarning: Objective did not converge. You might want to increase the number of iterations. Duality gap: 4734.220774261274, tolerance: 50.69826936834604\n",
      "  coef_, l1_reg, l2_reg, X, y, max_iter, tol, rng, random)\n",
      "C:\\Users\\Kaustubh\\Anaconda3\\lib\\site-packages\\sklearn\\linear_model\\coordinate_descent.py:462: ConvergenceWarning: Objective did not converge. You might want to increase the number of iterations. Duality gap: 1253.94937379373, tolerance: 48.57614199064702\n",
      "  coef_, l1_reg, l2_reg, X, y, max_iter, tol, rng, random)\n",
      "C:\\Users\\Kaustubh\\Anaconda3\\lib\\site-packages\\sklearn\\linear_model\\coordinate_descent.py:462: ConvergenceWarning: Objective did not converge. You might want to increase the number of iterations. Duality gap: 6200.044938461571, tolerance: 52.66788154290611\n",
      "  coef_, l1_reg, l2_reg, X, y, max_iter, tol, rng, random)\n",
      "C:\\Users\\Kaustubh\\Anaconda3\\lib\\site-packages\\sklearn\\linear_model\\coordinate_descent.py:462: ConvergenceWarning: Objective did not converge. You might want to increase the number of iterations. Duality gap: 4436.662436687677, tolerance: 48.57614199064702\n",
      "  coef_, l1_reg, l2_reg, X, y, max_iter, tol, rng, random)\n",
      "C:\\Users\\Kaustubh\\Anaconda3\\lib\\site-packages\\sklearn\\linear_model\\coordinate_descent.py:462: ConvergenceWarning: Objective did not converge. You might want to increase the number of iterations. Duality gap: 6053.5598621752615, tolerance: 46.06957841820953\n",
      "  coef_, l1_reg, l2_reg, X, y, max_iter, tol, rng, random)\n",
      "C:\\Users\\Kaustubh\\Anaconda3\\lib\\site-packages\\sklearn\\linear_model\\coordinate_descent.py:462: ConvergenceWarning: Objective did not converge. You might want to increase the number of iterations. Duality gap: 3327.2329038697935, tolerance: 52.66788154290611\n",
      "  coef_, l1_reg, l2_reg, X, y, max_iter, tol, rng, random)\n",
      "C:\\Users\\Kaustubh\\Anaconda3\\lib\\site-packages\\sklearn\\linear_model\\coordinate_descent.py:462: ConvergenceWarning: Objective did not converge. You might want to increase the number of iterations. Duality gap: 5882.754283359501, tolerance: 50.43552332371034\n",
      "  coef_, l1_reg, l2_reg, X, y, max_iter, tol, rng, random)\n",
      "C:\\Users\\Kaustubh\\Anaconda3\\lib\\site-packages\\sklearn\\linear_model\\coordinate_descent.py:462: ConvergenceWarning: Objective did not converge. You might want to increase the number of iterations. Duality gap: 1667.4910103196307, tolerance: 48.57614199064702\n",
      "  coef_, l1_reg, l2_reg, X, y, max_iter, tol, rng, random)\n",
      "C:\\Users\\Kaustubh\\Anaconda3\\lib\\site-packages\\sklearn\\linear_model\\coordinate_descent.py:462: ConvergenceWarning: Objective did not converge. You might want to increase the number of iterations. Duality gap: 2791.3472330449295, tolerance: 50.43552332371034\n",
      "  coef_, l1_reg, l2_reg, X, y, max_iter, tol, rng, random)\n",
      "C:\\Users\\Kaustubh\\Anaconda3\\lib\\site-packages\\sklearn\\linear_model\\coordinate_descent.py:462: ConvergenceWarning: Objective did not converge. You might want to increase the number of iterations. Duality gap: 6745.275999040081, tolerance: 50.69826936834604\n",
      "  coef_, l1_reg, l2_reg, X, y, max_iter, tol, rng, random)\n",
      "C:\\Users\\Kaustubh\\Anaconda3\\lib\\site-packages\\sklearn\\linear_model\\coordinate_descent.py:462: ConvergenceWarning: Objective did not converge. You might want to increase the number of iterations. Duality gap: 7930.113582324581, tolerance: 52.66788154290611\n",
      "  coef_, l1_reg, l2_reg, X, y, max_iter, tol, rng, random)\n",
      "C:\\Users\\Kaustubh\\Anaconda3\\lib\\site-packages\\sklearn\\linear_model\\coordinate_descent.py:462: ConvergenceWarning: Objective did not converge. You might want to increase the number of iterations. Duality gap: 5345.713179239515, tolerance: 48.57614199064702\n",
      "  coef_, l1_reg, l2_reg, X, y, max_iter, tol, rng, random)\n",
      "C:\\Users\\Kaustubh\\Anaconda3\\lib\\site-packages\\sklearn\\linear_model\\coordinate_descent.py:462: ConvergenceWarning: Objective did not converge. You might want to increase the number of iterations. Duality gap: 3348.137460699487, tolerance: 52.66788154290611\n",
      "  coef_, l1_reg, l2_reg, X, y, max_iter, tol, rng, random)\n",
      "C:\\Users\\Kaustubh\\Anaconda3\\lib\\site-packages\\sklearn\\linear_model\\coordinate_descent.py:462: ConvergenceWarning: Objective did not converge. You might want to increase the number of iterations. Duality gap: 6106.459837367147, tolerance: 46.06957841820953\n",
      "  coef_, l1_reg, l2_reg, X, y, max_iter, tol, rng, random)\n",
      "C:\\Users\\Kaustubh\\Anaconda3\\lib\\site-packages\\sklearn\\linear_model\\coordinate_descent.py:462: ConvergenceWarning: Objective did not converge. You might want to increase the number of iterations. Duality gap: 2078.970974435215, tolerance: 48.57614199064702\n",
      "  coef_, l1_reg, l2_reg, X, y, max_iter, tol, rng, random)\n",
      "C:\\Users\\Kaustubh\\Anaconda3\\lib\\site-packages\\sklearn\\linear_model\\coordinate_descent.py:462: ConvergenceWarning: Objective did not converge. You might want to increase the number of iterations. Duality gap: 6732.68345504685, tolerance: 50.43552332371034\n",
      "  coef_, l1_reg, l2_reg, X, y, max_iter, tol, rng, random)\n",
      "C:\\Users\\Kaustubh\\Anaconda3\\lib\\site-packages\\sklearn\\linear_model\\coordinate_descent.py:462: ConvergenceWarning: Objective did not converge. You might want to increase the number of iterations. Duality gap: 4094.5064518001527, tolerance: 50.43552332371034\n",
      "  coef_, l1_reg, l2_reg, X, y, max_iter, tol, rng, random)\n",
      "C:\\Users\\Kaustubh\\Anaconda3\\lib\\site-packages\\sklearn\\linear_model\\coordinate_descent.py:462: ConvergenceWarning: Objective did not converge. You might want to increase the number of iterations. Duality gap: 6485.225893894567, tolerance: 50.69826936834604\n",
      "  coef_, l1_reg, l2_reg, X, y, max_iter, tol, rng, random)\n",
      "C:\\Users\\Kaustubh\\Anaconda3\\lib\\site-packages\\sklearn\\linear_model\\coordinate_descent.py:462: ConvergenceWarning: Objective did not converge. You might want to increase the number of iterations. Duality gap: 4219.890478502806, tolerance: 52.66788154290611\n",
      "  coef_, l1_reg, l2_reg, X, y, max_iter, tol, rng, random)\n",
      "C:\\Users\\Kaustubh\\Anaconda3\\lib\\site-packages\\sklearn\\linear_model\\coordinate_descent.py:462: ConvergenceWarning: Objective did not converge. You might want to increase the number of iterations. Duality gap: 6081.39769686203, tolerance: 52.66788154290611\n",
      "  coef_, l1_reg, l2_reg, X, y, max_iter, tol, rng, random)\n",
      "C:\\Users\\Kaustubh\\Anaconda3\\lib\\site-packages\\sklearn\\linear_model\\coordinate_descent.py:462: ConvergenceWarning: Objective did not converge. You might want to increase the number of iterations. Duality gap: 2740.7018097667824, tolerance: 48.57614199064702\n",
      "  coef_, l1_reg, l2_reg, X, y, max_iter, tol, rng, random)\n",
      "C:\\Users\\Kaustubh\\Anaconda3\\lib\\site-packages\\sklearn\\linear_model\\coordinate_descent.py:462: ConvergenceWarning: Objective did not converge. You might want to increase the number of iterations. Duality gap: 4846.96791966764, tolerance: 48.57614199064702\n",
      "  coef_, l1_reg, l2_reg, X, y, max_iter, tol, rng, random)\n",
      "C:\\Users\\Kaustubh\\Anaconda3\\lib\\site-packages\\sklearn\\linear_model\\coordinate_descent.py:462: ConvergenceWarning: Objective did not converge. You might want to increase the number of iterations. Duality gap: 5836.034286393879, tolerance: 46.06957841820953\n",
      "  coef_, l1_reg, l2_reg, X, y, max_iter, tol, rng, random)\n",
      "C:\\Users\\Kaustubh\\Anaconda3\\lib\\site-packages\\sklearn\\linear_model\\coordinate_descent.py:462: ConvergenceWarning: Objective did not converge. You might want to increase the number of iterations. Duality gap: 3874.3849578492373, tolerance: 50.43552332371034\n",
      "  coef_, l1_reg, l2_reg, X, y, max_iter, tol, rng, random)\n",
      "C:\\Users\\Kaustubh\\Anaconda3\\lib\\site-packages\\sklearn\\linear_model\\coordinate_descent.py:462: ConvergenceWarning: Objective did not converge. You might want to increase the number of iterations. Duality gap: 2813.6831021567123, tolerance: 48.57614199064702\n",
      "  coef_, l1_reg, l2_reg, X, y, max_iter, tol, rng, random)\n",
      "C:\\Users\\Kaustubh\\Anaconda3\\lib\\site-packages\\sklearn\\linear_model\\coordinate_descent.py:462: ConvergenceWarning: Objective did not converge. You might want to increase the number of iterations. Duality gap: 5042.1659104715145, tolerance: 52.66788154290611\n",
      "  coef_, l1_reg, l2_reg, X, y, max_iter, tol, rng, random)\n",
      "C:\\Users\\Kaustubh\\Anaconda3\\lib\\site-packages\\sklearn\\linear_model\\coordinate_descent.py:462: ConvergenceWarning: Objective did not converge. You might want to increase the number of iterations. Duality gap: 6089.702944660599, tolerance: 50.69826936834604\n",
      "  coef_, l1_reg, l2_reg, X, y, max_iter, tol, rng, random)\n",
      "C:\\Users\\Kaustubh\\Anaconda3\\lib\\site-packages\\sklearn\\linear_model\\coordinate_descent.py:462: ConvergenceWarning: Objective did not converge. You might want to increase the number of iterations. Duality gap: 6232.843525021974, tolerance: 46.06957841820953\n",
      "  coef_, l1_reg, l2_reg, X, y, max_iter, tol, rng, random)\n",
      "C:\\Users\\Kaustubh\\Anaconda3\\lib\\site-packages\\sklearn\\linear_model\\coordinate_descent.py:462: ConvergenceWarning: Objective did not converge. You might want to increase the number of iterations. Duality gap: 7777.35427012415, tolerance: 52.66788154290611\n",
      "  coef_, l1_reg, l2_reg, X, y, max_iter, tol, rng, random)\n",
      "C:\\Users\\Kaustubh\\Anaconda3\\lib\\site-packages\\sklearn\\linear_model\\coordinate_descent.py:462: ConvergenceWarning: Objective did not converge. You might want to increase the number of iterations. Duality gap: 5929.24094440124, tolerance: 48.57614199064702\n",
      "  coef_, l1_reg, l2_reg, X, y, max_iter, tol, rng, random)\n",
      "C:\\Users\\Kaustubh\\Anaconda3\\lib\\site-packages\\sklearn\\linear_model\\coordinate_descent.py:462: ConvergenceWarning: Objective did not converge. You might want to increase the number of iterations. Duality gap: 3089.0062858133824, tolerance: 48.57614199064702\n",
      "  coef_, l1_reg, l2_reg, X, y, max_iter, tol, rng, random)\n",
      "C:\\Users\\Kaustubh\\Anaconda3\\lib\\site-packages\\sklearn\\linear_model\\coordinate_descent.py:462: ConvergenceWarning: Objective did not converge. You might want to increase the number of iterations. Duality gap: 4749.942552019562, tolerance: 52.66788154290611\n",
      "  coef_, l1_reg, l2_reg, X, y, max_iter, tol, rng, random)\n",
      "C:\\Users\\Kaustubh\\Anaconda3\\lib\\site-packages\\sklearn\\linear_model\\coordinate_descent.py:462: ConvergenceWarning: Objective did not converge. You might want to increase the number of iterations. Duality gap: 4135.142906043417, tolerance: 50.43552332371034\n",
      "  coef_, l1_reg, l2_reg, X, y, max_iter, tol, rng, random)\n",
      "C:\\Users\\Kaustubh\\Anaconda3\\lib\\site-packages\\sklearn\\linear_model\\coordinate_descent.py:462: ConvergenceWarning: Objective did not converge. You might want to increase the number of iterations. Duality gap: 6420.62098837512, tolerance: 50.69826936834604\n",
      "  coef_, l1_reg, l2_reg, X, y, max_iter, tol, rng, random)\n",
      "C:\\Users\\Kaustubh\\Anaconda3\\lib\\site-packages\\sklearn\\linear_model\\coordinate_descent.py:462: ConvergenceWarning: Objective did not converge. You might want to increase the number of iterations. Duality gap: 6163.172617724962, tolerance: 46.06957841820953\n",
      "  coef_, l1_reg, l2_reg, X, y, max_iter, tol, rng, random)\n",
      "C:\\Users\\Kaustubh\\Anaconda3\\lib\\site-packages\\sklearn\\linear_model\\coordinate_descent.py:462: ConvergenceWarning: Objective did not converge. You might want to increase the number of iterations. Duality gap: 3780.4935214168145, tolerance: 48.57614199064702\n",
      "  coef_, l1_reg, l2_reg, X, y, max_iter, tol, rng, random)\n",
      "C:\\Users\\Kaustubh\\Anaconda3\\lib\\site-packages\\sklearn\\linear_model\\coordinate_descent.py:462: ConvergenceWarning: Objective did not converge. You might want to increase the number of iterations. Duality gap: 6085.322018450646, tolerance: 52.66788154290611\n",
      "  coef_, l1_reg, l2_reg, X, y, max_iter, tol, rng, random)\n",
      "C:\\Users\\Kaustubh\\Anaconda3\\lib\\site-packages\\sklearn\\linear_model\\coordinate_descent.py:462: ConvergenceWarning: Objective did not converge. You might want to increase the number of iterations. Duality gap: 4546.600150890939, tolerance: 50.43552332371034\n",
      "  coef_, l1_reg, l2_reg, X, y, max_iter, tol, rng, random)\n",
      "C:\\Users\\Kaustubh\\Anaconda3\\lib\\site-packages\\sklearn\\linear_model\\coordinate_descent.py:462: ConvergenceWarning: Objective did not converge. You might want to increase the number of iterations. Duality gap: 5848.748610502216, tolerance: 50.69826936834604\n",
      "  coef_, l1_reg, l2_reg, X, y, max_iter, tol, rng, random)\n",
      "C:\\Users\\Kaustubh\\Anaconda3\\lib\\site-packages\\sklearn\\linear_model\\coordinate_descent.py:462: ConvergenceWarning: Objective did not converge. You might want to increase the number of iterations. Duality gap: 5294.3809084058175, tolerance: 46.06957841820953\n",
      "  coef_, l1_reg, l2_reg, X, y, max_iter, tol, rng, random)\n",
      "C:\\Users\\Kaustubh\\Anaconda3\\lib\\site-packages\\sklearn\\linear_model\\coordinate_descent.py:462: ConvergenceWarning: Objective did not converge. You might want to increase the number of iterations. Duality gap: 4023.5546483369617, tolerance: 48.57614199064702\n",
      "  coef_, l1_reg, l2_reg, X, y, max_iter, tol, rng, random)\n",
      "C:\\Users\\Kaustubh\\Anaconda3\\lib\\site-packages\\sklearn\\linear_model\\coordinate_descent.py:462: ConvergenceWarning: Objective did not converge. You might want to increase the number of iterations. Duality gap: 6175.9932293246675, tolerance: 52.66788154290611\n",
      "  coef_, l1_reg, l2_reg, X, y, max_iter, tol, rng, random)\n",
      "C:\\Users\\Kaustubh\\Anaconda3\\lib\\site-packages\\sklearn\\linear_model\\coordinate_descent.py:462: ConvergenceWarning: Objective did not converge. You might want to increase the number of iterations. Duality gap: 4834.532695995949, tolerance: 50.43552332371034\n",
      "  coef_, l1_reg, l2_reg, X, y, max_iter, tol, rng, random)\n",
      "C:\\Users\\Kaustubh\\Anaconda3\\lib\\site-packages\\sklearn\\linear_model\\coordinate_descent.py:462: ConvergenceWarning: Objective did not converge. You might want to increase the number of iterations. Duality gap: 5932.855026039413, tolerance: 50.69826936834604\n",
      "  coef_, l1_reg, l2_reg, X, y, max_iter, tol, rng, random)\n",
      "C:\\Users\\Kaustubh\\Anaconda3\\lib\\site-packages\\sklearn\\linear_model\\coordinate_descent.py:462: ConvergenceWarning: Objective did not converge. You might want to increase the number of iterations. Duality gap: 5072.198484830558, tolerance: 48.57614199064702\n",
      "  coef_, l1_reg, l2_reg, X, y, max_iter, tol, rng, random)\n",
      "C:\\Users\\Kaustubh\\Anaconda3\\lib\\site-packages\\sklearn\\linear_model\\coordinate_descent.py:462: ConvergenceWarning: Objective did not converge. You might want to increase the number of iterations. Duality gap: 5524.624724182395, tolerance: 46.06957841820953\n",
      "  coef_, l1_reg, l2_reg, X, y, max_iter, tol, rng, random)\n",
      "C:\\Users\\Kaustubh\\Anaconda3\\lib\\site-packages\\sklearn\\linear_model\\coordinate_descent.py:462: ConvergenceWarning: Objective did not converge. You might want to increase the number of iterations. Duality gap: 6294.980381740232, tolerance: 52.66788154290611\n",
      "  coef_, l1_reg, l2_reg, X, y, max_iter, tol, rng, random)\n",
      "C:\\Users\\Kaustubh\\Anaconda3\\lib\\site-packages\\sklearn\\linear_model\\coordinate_descent.py:462: ConvergenceWarning: Objective did not converge. You might want to increase the number of iterations. Duality gap: 5557.007555836415, tolerance: 50.43552332371034\n",
      "  coef_, l1_reg, l2_reg, X, y, max_iter, tol, rng, random)\n",
      "C:\\Users\\Kaustubh\\Anaconda3\\lib\\site-packages\\sklearn\\linear_model\\coordinate_descent.py:462: ConvergenceWarning: Objective did not converge. You might want to increase the number of iterations. Duality gap: 5779.625172364747, tolerance: 48.57614199064702\n",
      "  coef_, l1_reg, l2_reg, X, y, max_iter, tol, rng, random)\n",
      "C:\\Users\\Kaustubh\\Anaconda3\\lib\\site-packages\\sklearn\\linear_model\\coordinate_descent.py:462: ConvergenceWarning: Objective did not converge. You might want to increase the number of iterations. Duality gap: 6468.568221086318, tolerance: 50.69826936834604\n",
      "  coef_, l1_reg, l2_reg, X, y, max_iter, tol, rng, random)\n",
      "C:\\Users\\Kaustubh\\Anaconda3\\lib\\site-packages\\sklearn\\linear_model\\coordinate_descent.py:462: ConvergenceWarning: Objective did not converge. You might want to increase the number of iterations. Duality gap: 5566.440396908743, tolerance: 46.06957841820953\n",
      "  coef_, l1_reg, l2_reg, X, y, max_iter, tol, rng, random)\n",
      "C:\\Users\\Kaustubh\\Anaconda3\\lib\\site-packages\\sklearn\\linear_model\\coordinate_descent.py:462: ConvergenceWarning: Objective did not converge. You might want to increase the number of iterations. Duality gap: 5476.853510023811, tolerance: 52.66788154290611\n",
      "  coef_, l1_reg, l2_reg, X, y, max_iter, tol, rng, random)\n",
      "C:\\Users\\Kaustubh\\Anaconda3\\lib\\site-packages\\sklearn\\linear_model\\coordinate_descent.py:462: ConvergenceWarning: Objective did not converge. You might want to increase the number of iterations. Duality gap: 6076.14769629289, tolerance: 50.43552332371034\n",
      "  coef_, l1_reg, l2_reg, X, y, max_iter, tol, rng, random)\n",
      "C:\\Users\\Kaustubh\\Anaconda3\\lib\\site-packages\\sklearn\\linear_model\\coordinate_descent.py:462: ConvergenceWarning: Objective did not converge. You might want to increase the number of iterations. Duality gap: 7012.04104142504, tolerance: 48.57614199064702\n",
      "  coef_, l1_reg, l2_reg, X, y, max_iter, tol, rng, random)\n",
      "C:\\Users\\Kaustubh\\Anaconda3\\lib\\site-packages\\sklearn\\linear_model\\coordinate_descent.py:462: ConvergenceWarning: Objective did not converge. You might want to increase the number of iterations. Duality gap: 5673.531545457958, tolerance: 50.69826936834604\n",
      "  coef_, l1_reg, l2_reg, X, y, max_iter, tol, rng, random)\n",
      "C:\\Users\\Kaustubh\\Anaconda3\\lib\\site-packages\\sklearn\\linear_model\\coordinate_descent.py:462: ConvergenceWarning: Objective did not converge. You might want to increase the number of iterations. Duality gap: 4980.691040205438, tolerance: 46.06957841820953\n",
      "  coef_, l1_reg, l2_reg, X, y, max_iter, tol, rng, random)\n",
      "C:\\Users\\Kaustubh\\Anaconda3\\lib\\site-packages\\sklearn\\linear_model\\coordinate_descent.py:462: ConvergenceWarning: Objective did not converge. You might want to increase the number of iterations. Duality gap: 7366.261914444032, tolerance: 52.66788154290611\n",
      "  coef_, l1_reg, l2_reg, X, y, max_iter, tol, rng, random)\n",
      "C:\\Users\\Kaustubh\\Anaconda3\\lib\\site-packages\\sklearn\\linear_model\\coordinate_descent.py:462: ConvergenceWarning: Objective did not converge. You might want to increase the number of iterations. Duality gap: 6340.1254970546, tolerance: 50.43552332371034\n",
      "  coef_, l1_reg, l2_reg, X, y, max_iter, tol, rng, random)\n",
      "C:\\Users\\Kaustubh\\Anaconda3\\lib\\site-packages\\sklearn\\linear_model\\coordinate_descent.py:462: ConvergenceWarning: Objective did not converge. You might want to increase the number of iterations. Duality gap: 5918.885906078271, tolerance: 48.57614199064702\n",
      "  coef_, l1_reg, l2_reg, X, y, max_iter, tol, rng, random)\n",
      "C:\\Users\\Kaustubh\\Anaconda3\\lib\\site-packages\\sklearn\\linear_model\\coordinate_descent.py:462: ConvergenceWarning: Objective did not converge. You might want to increase the number of iterations. Duality gap: 6131.342869186319, tolerance: 52.66788154290611\n",
      "  coef_, l1_reg, l2_reg, X, y, max_iter, tol, rng, random)\n",
      "C:\\Users\\Kaustubh\\Anaconda3\\lib\\site-packages\\sklearn\\linear_model\\coordinate_descent.py:462: ConvergenceWarning: Objective did not converge. You might want to increase the number of iterations. Duality gap: 5460.615304386047, tolerance: 50.69826936834604\n",
      "  coef_, l1_reg, l2_reg, X, y, max_iter, tol, rng, random)\n",
      "C:\\Users\\Kaustubh\\Anaconda3\\lib\\site-packages\\sklearn\\linear_model\\coordinate_descent.py:462: ConvergenceWarning: Objective did not converge. You might want to increase the number of iterations. Duality gap: 5047.42543501726, tolerance: 46.06957841820953\n",
      "  coef_, l1_reg, l2_reg, X, y, max_iter, tol, rng, random)\n",
      "C:\\Users\\Kaustubh\\Anaconda3\\lib\\site-packages\\sklearn\\linear_model\\coordinate_descent.py:462: ConvergenceWarning: Objective did not converge. You might want to increase the number of iterations. Duality gap: 6210.0994840362455, tolerance: 50.43552332371034\n",
      "  coef_, l1_reg, l2_reg, X, y, max_iter, tol, rng, random)\n",
      "C:\\Users\\Kaustubh\\Anaconda3\\lib\\site-packages\\sklearn\\linear_model\\coordinate_descent.py:462: ConvergenceWarning: Objective did not converge. You might want to increase the number of iterations. Duality gap: 7012.897724618455, tolerance: 48.57614199064702\n",
      "  coef_, l1_reg, l2_reg, X, y, max_iter, tol, rng, random)\n",
      "C:\\Users\\Kaustubh\\Anaconda3\\lib\\site-packages\\sklearn\\linear_model\\coordinate_descent.py:462: ConvergenceWarning: Objective did not converge. You might want to increase the number of iterations. Duality gap: 5791.824540858861, tolerance: 52.66788154290611\n",
      "  coef_, l1_reg, l2_reg, X, y, max_iter, tol, rng, random)\n",
      "C:\\Users\\Kaustubh\\Anaconda3\\lib\\site-packages\\sklearn\\linear_model\\coordinate_descent.py:462: ConvergenceWarning: Objective did not converge. You might want to increase the number of iterations. Duality gap: 5427.643270078683, tolerance: 50.69826936834604\n",
      "  coef_, l1_reg, l2_reg, X, y, max_iter, tol, rng, random)\n",
      "C:\\Users\\Kaustubh\\Anaconda3\\lib\\site-packages\\sklearn\\linear_model\\coordinate_descent.py:462: ConvergenceWarning: Objective did not converge. You might want to increase the number of iterations. Duality gap: 6026.609764868699, tolerance: 48.57614199064702\n",
      "  coef_, l1_reg, l2_reg, X, y, max_iter, tol, rng, random)\n",
      "C:\\Users\\Kaustubh\\Anaconda3\\lib\\site-packages\\sklearn\\linear_model\\coordinate_descent.py:462: ConvergenceWarning: Objective did not converge. You might want to increase the number of iterations. Duality gap: 5928.323880712138, tolerance: 50.43552332371034\n",
      "  coef_, l1_reg, l2_reg, X, y, max_iter, tol, rng, random)\n",
      "C:\\Users\\Kaustubh\\Anaconda3\\lib\\site-packages\\sklearn\\linear_model\\coordinate_descent.py:462: ConvergenceWarning: Objective did not converge. You might want to increase the number of iterations. Duality gap: 5168.317501927972, tolerance: 46.06957841820953\n",
      "  coef_, l1_reg, l2_reg, X, y, max_iter, tol, rng, random)\n",
      "C:\\Users\\Kaustubh\\Anaconda3\\lib\\site-packages\\sklearn\\linear_model\\coordinate_descent.py:462: ConvergenceWarning: Objective did not converge. You might want to increase the number of iterations. Duality gap: 5529.506073412564, tolerance: 52.66788154290611\n",
      "  coef_, l1_reg, l2_reg, X, y, max_iter, tol, rng, random)\n",
      "C:\\Users\\Kaustubh\\Anaconda3\\lib\\site-packages\\sklearn\\linear_model\\coordinate_descent.py:462: ConvergenceWarning: Objective did not converge. You might want to increase the number of iterations. Duality gap: 5898.667346152732, tolerance: 48.57614199064702\n",
      "  coef_, l1_reg, l2_reg, X, y, max_iter, tol, rng, random)\n",
      "C:\\Users\\Kaustubh\\Anaconda3\\lib\\site-packages\\sklearn\\linear_model\\coordinate_descent.py:462: ConvergenceWarning: Objective did not converge. You might want to increase the number of iterations. Duality gap: 6499.928424551037, tolerance: 50.43552332371034\n",
      "  coef_, l1_reg, l2_reg, X, y, max_iter, tol, rng, random)\n",
      "C:\\Users\\Kaustubh\\Anaconda3\\lib\\site-packages\\sklearn\\linear_model\\coordinate_descent.py:462: ConvergenceWarning: Objective did not converge. You might want to increase the number of iterations. Duality gap: 5582.554186082729, tolerance: 50.69826936834604\n",
      "  coef_, l1_reg, l2_reg, X, y, max_iter, tol, rng, random)\n",
      "C:\\Users\\Kaustubh\\Anaconda3\\lib\\site-packages\\sklearn\\linear_model\\coordinate_descent.py:462: ConvergenceWarning: Objective did not converge. You might want to increase the number of iterations. Duality gap: 5731.6699827307075, tolerance: 52.66788154290611\n",
      "  coef_, l1_reg, l2_reg, X, y, max_iter, tol, rng, random)\n",
      "C:\\Users\\Kaustubh\\Anaconda3\\lib\\site-packages\\sklearn\\linear_model\\coordinate_descent.py:462: ConvergenceWarning: Objective did not converge. You might want to increase the number of iterations. Duality gap: 5215.009823210571, tolerance: 48.57614199064702\n",
      "  coef_, l1_reg, l2_reg, X, y, max_iter, tol, rng, random)\n",
      "C:\\Users\\Kaustubh\\Anaconda3\\lib\\site-packages\\sklearn\\linear_model\\coordinate_descent.py:462: ConvergenceWarning: Objective did not converge. You might want to increase the number of iterations. Duality gap: 4516.580803971541, tolerance: 46.06957841820953\n",
      "  coef_, l1_reg, l2_reg, X, y, max_iter, tol, rng, random)\n",
      "C:\\Users\\Kaustubh\\Anaconda3\\lib\\site-packages\\sklearn\\linear_model\\coordinate_descent.py:462: ConvergenceWarning: Objective did not converge. You might want to increase the number of iterations. Duality gap: 6557.543691408237, tolerance: 50.43552332371034\n",
      "  coef_, l1_reg, l2_reg, X, y, max_iter, tol, rng, random)\n",
      "C:\\Users\\Kaustubh\\Anaconda3\\lib\\site-packages\\sklearn\\linear_model\\coordinate_descent.py:462: ConvergenceWarning: Objective did not converge. You might want to increase the number of iterations. Duality gap: 4990.228080194847, tolerance: 50.69826936834604\n",
      "  coef_, l1_reg, l2_reg, X, y, max_iter, tol, rng, random)\n",
      "C:\\Users\\Kaustubh\\Anaconda3\\lib\\site-packages\\sklearn\\linear_model\\coordinate_descent.py:462: ConvergenceWarning: Objective did not converge. You might want to increase the number of iterations. Duality gap: 4300.624258659952, tolerance: 48.57614199064702\n",
      "  coef_, l1_reg, l2_reg, X, y, max_iter, tol, rng, random)\n",
      "C:\\Users\\Kaustubh\\Anaconda3\\lib\\site-packages\\sklearn\\linear_model\\coordinate_descent.py:462: ConvergenceWarning: Objective did not converge. You might want to increase the number of iterations. Duality gap: 6114.942771038579, tolerance: 52.66788154290611\n",
      "  coef_, l1_reg, l2_reg, X, y, max_iter, tol, rng, random)\n",
      "C:\\Users\\Kaustubh\\Anaconda3\\lib\\site-packages\\sklearn\\linear_model\\coordinate_descent.py:462: ConvergenceWarning: Objective did not converge. You might want to increase the number of iterations. Duality gap: 5048.337809462817, tolerance: 50.43552332371034\n",
      "  coef_, l1_reg, l2_reg, X, y, max_iter, tol, rng, random)\n",
      "C:\\Users\\Kaustubh\\Anaconda3\\lib\\site-packages\\sklearn\\linear_model\\coordinate_descent.py:462: ConvergenceWarning: Objective did not converge. You might want to increase the number of iterations. Duality gap: 4570.4831704306935, tolerance: 46.06957841820953\n",
      "  coef_, l1_reg, l2_reg, X, y, max_iter, tol, rng, random)\n",
      "C:\\Users\\Kaustubh\\Anaconda3\\lib\\site-packages\\sklearn\\linear_model\\coordinate_descent.py:462: ConvergenceWarning: Objective did not converge. You might want to increase the number of iterations. Duality gap: 4179.149647998044, tolerance: 48.57614199064702\n",
      "  coef_, l1_reg, l2_reg, X, y, max_iter, tol, rng, random)\n",
      "C:\\Users\\Kaustubh\\Anaconda3\\lib\\site-packages\\sklearn\\linear_model\\coordinate_descent.py:462: ConvergenceWarning: Objective did not converge. You might want to increase the number of iterations. Duality gap: 5472.995609264677, tolerance: 52.66788154290611\n",
      "  coef_, l1_reg, l2_reg, X, y, max_iter, tol, rng, random)\n",
      "C:\\Users\\Kaustubh\\Anaconda3\\lib\\site-packages\\sklearn\\linear_model\\coordinate_descent.py:462: ConvergenceWarning: Objective did not converge. You might want to increase the number of iterations. Duality gap: 4293.31351020221, tolerance: 50.69826936834604\n",
      "  coef_, l1_reg, l2_reg, X, y, max_iter, tol, rng, random)\n",
      "C:\\Users\\Kaustubh\\Anaconda3\\lib\\site-packages\\sklearn\\linear_model\\coordinate_descent.py:462: ConvergenceWarning: Objective did not converge. You might want to increase the number of iterations. Duality gap: 5148.278911166445, tolerance: 50.43552332371034\n",
      "  coef_, l1_reg, l2_reg, X, y, max_iter, tol, rng, random)\n",
      "C:\\Users\\Kaustubh\\Anaconda3\\lib\\site-packages\\sklearn\\linear_model\\coordinate_descent.py:462: ConvergenceWarning: Objective did not converge. You might want to increase the number of iterations. Duality gap: 3873.778395851184, tolerance: 48.57614199064702\n",
      "  coef_, l1_reg, l2_reg, X, y, max_iter, tol, rng, random)\n",
      "C:\\Users\\Kaustubh\\Anaconda3\\lib\\site-packages\\sklearn\\linear_model\\coordinate_descent.py:462: ConvergenceWarning: Objective did not converge. You might want to increase the number of iterations. Duality gap: 5836.565112758405, tolerance: 52.66788154290611\n",
      "  coef_, l1_reg, l2_reg, X, y, max_iter, tol, rng, random)\n",
      "C:\\Users\\Kaustubh\\Anaconda3\\lib\\site-packages\\sklearn\\linear_model\\coordinate_descent.py:462: ConvergenceWarning: Objective did not converge. You might want to increase the number of iterations. Duality gap: 5308.6930205638955, tolerance: 50.43552332371034\n",
      "  coef_, l1_reg, l2_reg, X, y, max_iter, tol, rng, random)\n",
      "C:\\Users\\Kaustubh\\Anaconda3\\lib\\site-packages\\sklearn\\linear_model\\coordinate_descent.py:462: ConvergenceWarning: Objective did not converge. You might want to increase the number of iterations. Duality gap: 3652.664578210204, tolerance: 48.57614199064702\n",
      "  coef_, l1_reg, l2_reg, X, y, max_iter, tol, rng, random)\n",
      "C:\\Users\\Kaustubh\\Anaconda3\\lib\\site-packages\\sklearn\\linear_model\\coordinate_descent.py:462: ConvergenceWarning: Objective did not converge. You might want to increase the number of iterations. Duality gap: 4981.896704883468, tolerance: 52.66788154290611\n",
      "  coef_, l1_reg, l2_reg, X, y, max_iter, tol, rng, random)\n",
      "C:\\Users\\Kaustubh\\Anaconda3\\lib\\site-packages\\sklearn\\linear_model\\coordinate_descent.py:462: ConvergenceWarning: Objective did not converge. You might want to increase the number of iterations. Duality gap: 5243.5466717255, tolerance: 50.43552332371034\n",
      "  coef_, l1_reg, l2_reg, X, y, max_iter, tol, rng, random)\n",
      "C:\\Users\\Kaustubh\\Anaconda3\\lib\\site-packages\\sklearn\\linear_model\\coordinate_descent.py:462: ConvergenceWarning: Objective did not converge. You might want to increase the number of iterations. Duality gap: 3249.613736244156, tolerance: 48.57614199064702\n",
      "  coef_, l1_reg, l2_reg, X, y, max_iter, tol, rng, random)\n",
      "C:\\Users\\Kaustubh\\Anaconda3\\lib\\site-packages\\sklearn\\linear_model\\coordinate_descent.py:462: ConvergenceWarning: Objective did not converge. You might want to increase the number of iterations. Duality gap: 5099.44809974064, tolerance: 52.66788154290611\n",
      "  coef_, l1_reg, l2_reg, X, y, max_iter, tol, rng, random)\n",
      "C:\\Users\\Kaustubh\\Anaconda3\\lib\\site-packages\\sklearn\\linear_model\\coordinate_descent.py:462: ConvergenceWarning: Objective did not converge. You might want to increase the number of iterations. Duality gap: 4474.979871144007, tolerance: 50.43552332371034\n",
      "  coef_, l1_reg, l2_reg, X, y, max_iter, tol, rng, random)\n",
      "C:\\Users\\Kaustubh\\Anaconda3\\lib\\site-packages\\sklearn\\linear_model\\coordinate_descent.py:462: ConvergenceWarning: Objective did not converge. You might want to increase the number of iterations. Duality gap: 3031.000043518393, tolerance: 48.57614199064702\n",
      "  coef_, l1_reg, l2_reg, X, y, max_iter, tol, rng, random)\n",
      "C:\\Users\\Kaustubh\\Anaconda3\\lib\\site-packages\\sklearn\\linear_model\\coordinate_descent.py:462: ConvergenceWarning: Objective did not converge. You might want to increase the number of iterations. Duality gap: 4642.611342971519, tolerance: 50.43552332371034\n",
      "  coef_, l1_reg, l2_reg, X, y, max_iter, tol, rng, random)\n"
     ]
    },
    {
     "data": {
      "text/plain": [
       "MultiTaskElasticNetCV(alphas=None, copy_X=True, cv=5, eps=0.0001,\n",
       "                      fit_intercept=True, l1_ratio=[0.1, 0.5, 0.75, 0.95, 1],\n",
       "                      max_iter=500, n_alphas=50, n_jobs=-1, normalize=True,\n",
       "                      random_state=42, selection='random', tol=0.0001,\n",
       "                      verbose=0)"
      ]
     },
     "execution_count": 126,
     "metadata": {},
     "output_type": "execute_result"
    }
   ],
   "source": [
    "en_final.fit(model_overall_X, model_overall_Y)"
   ]
  },
  {
   "cell_type": "code",
   "execution_count": 127,
   "metadata": {},
   "outputs": [],
   "source": [
    "en_final_pickle_filename = 'SaveFiles/elastic_net_overall_model_final.pkl'"
   ]
  },
  {
   "cell_type": "code",
   "execution_count": 128,
   "metadata": {},
   "outputs": [],
   "source": [
    "with open(en_final_pickle_filename, 'wb') as file:\n",
    "    pickle.dump(en_final, file)"
   ]
  },
  {
   "cell_type": "code",
   "execution_count": 49,
   "metadata": {},
   "outputs": [],
   "source": [
    "with open(en_final_pickle_filename, 'rb') as file:\n",
    "    en_final = pickle.load(file)"
   ]
  },
  {
   "cell_type": "code",
   "execution_count": 129,
   "metadata": {},
   "outputs": [],
   "source": [
    "test_X = test.iloc[:,1:]"
   ]
  },
  {
   "cell_type": "code",
   "execution_count": 50,
   "metadata": {},
   "outputs": [],
   "source": [
    "test_Y_predict_en_overall_final = en_final.predict(test_X)"
   ]
  },
  {
   "cell_type": "code",
   "execution_count": 51,
   "metadata": {},
   "outputs": [
    {
     "name": "stderr",
     "output_type": "stream",
     "text": [
      "C:\\Work\\Projects\\KaggleProjects\\FacialKeypointsDetection\\utils.py:20: SettingWithCopyWarning: \n",
      "A value is trying to be set on a copy of a slice from a DataFrame\n",
      "\n",
      "See the caveats in the documentation: http://pandas.pydata.org/pandas-docs/stable/user_guide/indexing.html#returning-a-view-versus-a-copy\n",
      "  submission['Location'] = submission.Location.round(0)\n",
      "C:\\Work\\Projects\\KaggleProjects\\FacialKeypointsDetection\\utils.py:21: SettingWithCopyWarning: \n",
      "A value is trying to be set on a copy of a slice from a DataFrame\n",
      "\n",
      "See the caveats in the documentation: http://pandas.pydata.org/pandas-docs/stable/user_guide/indexing.html#returning-a-view-versus-a-copy\n",
      "  submission['Location'][submission.Location > 96] = 96\n"
     ]
    }
   ],
   "source": [
    "en_overall_submission = prediction_to_submission(test_Y_predict_en_overall_final, model_Y.columns, test['ImageId'])"
   ]
  },
  {
   "cell_type": "code",
   "execution_count": null,
   "metadata": {},
   "outputs": [],
   "source": []
  },
  {
   "cell_type": "code",
   "execution_count": null,
   "metadata": {},
   "outputs": [],
   "source": []
  },
  {
   "cell_type": "code",
   "execution_count": 25,
   "metadata": {},
   "outputs": [],
   "source": [
    "id_lookup_table = pd.read_csv('Data/IdLookupTable.csv')"
   ]
  },
  {
   "cell_type": "code",
   "execution_count": 26,
   "metadata": {},
   "outputs": [
    {
     "data": {
      "text/html": [
       "<div>\n",
       "<style scoped>\n",
       "    .dataframe tbody tr th:only-of-type {\n",
       "        vertical-align: middle;\n",
       "    }\n",
       "\n",
       "    .dataframe tbody tr th {\n",
       "        vertical-align: top;\n",
       "    }\n",
       "\n",
       "    .dataframe thead th {\n",
       "        text-align: right;\n",
       "    }\n",
       "</style>\n",
       "<table border=\"1\" class=\"dataframe\">\n",
       "  <thead>\n",
       "    <tr style=\"text-align: right;\">\n",
       "      <th></th>\n",
       "      <th>RowId</th>\n",
       "      <th>ImageId</th>\n",
       "      <th>FeatureName</th>\n",
       "      <th>Location</th>\n",
       "    </tr>\n",
       "  </thead>\n",
       "  <tbody>\n",
       "    <tr>\n",
       "      <td>0</td>\n",
       "      <td>1</td>\n",
       "      <td>1</td>\n",
       "      <td>left_eye_center_x</td>\n",
       "      <td>NaN</td>\n",
       "    </tr>\n",
       "    <tr>\n",
       "      <td>1</td>\n",
       "      <td>2</td>\n",
       "      <td>1</td>\n",
       "      <td>left_eye_center_y</td>\n",
       "      <td>NaN</td>\n",
       "    </tr>\n",
       "    <tr>\n",
       "      <td>2</td>\n",
       "      <td>3</td>\n",
       "      <td>1</td>\n",
       "      <td>right_eye_center_x</td>\n",
       "      <td>NaN</td>\n",
       "    </tr>\n",
       "    <tr>\n",
       "      <td>3</td>\n",
       "      <td>4</td>\n",
       "      <td>1</td>\n",
       "      <td>right_eye_center_y</td>\n",
       "      <td>NaN</td>\n",
       "    </tr>\n",
       "    <tr>\n",
       "      <td>4</td>\n",
       "      <td>5</td>\n",
       "      <td>1</td>\n",
       "      <td>left_eye_inner_corner_x</td>\n",
       "      <td>NaN</td>\n",
       "    </tr>\n",
       "  </tbody>\n",
       "</table>\n",
       "</div>"
      ],
      "text/plain": [
       "   RowId  ImageId              FeatureName  Location\n",
       "0      1        1        left_eye_center_x       NaN\n",
       "1      2        1        left_eye_center_y       NaN\n",
       "2      3        1       right_eye_center_x       NaN\n",
       "3      4        1       right_eye_center_y       NaN\n",
       "4      5        1  left_eye_inner_corner_x       NaN"
      ]
     },
     "execution_count": 26,
     "metadata": {},
     "output_type": "execute_result"
    }
   ],
   "source": [
    "id_lookup_table.head()"
   ]
  },
  {
   "cell_type": "code",
   "execution_count": 27,
   "metadata": {},
   "outputs": [],
   "source": [
    "features_count = id_lookup_table.groupby('ImageId').agg(features=('ImageId','count'))\n",
    "features_count.reset_index(inplace=True)"
   ]
  },
  {
   "cell_type": "code",
   "execution_count": 28,
   "metadata": {},
   "outputs": [
    {
     "data": {
      "text/plain": [
       "8     1190\n",
       "30     556\n",
       "28      18\n",
       "26       9\n",
       "24       3\n",
       "22       2\n",
       "20       2\n",
       "6        2\n",
       "18       1\n",
       "Name: features, dtype: int64"
      ]
     },
     "execution_count": 28,
     "metadata": {},
     "output_type": "execute_result"
    }
   ],
   "source": [
    "features_count.features.value_counts()"
   ]
  },
  {
   "cell_type": "code",
   "execution_count": 30,
   "metadata": {},
   "outputs": [],
   "source": [
    "model_overall_test_ids = features_count[features_count.features <= 8].ImageId"
   ]
  },
  {
   "cell_type": "code",
   "execution_count": 32,
   "metadata": {},
   "outputs": [],
   "source": [
    "test_overall_X = test[test.ImageId.isin(model_overall_test_ids)]"
   ]
  },
  {
   "cell_type": "code",
   "execution_count": 33,
   "metadata": {},
   "outputs": [],
   "source": [
    "test_overall_X = test_overall_X.iloc[:,1:]"
   ]
  },
  {
   "cell_type": "code",
   "execution_count": 34,
   "metadata": {},
   "outputs": [],
   "source": [
    "test_Y_overall_predict = lm_overall.predict(test_overall_X)"
   ]
  },
  {
   "cell_type": "code",
   "execution_count": null,
   "metadata": {},
   "outputs": [],
   "source": []
  },
  {
   "cell_type": "code",
   "execution_count": 36,
   "metadata": {},
   "outputs": [
    {
     "data": {
      "text/html": [
       "<div>\n",
       "<style scoped>\n",
       "    .dataframe tbody tr th:only-of-type {\n",
       "        vertical-align: middle;\n",
       "    }\n",
       "\n",
       "    .dataframe tbody tr th {\n",
       "        vertical-align: top;\n",
       "    }\n",
       "\n",
       "    .dataframe thead th {\n",
       "        text-align: right;\n",
       "    }\n",
       "</style>\n",
       "<table border=\"1\" class=\"dataframe\">\n",
       "  <thead>\n",
       "    <tr style=\"text-align: right;\">\n",
       "      <th></th>\n",
       "      <th>pixel_0</th>\n",
       "      <th>pixel_1</th>\n",
       "      <th>pixel_2</th>\n",
       "      <th>pixel_3</th>\n",
       "      <th>pixel_4</th>\n",
       "      <th>pixel_5</th>\n",
       "      <th>pixel_6</th>\n",
       "      <th>pixel_7</th>\n",
       "      <th>pixel_8</th>\n",
       "      <th>pixel_9</th>\n",
       "      <th>...</th>\n",
       "      <th>pixel_9206</th>\n",
       "      <th>pixel_9207</th>\n",
       "      <th>pixel_9208</th>\n",
       "      <th>pixel_9209</th>\n",
       "      <th>pixel_9210</th>\n",
       "      <th>pixel_9211</th>\n",
       "      <th>pixel_9212</th>\n",
       "      <th>pixel_9213</th>\n",
       "      <th>pixel_9214</th>\n",
       "      <th>pixel_9215</th>\n",
       "    </tr>\n",
       "  </thead>\n",
       "  <tbody>\n",
       "    <tr>\n",
       "      <td>591</td>\n",
       "      <td>122</td>\n",
       "      <td>117</td>\n",
       "      <td>118</td>\n",
       "      <td>118</td>\n",
       "      <td>107</td>\n",
       "      <td>74</td>\n",
       "      <td>64</td>\n",
       "      <td>62</td>\n",
       "      <td>63</td>\n",
       "      <td>61</td>\n",
       "      <td>...</td>\n",
       "      <td>99</td>\n",
       "      <td>94</td>\n",
       "      <td>96</td>\n",
       "      <td>104</td>\n",
       "      <td>111</td>\n",
       "      <td>112</td>\n",
       "      <td>114</td>\n",
       "      <td>121</td>\n",
       "      <td>128</td>\n",
       "      <td>130</td>\n",
       "    </tr>\n",
       "    <tr>\n",
       "      <td>592</td>\n",
       "      <td>65</td>\n",
       "      <td>84</td>\n",
       "      <td>67</td>\n",
       "      <td>61</td>\n",
       "      <td>79</td>\n",
       "      <td>96</td>\n",
       "      <td>72</td>\n",
       "      <td>15</td>\n",
       "      <td>24</td>\n",
       "      <td>78</td>\n",
       "      <td>...</td>\n",
       "      <td>2</td>\n",
       "      <td>2</td>\n",
       "      <td>2</td>\n",
       "      <td>2</td>\n",
       "      <td>2</td>\n",
       "      <td>2</td>\n",
       "      <td>1</td>\n",
       "      <td>0</td>\n",
       "      <td>0</td>\n",
       "      <td>1</td>\n",
       "    </tr>\n",
       "    <tr>\n",
       "      <td>593</td>\n",
       "      <td>58</td>\n",
       "      <td>66</td>\n",
       "      <td>73</td>\n",
       "      <td>56</td>\n",
       "      <td>50</td>\n",
       "      <td>47</td>\n",
       "      <td>36</td>\n",
       "      <td>33</td>\n",
       "      <td>44</td>\n",
       "      <td>37</td>\n",
       "      <td>...</td>\n",
       "      <td>14</td>\n",
       "      <td>21</td>\n",
       "      <td>24</td>\n",
       "      <td>22</td>\n",
       "      <td>23</td>\n",
       "      <td>22</td>\n",
       "      <td>21</td>\n",
       "      <td>29</td>\n",
       "      <td>35</td>\n",
       "      <td>38</td>\n",
       "    </tr>\n",
       "    <tr>\n",
       "      <td>594</td>\n",
       "      <td>39</td>\n",
       "      <td>26</td>\n",
       "      <td>20</td>\n",
       "      <td>23</td>\n",
       "      <td>26</td>\n",
       "      <td>30</td>\n",
       "      <td>35</td>\n",
       "      <td>38</td>\n",
       "      <td>38</td>\n",
       "      <td>31</td>\n",
       "      <td>...</td>\n",
       "      <td>63</td>\n",
       "      <td>67</td>\n",
       "      <td>71</td>\n",
       "      <td>71</td>\n",
       "      <td>71</td>\n",
       "      <td>70</td>\n",
       "      <td>67</td>\n",
       "      <td>63</td>\n",
       "      <td>58</td>\n",
       "      <td>53</td>\n",
       "    </tr>\n",
       "    <tr>\n",
       "      <td>595</td>\n",
       "      <td>146</td>\n",
       "      <td>138</td>\n",
       "      <td>124</td>\n",
       "      <td>135</td>\n",
       "      <td>150</td>\n",
       "      <td>143</td>\n",
       "      <td>139</td>\n",
       "      <td>139</td>\n",
       "      <td>141</td>\n",
       "      <td>146</td>\n",
       "      <td>...</td>\n",
       "      <td>164</td>\n",
       "      <td>177</td>\n",
       "      <td>180</td>\n",
       "      <td>174</td>\n",
       "      <td>176</td>\n",
       "      <td>183</td>\n",
       "      <td>176</td>\n",
       "      <td>171</td>\n",
       "      <td>175</td>\n",
       "      <td>178</td>\n",
       "    </tr>\n",
       "    <tr>\n",
       "      <td>...</td>\n",
       "      <td>...</td>\n",
       "      <td>...</td>\n",
       "      <td>...</td>\n",
       "      <td>...</td>\n",
       "      <td>...</td>\n",
       "      <td>...</td>\n",
       "      <td>...</td>\n",
       "      <td>...</td>\n",
       "      <td>...</td>\n",
       "      <td>...</td>\n",
       "      <td>...</td>\n",
       "      <td>...</td>\n",
       "      <td>...</td>\n",
       "      <td>...</td>\n",
       "      <td>...</td>\n",
       "      <td>...</td>\n",
       "      <td>...</td>\n",
       "      <td>...</td>\n",
       "      <td>...</td>\n",
       "      <td>...</td>\n",
       "      <td>...</td>\n",
       "    </tr>\n",
       "    <tr>\n",
       "      <td>1778</td>\n",
       "      <td>101</td>\n",
       "      <td>101</td>\n",
       "      <td>101</td>\n",
       "      <td>100</td>\n",
       "      <td>100</td>\n",
       "      <td>97</td>\n",
       "      <td>97</td>\n",
       "      <td>98</td>\n",
       "      <td>102</td>\n",
       "      <td>149</td>\n",
       "      <td>...</td>\n",
       "      <td>0</td>\n",
       "      <td>0</td>\n",
       "      <td>0</td>\n",
       "      <td>0</td>\n",
       "      <td>0</td>\n",
       "      <td>0</td>\n",
       "      <td>0</td>\n",
       "      <td>0</td>\n",
       "      <td>0</td>\n",
       "      <td>0</td>\n",
       "    </tr>\n",
       "    <tr>\n",
       "      <td>1779</td>\n",
       "      <td>201</td>\n",
       "      <td>191</td>\n",
       "      <td>171</td>\n",
       "      <td>158</td>\n",
       "      <td>145</td>\n",
       "      <td>140</td>\n",
       "      <td>136</td>\n",
       "      <td>130</td>\n",
       "      <td>123</td>\n",
       "      <td>115</td>\n",
       "      <td>...</td>\n",
       "      <td>164</td>\n",
       "      <td>184</td>\n",
       "      <td>210</td>\n",
       "      <td>233</td>\n",
       "      <td>221</td>\n",
       "      <td>211</td>\n",
       "      <td>207</td>\n",
       "      <td>205</td>\n",
       "      <td>210</td>\n",
       "      <td>213</td>\n",
       "    </tr>\n",
       "    <tr>\n",
       "      <td>1780</td>\n",
       "      <td>28</td>\n",
       "      <td>28</td>\n",
       "      <td>29</td>\n",
       "      <td>30</td>\n",
       "      <td>31</td>\n",
       "      <td>32</td>\n",
       "      <td>33</td>\n",
       "      <td>34</td>\n",
       "      <td>39</td>\n",
       "      <td>44</td>\n",
       "      <td>...</td>\n",
       "      <td>79</td>\n",
       "      <td>78</td>\n",
       "      <td>77</td>\n",
       "      <td>77</td>\n",
       "      <td>77</td>\n",
       "      <td>77</td>\n",
       "      <td>77</td>\n",
       "      <td>77</td>\n",
       "      <td>78</td>\n",
       "      <td>78</td>\n",
       "    </tr>\n",
       "    <tr>\n",
       "      <td>1781</td>\n",
       "      <td>104</td>\n",
       "      <td>95</td>\n",
       "      <td>71</td>\n",
       "      <td>57</td>\n",
       "      <td>46</td>\n",
       "      <td>52</td>\n",
       "      <td>65</td>\n",
       "      <td>70</td>\n",
       "      <td>70</td>\n",
       "      <td>67</td>\n",
       "      <td>...</td>\n",
       "      <td>158</td>\n",
       "      <td>163</td>\n",
       "      <td>160</td>\n",
       "      <td>156</td>\n",
       "      <td>149</td>\n",
       "      <td>150</td>\n",
       "      <td>145</td>\n",
       "      <td>144</td>\n",
       "      <td>151</td>\n",
       "      <td>159</td>\n",
       "    </tr>\n",
       "    <tr>\n",
       "      <td>1782</td>\n",
       "      <td>63</td>\n",
       "      <td>61</td>\n",
       "      <td>64</td>\n",
       "      <td>66</td>\n",
       "      <td>66</td>\n",
       "      <td>64</td>\n",
       "      <td>65</td>\n",
       "      <td>70</td>\n",
       "      <td>69</td>\n",
       "      <td>70</td>\n",
       "      <td>...</td>\n",
       "      <td>109</td>\n",
       "      <td>107</td>\n",
       "      <td>106</td>\n",
       "      <td>110</td>\n",
       "      <td>104</td>\n",
       "      <td>89</td>\n",
       "      <td>102</td>\n",
       "      <td>113</td>\n",
       "      <td>112</td>\n",
       "      <td>113</td>\n",
       "    </tr>\n",
       "  </tbody>\n",
       "</table>\n",
       "<p>1192 rows × 9216 columns</p>\n",
       "</div>"
      ],
      "text/plain": [
       "     pixel_0 pixel_1 pixel_2 pixel_3 pixel_4 pixel_5 pixel_6 pixel_7 pixel_8  \\\n",
       "591      122     117     118     118     107      74      64      62      63   \n",
       "592       65      84      67      61      79      96      72      15      24   \n",
       "593       58      66      73      56      50      47      36      33      44   \n",
       "594       39      26      20      23      26      30      35      38      38   \n",
       "595      146     138     124     135     150     143     139     139     141   \n",
       "...      ...     ...     ...     ...     ...     ...     ...     ...     ...   \n",
       "1778     101     101     101     100     100      97      97      98     102   \n",
       "1779     201     191     171     158     145     140     136     130     123   \n",
       "1780      28      28      29      30      31      32      33      34      39   \n",
       "1781     104      95      71      57      46      52      65      70      70   \n",
       "1782      63      61      64      66      66      64      65      70      69   \n",
       "\n",
       "     pixel_9  ... pixel_9206 pixel_9207 pixel_9208 pixel_9209 pixel_9210  \\\n",
       "591       61  ...         99         94         96        104        111   \n",
       "592       78  ...          2          2          2          2          2   \n",
       "593       37  ...         14         21         24         22         23   \n",
       "594       31  ...         63         67         71         71         71   \n",
       "595      146  ...        164        177        180        174        176   \n",
       "...      ...  ...        ...        ...        ...        ...        ...   \n",
       "1778     149  ...          0          0          0          0          0   \n",
       "1779     115  ...        164        184        210        233        221   \n",
       "1780      44  ...         79         78         77         77         77   \n",
       "1781      67  ...        158        163        160        156        149   \n",
       "1782      70  ...        109        107        106        110        104   \n",
       "\n",
       "     pixel_9211 pixel_9212 pixel_9213 pixel_9214 pixel_9215  \n",
       "591         112        114        121        128        130  \n",
       "592           2          1          0          0          1  \n",
       "593          22         21         29         35         38  \n",
       "594          70         67         63         58         53  \n",
       "595         183        176        171        175        178  \n",
       "...         ...        ...        ...        ...        ...  \n",
       "1778          0          0          0          0          0  \n",
       "1779        211        207        205        210        213  \n",
       "1780         77         77         77         78         78  \n",
       "1781        150        145        144        151        159  \n",
       "1782         89        102        113        112        113  \n",
       "\n",
       "[1192 rows x 9216 columns]"
      ]
     },
     "execution_count": 36,
     "metadata": {},
     "output_type": "execute_result"
    }
   ],
   "source": [
    "test_overall_X"
   ]
  },
  {
   "cell_type": "code",
   "execution_count": 35,
   "metadata": {},
   "outputs": [
    {
     "data": {
      "text/plain": [
       "array([[ 1.18975322e+08, -6.13446496e+07, -2.05402449e+08, ...,\n",
       "         1.08635026e+08, -1.87807238e+08,  1.92880835e+08],\n",
       "       [ 6.67835055e+01,  3.61574276e+01,  3.15160303e+01, ...,\n",
       "         6.46715402e+01,  4.87745612e+01,  7.59271046e+01],\n",
       "       [-4.02428446e+08,  2.07495730e+08,  6.94764849e+08, ...,\n",
       "        -3.67452919e+08,  6.35249866e+08, -6.52410564e+08],\n",
       "       ...,\n",
       "       [-5.34792653e+07,  2.75744588e+07,  9.23283749e+07, ...,\n",
       "        -4.88313153e+07,  8.44193551e+07, -8.66997526e+07],\n",
       "       [-3.71279708e+08,  1.91435150e+08,  6.40988701e+08, ...,\n",
       "        -3.39011360e+08,  5.86080315e+08, -6.01912716e+08],\n",
       "       [ 1.22465169e+08, -6.31440499e+07, -2.11427457e+08, ...,\n",
       "         1.11821597e+08, -1.93316142e+08,  1.98538549e+08]])"
      ]
     },
     "execution_count": 35,
     "metadata": {},
     "output_type": "execute_result"
    }
   ],
   "source": [
    "test_Y_overall_predict"
   ]
  },
  {
   "cell_type": "code",
   "execution_count": null,
   "metadata": {},
   "outputs": [],
   "source": []
  },
  {
   "cell_type": "code",
   "execution_count": 52,
   "metadata": {},
   "outputs": [],
   "source": [
    "en_submission = pd.read_csv('Output/en_submission.csv', index = False)"
   ]
  }
 ],
 "metadata": {
  "kernelspec": {
   "display_name": "Python 3",
   "language": "python",
   "name": "python3"
  },
  "language_info": {
   "codemirror_mode": {
    "name": "ipython",
    "version": 3
   },
   "file_extension": ".py",
   "mimetype": "text/x-python",
   "name": "python",
   "nbconvert_exporter": "python",
   "pygments_lexer": "ipython3",
   "version": "3.7.4"
  },
  "widgets": {
   "application/vnd.jupyter.widget-state+json": {
    "state": {},
    "version_major": 2,
    "version_minor": 0
   }
  }
 },
 "nbformat": 4,
 "nbformat_minor": 4
}
