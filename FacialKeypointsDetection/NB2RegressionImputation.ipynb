{
 "cells": [
  {
   "cell_type": "code",
   "execution_count": 1,
   "metadata": {},
   "outputs": [],
   "source": [
    "import pandas as pd\n",
    "import numpy as np"
   ]
  },
  {
   "cell_type": "code",
   "execution_count": 2,
   "metadata": {},
   "outputs": [],
   "source": [
    "import sklearn"
   ]
  },
  {
   "cell_type": "code",
   "execution_count": 3,
   "metadata": {},
   "outputs": [],
   "source": [
    "%matplotlib inline\n",
    "import matplotlib.pyplot as plt\n",
    "import seaborn as sns"
   ]
  },
  {
   "cell_type": "code",
   "execution_count": 4,
   "metadata": {},
   "outputs": [],
   "source": [
    "random_state = 42"
   ]
  },
  {
   "cell_type": "code",
   "execution_count": 5,
   "metadata": {},
   "outputs": [],
   "source": [
    "train = pd.read_feather('SaveFiles/train.feather')"
   ]
  },
  {
   "cell_type": "code",
   "execution_count": 6,
   "metadata": {},
   "outputs": [],
   "source": [
    "test = pd.read_feather('SaveFiles/test.feather')"
   ]
  },
  {
   "cell_type": "code",
   "execution_count": 7,
   "metadata": {},
   "outputs": [],
   "source": [
    "train.drop('Image', inplace=True, axis=1)"
   ]
  },
  {
   "cell_type": "code",
   "execution_count": 8,
   "metadata": {},
   "outputs": [],
   "source": [
    "test.drop('Image', inplace=True, axis=1)"
   ]
  },
  {
   "cell_type": "code",
   "execution_count": 11,
   "metadata": {},
   "outputs": [],
   "source": [
    "model_data = train"
   ]
  },
  {
   "cell_type": "code",
   "execution_count": 12,
   "metadata": {},
   "outputs": [
    {
     "data": {
      "text/plain": [
       "1.0"
      ]
     },
     "execution_count": 12,
     "metadata": {},
     "output_type": "execute_result"
    }
   ],
   "source": [
    "len(model_data)/len(train)"
   ]
  },
  {
   "cell_type": "code",
   "execution_count": 13,
   "metadata": {},
   "outputs": [],
   "source": [
    "del(train)"
   ]
  },
  {
   "cell_type": "code",
   "execution_count": 14,
   "metadata": {},
   "outputs": [],
   "source": [
    "from sklearn.linear_model import LinearRegression\n",
    "mae =  sklearn.metrics.mean_absolute_error\n",
    "mse = sklearn.metrics.mean_squared_error"
   ]
  },
  {
   "cell_type": "code",
   "execution_count": 15,
   "metadata": {},
   "outputs": [],
   "source": [
    "def rmse(x):\n",
    "    return np.sqrt(mse(x))"
   ]
  },
  {
   "cell_type": "code",
   "execution_count": 16,
   "metadata": {},
   "outputs": [],
   "source": [
    "model_Y = model_data.iloc[:,0:30]\n",
    "model_X = model_data.iloc[:,30:]"
   ]
  },
  {
   "cell_type": "code",
   "execution_count": 17,
   "metadata": {},
   "outputs": [],
   "source": [
    "from sklearn.impute import SimpleImputer"
   ]
  },
  {
   "cell_type": "code",
   "execution_count": 18,
   "metadata": {},
   "outputs": [],
   "source": [
    "si = SimpleImputer()"
   ]
  },
  {
   "cell_type": "code",
   "execution_count": 20,
   "metadata": {},
   "outputs": [],
   "source": [
    "model_X_imputed = si.fit_transform(model_X)"
   ]
  },
  {
   "cell_type": "code",
   "execution_count": 21,
   "metadata": {},
   "outputs": [],
   "source": [
    "test_X = test.iloc[:,1:]"
   ]
  },
  {
   "cell_type": "code",
   "execution_count": 22,
   "metadata": {},
   "outputs": [
    {
     "data": {
      "text/html": [
       "<div>\n",
       "<style scoped>\n",
       "    .dataframe tbody tr th:only-of-type {\n",
       "        vertical-align: middle;\n",
       "    }\n",
       "\n",
       "    .dataframe tbody tr th {\n",
       "        vertical-align: top;\n",
       "    }\n",
       "\n",
       "    .dataframe thead th {\n",
       "        text-align: right;\n",
       "    }\n",
       "</style>\n",
       "<table border=\"1\" class=\"dataframe\">\n",
       "  <thead>\n",
       "    <tr style=\"text-align: right;\">\n",
       "      <th></th>\n",
       "      <th>pixel_0</th>\n",
       "      <th>pixel_1</th>\n",
       "      <th>pixel_2</th>\n",
       "      <th>pixel_3</th>\n",
       "      <th>pixel_4</th>\n",
       "      <th>pixel_5</th>\n",
       "      <th>pixel_6</th>\n",
       "      <th>pixel_7</th>\n",
       "      <th>pixel_8</th>\n",
       "      <th>pixel_9</th>\n",
       "      <th>...</th>\n",
       "      <th>pixel_9206</th>\n",
       "      <th>pixel_9207</th>\n",
       "      <th>pixel_9208</th>\n",
       "      <th>pixel_9209</th>\n",
       "      <th>pixel_9210</th>\n",
       "      <th>pixel_9211</th>\n",
       "      <th>pixel_9212</th>\n",
       "      <th>pixel_9213</th>\n",
       "      <th>pixel_9214</th>\n",
       "      <th>pixel_9215</th>\n",
       "    </tr>\n",
       "  </thead>\n",
       "  <tbody>\n",
       "    <tr>\n",
       "      <td>0</td>\n",
       "      <td>182</td>\n",
       "      <td>183</td>\n",
       "      <td>182</td>\n",
       "      <td>182</td>\n",
       "      <td>180</td>\n",
       "      <td>180</td>\n",
       "      <td>176</td>\n",
       "      <td>169</td>\n",
       "      <td>156</td>\n",
       "      <td>137</td>\n",
       "      <td>...</td>\n",
       "      <td>6</td>\n",
       "      <td>14</td>\n",
       "      <td>28</td>\n",
       "      <td>28</td>\n",
       "      <td>24</td>\n",
       "      <td>18</td>\n",
       "      <td>12</td>\n",
       "      <td>8</td>\n",
       "      <td>5</td>\n",
       "      <td>5</td>\n",
       "    </tr>\n",
       "    <tr>\n",
       "      <td>1</td>\n",
       "      <td>76</td>\n",
       "      <td>87</td>\n",
       "      <td>81</td>\n",
       "      <td>72</td>\n",
       "      <td>65</td>\n",
       "      <td>59</td>\n",
       "      <td>64</td>\n",
       "      <td>76</td>\n",
       "      <td>69</td>\n",
       "      <td>42</td>\n",
       "      <td>...</td>\n",
       "      <td>156</td>\n",
       "      <td>152</td>\n",
       "      <td>162</td>\n",
       "      <td>169</td>\n",
       "      <td>168</td>\n",
       "      <td>159</td>\n",
       "      <td>191</td>\n",
       "      <td>228</td>\n",
       "      <td>211</td>\n",
       "      <td>168</td>\n",
       "    </tr>\n",
       "    <tr>\n",
       "      <td>2</td>\n",
       "      <td>177</td>\n",
       "      <td>176</td>\n",
       "      <td>174</td>\n",
       "      <td>170</td>\n",
       "      <td>169</td>\n",
       "      <td>169</td>\n",
       "      <td>168</td>\n",
       "      <td>166</td>\n",
       "      <td>166</td>\n",
       "      <td>166</td>\n",
       "      <td>...</td>\n",
       "      <td>1</td>\n",
       "      <td>1</td>\n",
       "      <td>1</td>\n",
       "      <td>1</td>\n",
       "      <td>1</td>\n",
       "      <td>1</td>\n",
       "      <td>1</td>\n",
       "      <td>1</td>\n",
       "      <td>1</td>\n",
       "      <td>1</td>\n",
       "    </tr>\n",
       "    <tr>\n",
       "      <td>3</td>\n",
       "      <td>176</td>\n",
       "      <td>174</td>\n",
       "      <td>174</td>\n",
       "      <td>175</td>\n",
       "      <td>174</td>\n",
       "      <td>174</td>\n",
       "      <td>176</td>\n",
       "      <td>176</td>\n",
       "      <td>175</td>\n",
       "      <td>171</td>\n",
       "      <td>...</td>\n",
       "      <td>144</td>\n",
       "      <td>143</td>\n",
       "      <td>141</td>\n",
       "      <td>142</td>\n",
       "      <td>143</td>\n",
       "      <td>142</td>\n",
       "      <td>142</td>\n",
       "      <td>142</td>\n",
       "      <td>142</td>\n",
       "      <td>140</td>\n",
       "    </tr>\n",
       "    <tr>\n",
       "      <td>4</td>\n",
       "      <td>50</td>\n",
       "      <td>47</td>\n",
       "      <td>44</td>\n",
       "      <td>101</td>\n",
       "      <td>144</td>\n",
       "      <td>149</td>\n",
       "      <td>120</td>\n",
       "      <td>58</td>\n",
       "      <td>48</td>\n",
       "      <td>42</td>\n",
       "      <td>...</td>\n",
       "      <td>254</td>\n",
       "      <td>254</td>\n",
       "      <td>254</td>\n",
       "      <td>253</td>\n",
       "      <td>255</td>\n",
       "      <td>236</td>\n",
       "      <td>174</td>\n",
       "      <td>175</td>\n",
       "      <td>175</td>\n",
       "      <td>165</td>\n",
       "    </tr>\n",
       "  </tbody>\n",
       "</table>\n",
       "<p>5 rows × 9216 columns</p>\n",
       "</div>"
      ],
      "text/plain": [
       "  pixel_0 pixel_1 pixel_2 pixel_3 pixel_4 pixel_5 pixel_6 pixel_7 pixel_8  \\\n",
       "0     182     183     182     182     180     180     176     169     156   \n",
       "1      76      87      81      72      65      59      64      76      69   \n",
       "2     177     176     174     170     169     169     168     166     166   \n",
       "3     176     174     174     175     174     174     176     176     175   \n",
       "4      50      47      44     101     144     149     120      58      48   \n",
       "\n",
       "  pixel_9  ... pixel_9206 pixel_9207 pixel_9208 pixel_9209 pixel_9210  \\\n",
       "0     137  ...          6         14         28         28         24   \n",
       "1      42  ...        156        152        162        169        168   \n",
       "2     166  ...          1          1          1          1          1   \n",
       "3     171  ...        144        143        141        142        143   \n",
       "4      42  ...        254        254        254        253        255   \n",
       "\n",
       "  pixel_9211 pixel_9212 pixel_9213 pixel_9214 pixel_9215  \n",
       "0         18         12          8          5          5  \n",
       "1        159        191        228        211        168  \n",
       "2          1          1          1          1          1  \n",
       "3        142        142        142        142        140  \n",
       "4        236        174        175        175        165  \n",
       "\n",
       "[5 rows x 9216 columns]"
      ]
     },
     "execution_count": 22,
     "metadata": {},
     "output_type": "execute_result"
    }
   ],
   "source": [
    "test_X.head()"
   ]
  },
  {
   "cell_type": "code",
   "execution_count": 23,
   "metadata": {},
   "outputs": [],
   "source": [
    "train_test_split= sklearn.model_selection.train_test_split"
   ]
  },
  {
   "cell_type": "code",
   "execution_count": 26,
   "metadata": {},
   "outputs": [],
   "source": [
    "model_Y_train, model_Y_val, model_X_train, model_X_val = train_test_split(\n",
    "    model_Y, model_X_imputed, test_size = 0.2, random_state= random_state)"
   ]
  },
  {
   "cell_type": "code",
   "execution_count": 27,
   "metadata": {},
   "outputs": [
    {
     "data": {
      "text/html": [
       "<div>\n",
       "<style scoped>\n",
       "    .dataframe tbody tr th:only-of-type {\n",
       "        vertical-align: middle;\n",
       "    }\n",
       "\n",
       "    .dataframe tbody tr th {\n",
       "        vertical-align: top;\n",
       "    }\n",
       "\n",
       "    .dataframe thead th {\n",
       "        text-align: right;\n",
       "    }\n",
       "</style>\n",
       "<table border=\"1\" class=\"dataframe\">\n",
       "  <thead>\n",
       "    <tr style=\"text-align: right;\">\n",
       "      <th></th>\n",
       "      <th>left_eye_center_x</th>\n",
       "      <th>left_eye_center_y</th>\n",
       "      <th>right_eye_center_x</th>\n",
       "      <th>right_eye_center_y</th>\n",
       "      <th>left_eye_inner_corner_x</th>\n",
       "      <th>left_eye_inner_corner_y</th>\n",
       "      <th>left_eye_outer_corner_x</th>\n",
       "      <th>left_eye_outer_corner_y</th>\n",
       "      <th>right_eye_inner_corner_x</th>\n",
       "      <th>right_eye_inner_corner_y</th>\n",
       "      <th>...</th>\n",
       "      <th>nose_tip_x</th>\n",
       "      <th>nose_tip_y</th>\n",
       "      <th>mouth_left_corner_x</th>\n",
       "      <th>mouth_left_corner_y</th>\n",
       "      <th>mouth_right_corner_x</th>\n",
       "      <th>mouth_right_corner_y</th>\n",
       "      <th>mouth_center_top_lip_x</th>\n",
       "      <th>mouth_center_top_lip_y</th>\n",
       "      <th>mouth_center_bottom_lip_x</th>\n",
       "      <th>mouth_center_bottom_lip_y</th>\n",
       "    </tr>\n",
       "  </thead>\n",
       "  <tbody>\n",
       "    <tr>\n",
       "      <td>315</td>\n",
       "      <td>68.708791</td>\n",
       "      <td>40.356449</td>\n",
       "      <td>27.640813</td>\n",
       "      <td>41.962267</td>\n",
       "      <td>60.896856</td>\n",
       "      <td>41.041283</td>\n",
       "      <td>77.197861</td>\n",
       "      <td>41.503316</td>\n",
       "      <td>35.441455</td>\n",
       "      <td>42.191743</td>\n",
       "      <td>...</td>\n",
       "      <td>52.190118</td>\n",
       "      <td>59.398845</td>\n",
       "      <td>68.479316</td>\n",
       "      <td>80.736000</td>\n",
       "      <td>32.229818</td>\n",
       "      <td>83.030246</td>\n",
       "      <td>51.960642</td>\n",
       "      <td>74.541176</td>\n",
       "      <td>52.419594</td>\n",
       "      <td>88.307166</td>\n",
       "    </tr>\n",
       "    <tr>\n",
       "      <td>4561</td>\n",
       "      <td>69.587125</td>\n",
       "      <td>38.212292</td>\n",
       "      <td>30.066466</td>\n",
       "      <td>34.482861</td>\n",
       "      <td>NaN</td>\n",
       "      <td>NaN</td>\n",
       "      <td>NaN</td>\n",
       "      <td>NaN</td>\n",
       "      <td>NaN</td>\n",
       "      <td>NaN</td>\n",
       "      <td>...</td>\n",
       "      <td>49.832132</td>\n",
       "      <td>63.944922</td>\n",
       "      <td>NaN</td>\n",
       "      <td>NaN</td>\n",
       "      <td>NaN</td>\n",
       "      <td>NaN</td>\n",
       "      <td>NaN</td>\n",
       "      <td>NaN</td>\n",
       "      <td>48.340292</td>\n",
       "      <td>72.522466</td>\n",
       "    </tr>\n",
       "    <tr>\n",
       "      <td>5007</td>\n",
       "      <td>63.575314</td>\n",
       "      <td>36.237629</td>\n",
       "      <td>28.981812</td>\n",
       "      <td>39.963096</td>\n",
       "      <td>NaN</td>\n",
       "      <td>NaN</td>\n",
       "      <td>NaN</td>\n",
       "      <td>NaN</td>\n",
       "      <td>NaN</td>\n",
       "      <td>NaN</td>\n",
       "      <td>...</td>\n",
       "      <td>47.076833</td>\n",
       "      <td>60.186984</td>\n",
       "      <td>NaN</td>\n",
       "      <td>NaN</td>\n",
       "      <td>NaN</td>\n",
       "      <td>NaN</td>\n",
       "      <td>NaN</td>\n",
       "      <td>NaN</td>\n",
       "      <td>48.141257</td>\n",
       "      <td>71.895556</td>\n",
       "    </tr>\n",
       "    <tr>\n",
       "      <td>1161</td>\n",
       "      <td>65.022000</td>\n",
       "      <td>36.204060</td>\n",
       "      <td>31.236000</td>\n",
       "      <td>39.153660</td>\n",
       "      <td>58.854600</td>\n",
       "      <td>37.812960</td>\n",
       "      <td>71.725800</td>\n",
       "      <td>36.740400</td>\n",
       "      <td>38.207400</td>\n",
       "      <td>39.689940</td>\n",
       "      <td>...</td>\n",
       "      <td>51.991200</td>\n",
       "      <td>54.782400</td>\n",
       "      <td>67.167000</td>\n",
       "      <td>67.845000</td>\n",
       "      <td>35.794200</td>\n",
       "      <td>71.062800</td>\n",
       "      <td>51.882600</td>\n",
       "      <td>67.041000</td>\n",
       "      <td>51.882600</td>\n",
       "      <td>75.353400</td>\n",
       "    </tr>\n",
       "    <tr>\n",
       "      <td>2275</td>\n",
       "      <td>64.644616</td>\n",
       "      <td>34.280084</td>\n",
       "      <td>28.284307</td>\n",
       "      <td>38.586911</td>\n",
       "      <td>57.756510</td>\n",
       "      <td>36.588318</td>\n",
       "      <td>73.673751</td>\n",
       "      <td>33.584799</td>\n",
       "      <td>36.334975</td>\n",
       "      <td>39.375088</td>\n",
       "      <td>...</td>\n",
       "      <td>54.072987</td>\n",
       "      <td>60.539258</td>\n",
       "      <td>67.582186</td>\n",
       "      <td>76.578265</td>\n",
       "      <td>37.394302</td>\n",
       "      <td>80.810970</td>\n",
       "      <td>52.719413</td>\n",
       "      <td>79.736604</td>\n",
       "      <td>53.754499</td>\n",
       "      <td>80.161255</td>\n",
       "    </tr>\n",
       "  </tbody>\n",
       "</table>\n",
       "<p>5 rows × 30 columns</p>\n",
       "</div>"
      ],
      "text/plain": [
       "      left_eye_center_x  left_eye_center_y  right_eye_center_x  \\\n",
       "315           68.708791          40.356449           27.640813   \n",
       "4561          69.587125          38.212292           30.066466   \n",
       "5007          63.575314          36.237629           28.981812   \n",
       "1161          65.022000          36.204060           31.236000   \n",
       "2275          64.644616          34.280084           28.284307   \n",
       "\n",
       "      right_eye_center_y  left_eye_inner_corner_x  left_eye_inner_corner_y  \\\n",
       "315            41.962267                60.896856                41.041283   \n",
       "4561           34.482861                      NaN                      NaN   \n",
       "5007           39.963096                      NaN                      NaN   \n",
       "1161           39.153660                58.854600                37.812960   \n",
       "2275           38.586911                57.756510                36.588318   \n",
       "\n",
       "      left_eye_outer_corner_x  left_eye_outer_corner_y  \\\n",
       "315                 77.197861                41.503316   \n",
       "4561                      NaN                      NaN   \n",
       "5007                      NaN                      NaN   \n",
       "1161                71.725800                36.740400   \n",
       "2275                73.673751                33.584799   \n",
       "\n",
       "      right_eye_inner_corner_x  right_eye_inner_corner_y  ...  nose_tip_x  \\\n",
       "315                  35.441455                 42.191743  ...   52.190118   \n",
       "4561                       NaN                       NaN  ...   49.832132   \n",
       "5007                       NaN                       NaN  ...   47.076833   \n",
       "1161                 38.207400                 39.689940  ...   51.991200   \n",
       "2275                 36.334975                 39.375088  ...   54.072987   \n",
       "\n",
       "      nose_tip_y  mouth_left_corner_x  mouth_left_corner_y  \\\n",
       "315    59.398845            68.479316            80.736000   \n",
       "4561   63.944922                  NaN                  NaN   \n",
       "5007   60.186984                  NaN                  NaN   \n",
       "1161   54.782400            67.167000            67.845000   \n",
       "2275   60.539258            67.582186            76.578265   \n",
       "\n",
       "      mouth_right_corner_x  mouth_right_corner_y  mouth_center_top_lip_x  \\\n",
       "315              32.229818             83.030246               51.960642   \n",
       "4561                   NaN                   NaN                     NaN   \n",
       "5007                   NaN                   NaN                     NaN   \n",
       "1161             35.794200             71.062800               51.882600   \n",
       "2275             37.394302             80.810970               52.719413   \n",
       "\n",
       "      mouth_center_top_lip_y  mouth_center_bottom_lip_x  \\\n",
       "315                74.541176                  52.419594   \n",
       "4561                     NaN                  48.340292   \n",
       "5007                     NaN                  48.141257   \n",
       "1161               67.041000                  51.882600   \n",
       "2275               79.736604                  53.754499   \n",
       "\n",
       "      mouth_center_bottom_lip_y  \n",
       "315                   88.307166  \n",
       "4561                  72.522466  \n",
       "5007                  71.895556  \n",
       "1161                  75.353400  \n",
       "2275                  80.161255  \n",
       "\n",
       "[5 rows x 30 columns]"
      ]
     },
     "execution_count": 27,
     "metadata": {},
     "output_type": "execute_result"
    }
   ],
   "source": [
    "model_Y_train.head()"
   ]
  },
  {
   "cell_type": "code",
   "execution_count": 30,
   "metadata": {},
   "outputs": [
    {
     "data": {
      "text/plain": [
       "array([[159., 152., 148., ..., 117., 118., 119.],\n",
       "       [ 86.,  92., 101., ...,  68.,  84.,  87.],\n",
       "       [ 79.,  79.,  81., ...,  49.,  29.,  20.],\n",
       "       [239., 237., 235., ..., 108., 107., 104.],\n",
       "       [ 34.,  52.,  54., ...,  11.,  12.,  11.]])"
      ]
     },
     "execution_count": 30,
     "metadata": {},
     "output_type": "execute_result"
    }
   ],
   "source": [
    "model_X_train[0:5,:]"
   ]
  },
  {
   "cell_type": "code",
   "execution_count": 31,
   "metadata": {},
   "outputs": [],
   "source": [
    "from sklearn.model_selection import KFold"
   ]
  },
  {
   "cell_type": "raw",
   "metadata": {},
   "source": [
    "KFold?"
   ]
  },
  {
   "cell_type": "raw",
   "metadata": {},
   "source": [
    "kf = KFold(5, random_state = random_state)"
   ]
  },
  {
   "cell_type": "code",
   "execution_count": 35,
   "metadata": {},
   "outputs": [
    {
     "data": {
      "text/plain": [
       "left_eye_center_x               9\n",
       "left_eye_center_y               9\n",
       "right_eye_center_x             11\n",
       "right_eye_center_y             11\n",
       "left_eye_inner_corner_x      3847\n",
       "left_eye_inner_corner_y      3847\n",
       "left_eye_outer_corner_x      3850\n",
       "left_eye_outer_corner_y      3850\n",
       "right_eye_inner_corner_x     3847\n",
       "right_eye_inner_corner_y     3847\n",
       "right_eye_outer_corner_x     3846\n",
       "right_eye_outer_corner_y     3846\n",
       "left_eyebrow_inner_end_x     3845\n",
       "left_eyebrow_inner_end_y     3845\n",
       "left_eyebrow_outer_end_x     3880\n",
       "left_eyebrow_outer_end_y     3880\n",
       "right_eyebrow_inner_end_x    3845\n",
       "right_eyebrow_inner_end_y    3845\n",
       "right_eyebrow_outer_end_x    3871\n",
       "right_eyebrow_outer_end_y    3871\n",
       "nose_tip_x                      0\n",
       "nose_tip_y                      0\n",
       "mouth_left_corner_x          3845\n",
       "mouth_left_corner_y          3845\n",
       "mouth_right_corner_x         3844\n",
       "mouth_right_corner_y         3844\n",
       "mouth_center_top_lip_x       3842\n",
       "mouth_center_top_lip_y       3842\n",
       "mouth_center_bottom_lip_x      26\n",
       "mouth_center_bottom_lip_y      26\n",
       "dtype: int64"
      ]
     },
     "execution_count": 35,
     "metadata": {},
     "output_type": "execute_result"
    }
   ],
   "source": [
    "model_Y_train.isnull().sum()"
   ]
  },
  {
   "cell_type": "code",
   "execution_count": 37,
   "metadata": {},
   "outputs": [],
   "source": [
    "from collections import defaultdict"
   ]
  },
  {
   "cell_type": "code",
   "execution_count": 32,
   "metadata": {},
   "outputs": [],
   "source": [
    "lm = LinearRegression(normalize=False, n_jobs=-1)"
   ]
  },
  {
   "cell_type": "code",
   "execution_count": 33,
   "metadata": {},
   "outputs": [
    {
     "ename": "ValueError",
     "evalue": "Input contains NaN, infinity or a value too large for dtype('float64').",
     "output_type": "error",
     "traceback": [
      "\u001b[1;31m---------------------------------------------------------------------------\u001b[0m",
      "\u001b[1;31mValueError\u001b[0m                                Traceback (most recent call last)",
      "\u001b[1;32m<ipython-input-33-e010390eb69f>\u001b[0m in \u001b[0;36m<module>\u001b[1;34m\u001b[0m\n\u001b[1;32m----> 1\u001b[1;33m \u001b[0mlm\u001b[0m\u001b[1;33m.\u001b[0m\u001b[0mfit\u001b[0m\u001b[1;33m(\u001b[0m\u001b[0mmodel_X_train\u001b[0m\u001b[1;33m,\u001b[0m \u001b[0mmodel_Y_train\u001b[0m\u001b[1;33m)\u001b[0m\u001b[1;33m\u001b[0m\u001b[1;33m\u001b[0m\u001b[0m\n\u001b[0m",
      "\u001b[1;32m~\\AppData\\Local\\Continuum\\anaconda3\\lib\\site-packages\\sklearn\\linear_model\\base.py\u001b[0m in \u001b[0;36mfit\u001b[1;34m(self, X, y, sample_weight)\u001b[0m\n\u001b[0;32m    456\u001b[0m         \u001b[0mn_jobs_\u001b[0m \u001b[1;33m=\u001b[0m \u001b[0mself\u001b[0m\u001b[1;33m.\u001b[0m\u001b[0mn_jobs\u001b[0m\u001b[1;33m\u001b[0m\u001b[1;33m\u001b[0m\u001b[0m\n\u001b[0;32m    457\u001b[0m         X, y = check_X_y(X, y, accept_sparse=['csr', 'csc', 'coo'],\n\u001b[1;32m--> 458\u001b[1;33m                          y_numeric=True, multi_output=True)\n\u001b[0m\u001b[0;32m    459\u001b[0m \u001b[1;33m\u001b[0m\u001b[0m\n\u001b[0;32m    460\u001b[0m         \u001b[1;32mif\u001b[0m \u001b[0msample_weight\u001b[0m \u001b[1;32mis\u001b[0m \u001b[1;32mnot\u001b[0m \u001b[1;32mNone\u001b[0m \u001b[1;32mand\u001b[0m \u001b[0mnp\u001b[0m\u001b[1;33m.\u001b[0m\u001b[0matleast_1d\u001b[0m\u001b[1;33m(\u001b[0m\u001b[0msample_weight\u001b[0m\u001b[1;33m)\u001b[0m\u001b[1;33m.\u001b[0m\u001b[0mndim\u001b[0m \u001b[1;33m>\u001b[0m \u001b[1;36m1\u001b[0m\u001b[1;33m:\u001b[0m\u001b[1;33m\u001b[0m\u001b[1;33m\u001b[0m\u001b[0m\n",
      "\u001b[1;32m~\\AppData\\Local\\Continuum\\anaconda3\\lib\\site-packages\\sklearn\\utils\\validation.py\u001b[0m in \u001b[0;36mcheck_X_y\u001b[1;34m(X, y, accept_sparse, accept_large_sparse, dtype, order, copy, force_all_finite, ensure_2d, allow_nd, multi_output, ensure_min_samples, ensure_min_features, y_numeric, warn_on_dtype, estimator)\u001b[0m\n\u001b[0;32m    757\u001b[0m     \u001b[1;32mif\u001b[0m \u001b[0mmulti_output\u001b[0m\u001b[1;33m:\u001b[0m\u001b[1;33m\u001b[0m\u001b[1;33m\u001b[0m\u001b[0m\n\u001b[0;32m    758\u001b[0m         y = check_array(y, 'csr', force_all_finite=True, ensure_2d=False,\n\u001b[1;32m--> 759\u001b[1;33m                         dtype=None)\n\u001b[0m\u001b[0;32m    760\u001b[0m     \u001b[1;32melse\u001b[0m\u001b[1;33m:\u001b[0m\u001b[1;33m\u001b[0m\u001b[1;33m\u001b[0m\u001b[0m\n\u001b[0;32m    761\u001b[0m         \u001b[0my\u001b[0m \u001b[1;33m=\u001b[0m \u001b[0mcolumn_or_1d\u001b[0m\u001b[1;33m(\u001b[0m\u001b[0my\u001b[0m\u001b[1;33m,\u001b[0m \u001b[0mwarn\u001b[0m\u001b[1;33m=\u001b[0m\u001b[1;32mTrue\u001b[0m\u001b[1;33m)\u001b[0m\u001b[1;33m\u001b[0m\u001b[1;33m\u001b[0m\u001b[0m\n",
      "\u001b[1;32m~\\AppData\\Local\\Continuum\\anaconda3\\lib\\site-packages\\sklearn\\utils\\validation.py\u001b[0m in \u001b[0;36mcheck_array\u001b[1;34m(array, accept_sparse, accept_large_sparse, dtype, order, copy, force_all_finite, ensure_2d, allow_nd, ensure_min_samples, ensure_min_features, warn_on_dtype, estimator)\u001b[0m\n\u001b[0;32m    571\u001b[0m         \u001b[1;32mif\u001b[0m \u001b[0mforce_all_finite\u001b[0m\u001b[1;33m:\u001b[0m\u001b[1;33m\u001b[0m\u001b[1;33m\u001b[0m\u001b[0m\n\u001b[0;32m    572\u001b[0m             _assert_all_finite(array,\n\u001b[1;32m--> 573\u001b[1;33m                                allow_nan=force_all_finite == 'allow-nan')\n\u001b[0m\u001b[0;32m    574\u001b[0m \u001b[1;33m\u001b[0m\u001b[0m\n\u001b[0;32m    575\u001b[0m     \u001b[0mshape_repr\u001b[0m \u001b[1;33m=\u001b[0m \u001b[0m_shape_repr\u001b[0m\u001b[1;33m(\u001b[0m\u001b[0marray\u001b[0m\u001b[1;33m.\u001b[0m\u001b[0mshape\u001b[0m\u001b[1;33m)\u001b[0m\u001b[1;33m\u001b[0m\u001b[1;33m\u001b[0m\u001b[0m\n",
      "\u001b[1;32m~\\AppData\\Local\\Continuum\\anaconda3\\lib\\site-packages\\sklearn\\utils\\validation.py\u001b[0m in \u001b[0;36m_assert_all_finite\u001b[1;34m(X, allow_nan)\u001b[0m\n\u001b[0;32m     54\u001b[0m                 not allow_nan and not np.isfinite(X).all()):\n\u001b[0;32m     55\u001b[0m             \u001b[0mtype_err\u001b[0m \u001b[1;33m=\u001b[0m \u001b[1;34m'infinity'\u001b[0m \u001b[1;32mif\u001b[0m \u001b[0mallow_nan\u001b[0m \u001b[1;32melse\u001b[0m \u001b[1;34m'NaN, infinity'\u001b[0m\u001b[1;33m\u001b[0m\u001b[1;33m\u001b[0m\u001b[0m\n\u001b[1;32m---> 56\u001b[1;33m             \u001b[1;32mraise\u001b[0m \u001b[0mValueError\u001b[0m\u001b[1;33m(\u001b[0m\u001b[0mmsg_err\u001b[0m\u001b[1;33m.\u001b[0m\u001b[0mformat\u001b[0m\u001b[1;33m(\u001b[0m\u001b[0mtype_err\u001b[0m\u001b[1;33m,\u001b[0m \u001b[0mX\u001b[0m\u001b[1;33m.\u001b[0m\u001b[0mdtype\u001b[0m\u001b[1;33m)\u001b[0m\u001b[1;33m)\u001b[0m\u001b[1;33m\u001b[0m\u001b[1;33m\u001b[0m\u001b[0m\n\u001b[0m\u001b[0;32m     57\u001b[0m \u001b[1;33m\u001b[0m\u001b[0m\n\u001b[0;32m     58\u001b[0m \u001b[1;33m\u001b[0m\u001b[0m\n",
      "\u001b[1;31mValueError\u001b[0m: Input contains NaN, infinity or a value too large for dtype('float64')."
     ]
    }
   ],
   "source": [
    "lm.fit(model_X_train, model_Y_train)"
   ]
  },
  {
   "cell_type": "code",
   "execution_count": 33,
   "metadata": {},
   "outputs": [],
   "source": [
    "model_Y_train_predict = lm.predict(model_X_train)"
   ]
  },
  {
   "cell_type": "code",
   "execution_count": 37,
   "metadata": {},
   "outputs": [
    {
     "data": {
      "text/plain": [
       "(1712, 30)"
      ]
     },
     "execution_count": 37,
     "metadata": {},
     "output_type": "execute_result"
    }
   ],
   "source": [
    "model_Y_train.shape"
   ]
  },
  {
   "cell_type": "code",
   "execution_count": 36,
   "metadata": {},
   "outputs": [
    {
     "data": {
      "text/plain": [
       "(1712, 30)"
      ]
     },
     "execution_count": 36,
     "metadata": {},
     "output_type": "execute_result"
    }
   ],
   "source": [
    "model_Y_train_predict.shape"
   ]
  },
  {
   "cell_type": "code",
   "execution_count": 38,
   "metadata": {},
   "outputs": [],
   "source": [
    "model_Y_val_predict = lm.predict(model_X_val)"
   ]
  },
  {
   "cell_type": "code",
   "execution_count": 40,
   "metadata": {},
   "outputs": [
    {
     "data": {
      "text/plain": [
       "(428, 30)"
      ]
     },
     "execution_count": 40,
     "metadata": {},
     "output_type": "execute_result"
    }
   ],
   "source": [
    "model_Y_val.shape"
   ]
  },
  {
   "cell_type": "code",
   "execution_count": 39,
   "metadata": {},
   "outputs": [
    {
     "data": {
      "text/plain": [
       "(428, 30)"
      ]
     },
     "execution_count": 39,
     "metadata": {},
     "output_type": "execute_result"
    }
   ],
   "source": [
    "model_Y_val_predict.shape"
   ]
  },
  {
   "cell_type": "raw",
   "metadata": {},
   "source": [
    "mae?"
   ]
  },
  {
   "cell_type": "code",
   "execution_count": 42,
   "metadata": {},
   "outputs": [
    {
     "data": {
      "text/plain": [
       "2.7260021861833614e-14"
      ]
     },
     "execution_count": 42,
     "metadata": {},
     "output_type": "execute_result"
    }
   ],
   "source": [
    "mae(model_Y_train, model_Y_train_predict)"
   ]
  },
  {
   "cell_type": "code",
   "execution_count": 44,
   "metadata": {},
   "outputs": [
    {
     "data": {
      "text/plain": [
       "3.6908057855510356e-14"
      ]
     },
     "execution_count": 44,
     "metadata": {},
     "output_type": "execute_result"
    }
   ],
   "source": [
    "np.sqrt(mse(model_Y_train, model_Y_train_predict))"
   ]
  },
  {
   "cell_type": "code",
   "execution_count": 45,
   "metadata": {},
   "outputs": [],
   "source": [
    "lm_final = LinearRegression(normalize=False, n_jobs=-1)"
   ]
  },
  {
   "cell_type": "code",
   "execution_count": 46,
   "metadata": {},
   "outputs": [
    {
     "data": {
      "text/plain": [
       "LinearRegression(copy_X=True, fit_intercept=True, n_jobs=-1, normalize=False)"
      ]
     },
     "execution_count": 46,
     "metadata": {},
     "output_type": "execute_result"
    }
   ],
   "source": [
    "lm_final.fit(model_X, model_Y)"
   ]
  },
  {
   "cell_type": "code",
   "execution_count": 54,
   "metadata": {},
   "outputs": [],
   "source": [
    "test_Y_predict = lm_final.predict(test_X)"
   ]
  },
  {
   "cell_type": "code",
   "execution_count": 55,
   "metadata": {},
   "outputs": [
    {
     "data": {
      "text/plain": [
       "array([[63.99175363, 39.19701102, 30.87513601, ..., 65.12351023,\n",
       "        49.19032629, 83.16851057],\n",
       "       [69.89911781, 35.18488592, 26.81647512, ..., 74.19972802,\n",
       "        49.45961568, 90.86082315],\n",
       "       [64.49586366, 36.07135232, 30.26597733, ..., 70.43528704,\n",
       "        47.89848754, 87.83016112],\n",
       "       ...,\n",
       "       [67.84928811, 37.78748402, 29.50431614, ..., 74.65957758,\n",
       "        45.57032276, 82.23448828],\n",
       "       [67.54289925, 39.43006075, 32.28696685, ..., 67.20036323,\n",
       "        45.17483945, 77.65316587],\n",
       "       [66.51994172, 38.07016092, 31.37549324, ..., 72.30388083,\n",
       "        45.16816278, 82.30445053]])"
      ]
     },
     "execution_count": 55,
     "metadata": {},
     "output_type": "execute_result"
    }
   ],
   "source": [
    "test_Y_predict"
   ]
  },
  {
   "cell_type": "code",
   "execution_count": 57,
   "metadata": {},
   "outputs": [],
   "source": [
    "test_Y_predict = pd.DataFrame(test_Y_predict)"
   ]
  },
  {
   "cell_type": "code",
   "execution_count": 59,
   "metadata": {},
   "outputs": [],
   "source": [
    "test_Y_predict.columns  = model_Y.columns"
   ]
  },
  {
   "cell_type": "code",
   "execution_count": 62,
   "metadata": {},
   "outputs": [],
   "source": [
    "test_Y_predict['ImageId'] = test['ImageId']"
   ]
  },
  {
   "cell_type": "code",
   "execution_count": 63,
   "metadata": {},
   "outputs": [
    {
     "data": {
      "text/html": [
       "<div>\n",
       "<style scoped>\n",
       "    .dataframe tbody tr th:only-of-type {\n",
       "        vertical-align: middle;\n",
       "    }\n",
       "\n",
       "    .dataframe tbody tr th {\n",
       "        vertical-align: top;\n",
       "    }\n",
       "\n",
       "    .dataframe thead th {\n",
       "        text-align: right;\n",
       "    }\n",
       "</style>\n",
       "<table border=\"1\" class=\"dataframe\">\n",
       "  <thead>\n",
       "    <tr style=\"text-align: right;\">\n",
       "      <th></th>\n",
       "      <th>left_eye_center_x</th>\n",
       "      <th>left_eye_center_y</th>\n",
       "      <th>right_eye_center_x</th>\n",
       "      <th>right_eye_center_y</th>\n",
       "      <th>left_eye_inner_corner_x</th>\n",
       "      <th>left_eye_inner_corner_y</th>\n",
       "      <th>left_eye_outer_corner_x</th>\n",
       "      <th>left_eye_outer_corner_y</th>\n",
       "      <th>right_eye_inner_corner_x</th>\n",
       "      <th>right_eye_inner_corner_y</th>\n",
       "      <th>...</th>\n",
       "      <th>nose_tip_y</th>\n",
       "      <th>mouth_left_corner_x</th>\n",
       "      <th>mouth_left_corner_y</th>\n",
       "      <th>mouth_right_corner_x</th>\n",
       "      <th>mouth_right_corner_y</th>\n",
       "      <th>mouth_center_top_lip_x</th>\n",
       "      <th>mouth_center_top_lip_y</th>\n",
       "      <th>mouth_center_bottom_lip_x</th>\n",
       "      <th>mouth_center_bottom_lip_y</th>\n",
       "      <th>ImageId</th>\n",
       "    </tr>\n",
       "  </thead>\n",
       "  <tbody>\n",
       "    <tr>\n",
       "      <td>0</td>\n",
       "      <td>63.991754</td>\n",
       "      <td>39.197011</td>\n",
       "      <td>30.875136</td>\n",
       "      <td>39.039367</td>\n",
       "      <td>58.121246</td>\n",
       "      <td>40.283803</td>\n",
       "      <td>69.501190</td>\n",
       "      <td>39.562262</td>\n",
       "      <td>36.950609</td>\n",
       "      <td>38.974348</td>\n",
       "      <td>...</td>\n",
       "      <td>49.137893</td>\n",
       "      <td>63.157389</td>\n",
       "      <td>74.622364</td>\n",
       "      <td>33.718146</td>\n",
       "      <td>75.280380</td>\n",
       "      <td>50.366953</td>\n",
       "      <td>65.123510</td>\n",
       "      <td>49.190326</td>\n",
       "      <td>83.168511</td>\n",
       "      <td>1</td>\n",
       "    </tr>\n",
       "    <tr>\n",
       "      <td>1</td>\n",
       "      <td>69.899118</td>\n",
       "      <td>35.184886</td>\n",
       "      <td>26.816475</td>\n",
       "      <td>35.448372</td>\n",
       "      <td>63.643535</td>\n",
       "      <td>36.660556</td>\n",
       "      <td>76.685998</td>\n",
       "      <td>36.141223</td>\n",
       "      <td>34.175274</td>\n",
       "      <td>36.283901</td>\n",
       "      <td>...</td>\n",
       "      <td>60.926299</td>\n",
       "      <td>64.458165</td>\n",
       "      <td>78.479479</td>\n",
       "      <td>32.430233</td>\n",
       "      <td>78.387789</td>\n",
       "      <td>49.949315</td>\n",
       "      <td>74.199728</td>\n",
       "      <td>49.459616</td>\n",
       "      <td>90.860823</td>\n",
       "      <td>2</td>\n",
       "    </tr>\n",
       "    <tr>\n",
       "      <td>2</td>\n",
       "      <td>64.495864</td>\n",
       "      <td>36.071352</td>\n",
       "      <td>30.265977</td>\n",
       "      <td>36.852919</td>\n",
       "      <td>59.652582</td>\n",
       "      <td>37.326287</td>\n",
       "      <td>69.885023</td>\n",
       "      <td>36.849918</td>\n",
       "      <td>36.296491</td>\n",
       "      <td>37.840305</td>\n",
       "      <td>...</td>\n",
       "      <td>57.459363</td>\n",
       "      <td>59.396803</td>\n",
       "      <td>76.417880</td>\n",
       "      <td>36.365455</td>\n",
       "      <td>75.636756</td>\n",
       "      <td>48.431169</td>\n",
       "      <td>70.435287</td>\n",
       "      <td>47.898488</td>\n",
       "      <td>87.830161</td>\n",
       "      <td>3</td>\n",
       "    </tr>\n",
       "    <tr>\n",
       "      <td>3</td>\n",
       "      <td>66.534467</td>\n",
       "      <td>38.691626</td>\n",
       "      <td>31.224919</td>\n",
       "      <td>39.782071</td>\n",
       "      <td>59.590984</td>\n",
       "      <td>40.257903</td>\n",
       "      <td>73.653232</td>\n",
       "      <td>40.138465</td>\n",
       "      <td>36.591574</td>\n",
       "      <td>40.498252</td>\n",
       "      <td>...</td>\n",
       "      <td>50.477596</td>\n",
       "      <td>64.802529</td>\n",
       "      <td>78.337236</td>\n",
       "      <td>34.251084</td>\n",
       "      <td>78.413050</td>\n",
       "      <td>47.963727</td>\n",
       "      <td>70.367773</td>\n",
       "      <td>48.562618</td>\n",
       "      <td>83.476981</td>\n",
       "      <td>4</td>\n",
       "    </tr>\n",
       "    <tr>\n",
       "      <td>4</td>\n",
       "      <td>66.265270</td>\n",
       "      <td>35.340657</td>\n",
       "      <td>27.205546</td>\n",
       "      <td>37.508351</td>\n",
       "      <td>60.693033</td>\n",
       "      <td>36.710555</td>\n",
       "      <td>72.495006</td>\n",
       "      <td>36.438975</td>\n",
       "      <td>33.625896</td>\n",
       "      <td>38.005709</td>\n",
       "      <td>...</td>\n",
       "      <td>52.679276</td>\n",
       "      <td>66.938157</td>\n",
       "      <td>75.216297</td>\n",
       "      <td>37.712722</td>\n",
       "      <td>76.952725</td>\n",
       "      <td>52.110959</td>\n",
       "      <td>68.725132</td>\n",
       "      <td>52.692635</td>\n",
       "      <td>83.600274</td>\n",
       "      <td>5</td>\n",
       "    </tr>\n",
       "  </tbody>\n",
       "</table>\n",
       "<p>5 rows × 31 columns</p>\n",
       "</div>"
      ],
      "text/plain": [
       "   left_eye_center_x  left_eye_center_y  right_eye_center_x  \\\n",
       "0          63.991754          39.197011           30.875136   \n",
       "1          69.899118          35.184886           26.816475   \n",
       "2          64.495864          36.071352           30.265977   \n",
       "3          66.534467          38.691626           31.224919   \n",
       "4          66.265270          35.340657           27.205546   \n",
       "\n",
       "   right_eye_center_y  left_eye_inner_corner_x  left_eye_inner_corner_y  \\\n",
       "0           39.039367                58.121246                40.283803   \n",
       "1           35.448372                63.643535                36.660556   \n",
       "2           36.852919                59.652582                37.326287   \n",
       "3           39.782071                59.590984                40.257903   \n",
       "4           37.508351                60.693033                36.710555   \n",
       "\n",
       "   left_eye_outer_corner_x  left_eye_outer_corner_y  right_eye_inner_corner_x  \\\n",
       "0                69.501190                39.562262                 36.950609   \n",
       "1                76.685998                36.141223                 34.175274   \n",
       "2                69.885023                36.849918                 36.296491   \n",
       "3                73.653232                40.138465                 36.591574   \n",
       "4                72.495006                36.438975                 33.625896   \n",
       "\n",
       "   right_eye_inner_corner_y  ...  nose_tip_y  mouth_left_corner_x  \\\n",
       "0                 38.974348  ...   49.137893            63.157389   \n",
       "1                 36.283901  ...   60.926299            64.458165   \n",
       "2                 37.840305  ...   57.459363            59.396803   \n",
       "3                 40.498252  ...   50.477596            64.802529   \n",
       "4                 38.005709  ...   52.679276            66.938157   \n",
       "\n",
       "   mouth_left_corner_y  mouth_right_corner_x  mouth_right_corner_y  \\\n",
       "0            74.622364             33.718146             75.280380   \n",
       "1            78.479479             32.430233             78.387789   \n",
       "2            76.417880             36.365455             75.636756   \n",
       "3            78.337236             34.251084             78.413050   \n",
       "4            75.216297             37.712722             76.952725   \n",
       "\n",
       "   mouth_center_top_lip_x  mouth_center_top_lip_y  mouth_center_bottom_lip_x  \\\n",
       "0               50.366953               65.123510                  49.190326   \n",
       "1               49.949315               74.199728                  49.459616   \n",
       "2               48.431169               70.435287                  47.898488   \n",
       "3               47.963727               70.367773                  48.562618   \n",
       "4               52.110959               68.725132                  52.692635   \n",
       "\n",
       "   mouth_center_bottom_lip_y  ImageId  \n",
       "0                  83.168511        1  \n",
       "1                  90.860823        2  \n",
       "2                  87.830161        3  \n",
       "3                  83.476981        4  \n",
       "4                  83.600274        5  \n",
       "\n",
       "[5 rows x 31 columns]"
      ]
     },
     "execution_count": 63,
     "metadata": {},
     "output_type": "execute_result"
    }
   ],
   "source": [
    "test_Y_predict.head()"
   ]
  },
  {
   "cell_type": "code",
   "execution_count": 65,
   "metadata": {},
   "outputs": [],
   "source": [
    "melted_predict = test_Y_predict.melt(id_vars='ImageId')"
   ]
  },
  {
   "cell_type": "code",
   "execution_count": 66,
   "metadata": {},
   "outputs": [],
   "source": [
    "id_lookup_table = pd.read_csv('Data/IdLookupTable.csv')"
   ]
  },
  {
   "cell_type": "code",
   "execution_count": 67,
   "metadata": {},
   "outputs": [
    {
     "data": {
      "text/html": [
       "<div>\n",
       "<style scoped>\n",
       "    .dataframe tbody tr th:only-of-type {\n",
       "        vertical-align: middle;\n",
       "    }\n",
       "\n",
       "    .dataframe tbody tr th {\n",
       "        vertical-align: top;\n",
       "    }\n",
       "\n",
       "    .dataframe thead th {\n",
       "        text-align: right;\n",
       "    }\n",
       "</style>\n",
       "<table border=\"1\" class=\"dataframe\">\n",
       "  <thead>\n",
       "    <tr style=\"text-align: right;\">\n",
       "      <th></th>\n",
       "      <th>RowId</th>\n",
       "      <th>ImageId</th>\n",
       "      <th>FeatureName</th>\n",
       "      <th>Location</th>\n",
       "    </tr>\n",
       "  </thead>\n",
       "  <tbody>\n",
       "    <tr>\n",
       "      <td>0</td>\n",
       "      <td>1</td>\n",
       "      <td>1</td>\n",
       "      <td>left_eye_center_x</td>\n",
       "      <td>NaN</td>\n",
       "    </tr>\n",
       "    <tr>\n",
       "      <td>1</td>\n",
       "      <td>2</td>\n",
       "      <td>1</td>\n",
       "      <td>left_eye_center_y</td>\n",
       "      <td>NaN</td>\n",
       "    </tr>\n",
       "    <tr>\n",
       "      <td>2</td>\n",
       "      <td>3</td>\n",
       "      <td>1</td>\n",
       "      <td>right_eye_center_x</td>\n",
       "      <td>NaN</td>\n",
       "    </tr>\n",
       "    <tr>\n",
       "      <td>3</td>\n",
       "      <td>4</td>\n",
       "      <td>1</td>\n",
       "      <td>right_eye_center_y</td>\n",
       "      <td>NaN</td>\n",
       "    </tr>\n",
       "    <tr>\n",
       "      <td>4</td>\n",
       "      <td>5</td>\n",
       "      <td>1</td>\n",
       "      <td>left_eye_inner_corner_x</td>\n",
       "      <td>NaN</td>\n",
       "    </tr>\n",
       "  </tbody>\n",
       "</table>\n",
       "</div>"
      ],
      "text/plain": [
       "   RowId  ImageId              FeatureName  Location\n",
       "0      1        1        left_eye_center_x       NaN\n",
       "1      2        1        left_eye_center_y       NaN\n",
       "2      3        1       right_eye_center_x       NaN\n",
       "3      4        1       right_eye_center_y       NaN\n",
       "4      5        1  left_eye_inner_corner_x       NaN"
      ]
     },
     "execution_count": 67,
     "metadata": {},
     "output_type": "execute_result"
    }
   ],
   "source": [
    "id_lookup_table.head()"
   ]
  },
  {
   "cell_type": "code",
   "execution_count": 69,
   "metadata": {},
   "outputs": [],
   "source": [
    "melted_predict.columns = ['ImageId', 'FeatureName', 'Location']"
   ]
  },
  {
   "cell_type": "code",
   "execution_count": 71,
   "metadata": {},
   "outputs": [],
   "source": [
    "lm_submission = id_lookup_table[['RowId', 'ImageId', 'FeatureName']].merge(\n",
    "    melted_predict, how = 'left', on = ['ImageId', 'FeatureName'])"
   ]
  },
  {
   "cell_type": "code",
   "execution_count": 72,
   "metadata": {},
   "outputs": [
    {
     "data": {
      "text/plain": [
       "(27124, 4)"
      ]
     },
     "execution_count": 72,
     "metadata": {},
     "output_type": "execute_result"
    }
   ],
   "source": [
    "lm_submission.shape"
   ]
  },
  {
   "cell_type": "code",
   "execution_count": 73,
   "metadata": {},
   "outputs": [
    {
     "data": {
      "text/plain": [
       "(27124, 4)"
      ]
     },
     "execution_count": 73,
     "metadata": {},
     "output_type": "execute_result"
    }
   ],
   "source": [
    "id_lookup_table.shape"
   ]
  },
  {
   "cell_type": "code",
   "execution_count": 74,
   "metadata": {},
   "outputs": [
    {
     "data": {
      "text/plain": [
       "Index(['RowId', 'ImageId', 'FeatureName', 'Location'], dtype='object')"
      ]
     },
     "execution_count": 74,
     "metadata": {},
     "output_type": "execute_result"
    }
   ],
   "source": [
    "lm_submission.columns"
   ]
  },
  {
   "cell_type": "code",
   "execution_count": 75,
   "metadata": {},
   "outputs": [],
   "source": [
    "lm_submission.drop(['ImageId', 'FeatureName'],axis=1,inplace=True)"
   ]
  },
  {
   "cell_type": "code",
   "execution_count": 79,
   "metadata": {},
   "outputs": [],
   "source": [
    "lm_submission['Location'] = lm_submission.Location.round(0)"
   ]
  },
  {
   "cell_type": "code",
   "execution_count": 80,
   "metadata": {},
   "outputs": [
    {
     "name": "stderr",
     "output_type": "stream",
     "text": [
      "C:\\Users\\Maddy\\Anaconda3\\lib\\site-packages\\ipykernel_launcher.py:1: SettingWithCopyWarning: \n",
      "A value is trying to be set on a copy of a slice from a DataFrame\n",
      "\n",
      "See the caveats in the documentation: http://pandas.pydata.org/pandas-docs/stable/user_guide/indexing.html#returning-a-view-versus-a-copy\n",
      "  \"\"\"Entry point for launching an IPython kernel.\n",
      "C:\\Users\\Maddy\\Anaconda3\\lib\\site-packages\\ipykernel_launcher.py:2: SettingWithCopyWarning: \n",
      "A value is trying to be set on a copy of a slice from a DataFrame\n",
      "\n",
      "See the caveats in the documentation: http://pandas.pydata.org/pandas-docs/stable/user_guide/indexing.html#returning-a-view-versus-a-copy\n",
      "  \n"
     ]
    }
   ],
   "source": [
    "lm_submission['Location'][lm_submission.Location > 96] = 96\n",
    "lm_submission['Location'][lm_submission.Location < 0] = 0"
   ]
  },
  {
   "cell_type": "code",
   "execution_count": 81,
   "metadata": {},
   "outputs": [],
   "source": [
    "lm_submission['Location'] = lm_submission.Location.astype(int)"
   ]
  },
  {
   "cell_type": "code",
   "execution_count": 82,
   "metadata": {},
   "outputs": [],
   "source": [
    "lm_submission.to_csv('Output/lm_submission.csv', index = False)"
   ]
  },
  {
   "cell_type": "code",
   "execution_count": null,
   "metadata": {},
   "outputs": [],
   "source": []
  }
 ],
 "metadata": {
  "kernelspec": {
   "display_name": "Python 3",
   "language": "python",
   "name": "python3"
  },
  "language_info": {
   "codemirror_mode": {
    "name": "ipython",
    "version": 3
   },
   "file_extension": ".py",
   "mimetype": "text/x-python",
   "name": "python",
   "nbconvert_exporter": "python",
   "pygments_lexer": "ipython3",
   "version": "3.7.3"
  }
 },
 "nbformat": 4,
 "nbformat_minor": 2
}
